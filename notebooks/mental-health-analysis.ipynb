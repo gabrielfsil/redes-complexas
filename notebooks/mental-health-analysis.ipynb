{
 "cells": [
  {
   "cell_type": "code",
   "execution_count": 252,
   "id": "b66c13cd-4b28-4b83-8955-3b76dfe2b39c",
   "metadata": {},
   "outputs": [],
   "source": [
    "import pandas as pd"
   ]
  },
  {
   "cell_type": "code",
   "execution_count": 253,
   "id": "46a04831-bfe7-428e-9f90-29e8f5cf2ffc",
   "metadata": {},
   "outputs": [
    {
     "name": "stdout",
     "output_type": "stream",
     "text": [
      "<class 'pandas.core.frame.DataFrame'>\n",
      "RangeIndex: 579 entries, 0 to 578\n",
      "Columns: 118 entries, year_1 to race_6\n",
      "dtypes: int64(49), object(69)\n",
      "memory usage: 533.9+ KB\n"
     ]
    }
   ],
   "source": [
    "data = pd.read_csv(\"../data/MENTAL HEALTH DATA.csv\")\n",
    "data.info()"
   ]
  },
  {
   "cell_type": "code",
   "execution_count": 254,
   "id": "3997b872-6e07-4806-b9cb-c43e10bfa3e0",
   "metadata": {},
   "outputs": [
    {
     "data": {
      "text/html": [
       "<div>\n",
       "<style scoped>\n",
       "    .dataframe tbody tr th:only-of-type {\n",
       "        vertical-align: middle;\n",
       "    }\n",
       "\n",
       "    .dataframe tbody tr th {\n",
       "        vertical-align: top;\n",
       "    }\n",
       "\n",
       "    .dataframe thead th {\n",
       "        text-align: right;\n",
       "    }\n",
       "</style>\n",
       "<table border=\"1\" class=\"dataframe\">\n",
       "  <thead>\n",
       "    <tr style=\"text-align: right;\">\n",
       "      <th></th>\n",
       "      <th>year_1</th>\n",
       "      <th>state_1</th>\n",
       "      <th>general_health</th>\n",
       "      <th>phq9_1</th>\n",
       "      <th>phq9_2</th>\n",
       "      <th>phq9_3</th>\n",
       "      <th>phq9_4</th>\n",
       "      <th>phq9_5</th>\n",
       "      <th>phq9_6</th>\n",
       "      <th>phq9_7</th>\n",
       "      <th>...</th>\n",
       "      <th>acha_12months_any_comp</th>\n",
       "      <th>sex</th>\n",
       "      <th>fulltime</th>\n",
       "      <th>international</th>\n",
       "      <th>race_1</th>\n",
       "      <th>race_2</th>\n",
       "      <th>race_3</th>\n",
       "      <th>race_4</th>\n",
       "      <th>race_5</th>\n",
       "      <th>race_6</th>\n",
       "    </tr>\n",
       "  </thead>\n",
       "  <tbody>\n",
       "    <tr>\n",
       "      <th>0</th>\n",
       "      <td>2000</td>\n",
       "      <td>MD</td>\n",
       "      <td>Very Good</td>\n",
       "      <td>Several days</td>\n",
       "      <td>Several days</td>\n",
       "      <td>Not at all</td>\n",
       "      <td>Several days</td>\n",
       "      <td>Not at all</td>\n",
       "      <td>Not at all</td>\n",
       "      <td>More than half of the days</td>\n",
       "      <td>...</td>\n",
       "      <td>2</td>\n",
       "      <td>Female</td>\n",
       "      <td>Yes</td>\n",
       "      <td>No</td>\n",
       "      <td>NaN</td>\n",
       "      <td>NaN</td>\n",
       "      <td>NaN</td>\n",
       "      <td>Asian or Pacific Islander</td>\n",
       "      <td>NaN</td>\n",
       "      <td>NaN</td>\n",
       "    </tr>\n",
       "    <tr>\n",
       "      <th>1</th>\n",
       "      <td>2001</td>\n",
       "      <td>SC</td>\n",
       "      <td>Good</td>\n",
       "      <td>More than half of the days</td>\n",
       "      <td>More than half of the days</td>\n",
       "      <td>Nearly every day</td>\n",
       "      <td>Nearly every day</td>\n",
       "      <td>Nearly every day</td>\n",
       "      <td>Several days</td>\n",
       "      <td>Nearly every day</td>\n",
       "      <td>...</td>\n",
       "      <td>0</td>\n",
       "      <td>Female</td>\n",
       "      <td>Yes</td>\n",
       "      <td>No</td>\n",
       "      <td>NaN</td>\n",
       "      <td>NaN</td>\n",
       "      <td>NaN</td>\n",
       "      <td>Asian or Pacific Islander</td>\n",
       "      <td>NaN</td>\n",
       "      <td>NaN</td>\n",
       "    </tr>\n",
       "    <tr>\n",
       "      <th>2</th>\n",
       "      <td>1999</td>\n",
       "      <td>NJ</td>\n",
       "      <td>Good</td>\n",
       "      <td>Several days</td>\n",
       "      <td>Several days</td>\n",
       "      <td>More than half of the days</td>\n",
       "      <td>More than half of the days</td>\n",
       "      <td>Several days</td>\n",
       "      <td>Several days</td>\n",
       "      <td>Several days</td>\n",
       "      <td>...</td>\n",
       "      <td>2</td>\n",
       "      <td>Female</td>\n",
       "      <td>Yes</td>\n",
       "      <td>No</td>\n",
       "      <td>NaN</td>\n",
       "      <td>NaN</td>\n",
       "      <td>Hispanic or Latino</td>\n",
       "      <td>Asian or Pacific Islander</td>\n",
       "      <td>NaN</td>\n",
       "      <td>NaN</td>\n",
       "    </tr>\n",
       "    <tr>\n",
       "      <th>3</th>\n",
       "      <td>1998</td>\n",
       "      <td>NY</td>\n",
       "      <td>Good</td>\n",
       "      <td>Several days</td>\n",
       "      <td>Several days</td>\n",
       "      <td>Nearly every day</td>\n",
       "      <td>Nearly every day</td>\n",
       "      <td>Not at all</td>\n",
       "      <td>Several days</td>\n",
       "      <td>Several days</td>\n",
       "      <td>...</td>\n",
       "      <td>2</td>\n",
       "      <td>Female</td>\n",
       "      <td>Yes</td>\n",
       "      <td>No</td>\n",
       "      <td>White - not Hispanic (includes Middle Eastern)</td>\n",
       "      <td>NaN</td>\n",
       "      <td>NaN</td>\n",
       "      <td>NaN</td>\n",
       "      <td>NaN</td>\n",
       "      <td>NaN</td>\n",
       "    </tr>\n",
       "    <tr>\n",
       "      <th>4</th>\n",
       "      <td>2000</td>\n",
       "      <td>PA</td>\n",
       "      <td>Very Good</td>\n",
       "      <td>Not at all</td>\n",
       "      <td>Several days</td>\n",
       "      <td>Several days</td>\n",
       "      <td>Several days</td>\n",
       "      <td>Several days</td>\n",
       "      <td>Several days</td>\n",
       "      <td>Several days</td>\n",
       "      <td>...</td>\n",
       "      <td>5</td>\n",
       "      <td>Female</td>\n",
       "      <td>Yes</td>\n",
       "      <td>No</td>\n",
       "      <td>White - not Hispanic (includes Middle Eastern)</td>\n",
       "      <td>NaN</td>\n",
       "      <td>NaN</td>\n",
       "      <td>NaN</td>\n",
       "      <td>NaN</td>\n",
       "      <td>NaN</td>\n",
       "    </tr>\n",
       "  </tbody>\n",
       "</table>\n",
       "<p>5 rows × 118 columns</p>\n",
       "</div>"
      ],
      "text/plain": [
       "   year_1 state_1 general_health                      phq9_1  \\\n",
       "0    2000      MD      Very Good                Several days   \n",
       "1    2001      SC           Good  More than half of the days   \n",
       "2    1999      NJ           Good                Several days   \n",
       "3    1998      NY           Good                Several days   \n",
       "4    2000      PA      Very Good                  Not at all   \n",
       "\n",
       "                       phq9_2                      phq9_3  \\\n",
       "0                Several days                  Not at all   \n",
       "1  More than half of the days            Nearly every day   \n",
       "2                Several days  More than half of the days   \n",
       "3                Several days            Nearly every day   \n",
       "4                Several days                Several days   \n",
       "\n",
       "                       phq9_4            phq9_5        phq9_6  \\\n",
       "0                Several days        Not at all    Not at all   \n",
       "1            Nearly every day  Nearly every day  Several days   \n",
       "2  More than half of the days      Several days  Several days   \n",
       "3            Nearly every day        Not at all  Several days   \n",
       "4                Several days      Several days  Several days   \n",
       "\n",
       "                       phq9_7  ... acha_12months_any_comp     sex  fulltime  \\\n",
       "0  More than half of the days  ...                      2  Female       Yes   \n",
       "1            Nearly every day  ...                      0  Female       Yes   \n",
       "2                Several days  ...                      2  Female       Yes   \n",
       "3                Several days  ...                      2  Female       Yes   \n",
       "4                Several days  ...                      5  Female       Yes   \n",
       "\n",
       "   international                                          race_1  race_2  \\\n",
       "0             No                                             NaN     NaN   \n",
       "1             No                                             NaN     NaN   \n",
       "2             No                                             NaN     NaN   \n",
       "3             No  White - not Hispanic (includes Middle Eastern)     NaN   \n",
       "4             No  White - not Hispanic (includes Middle Eastern)     NaN   \n",
       "\n",
       "               race_3                     race_4  race_5  race_6  \n",
       "0                 NaN  Asian or Pacific Islander     NaN     NaN  \n",
       "1                 NaN  Asian or Pacific Islander     NaN     NaN  \n",
       "2  Hispanic or Latino  Asian or Pacific Islander     NaN     NaN  \n",
       "3                 NaN                        NaN     NaN     NaN  \n",
       "4                 NaN                        NaN     NaN     NaN  \n",
       "\n",
       "[5 rows x 118 columns]"
      ]
     },
     "execution_count": 254,
     "metadata": {},
     "output_type": "execute_result"
    }
   ],
   "source": [
    "data.head()"
   ]
  },
  {
   "cell_type": "code",
   "execution_count": 255,
   "id": "897e1408-58ed-4fd0-897c-1fbd99cb79b4",
   "metadata": {
    "scrolled": true
   },
   "outputs": [
    {
     "data": {
      "text/plain": [
       "['year_1',\n",
       " 'state_1',\n",
       " 'general_health',\n",
       " 'phq9_1',\n",
       " 'phq9_2',\n",
       " 'phq9_3',\n",
       " 'phq9_4',\n",
       " 'phq9_5',\n",
       " 'phq9_6',\n",
       " 'phq9_7',\n",
       " 'phq9_8',\n",
       " 'phq9_9',\n",
       " 'phq9_1NUM',\n",
       " 'phq9_2NUM',\n",
       " 'phq9_3NUM',\n",
       " 'phq9_4NUM',\n",
       " 'phq9_5NUM',\n",
       " 'phq9_6 NUM',\n",
       " 'phq9_7NUM',\n",
       " 'phq9_8NUM',\n",
       " 'phq9_9NUM',\n",
       " 'phq9_COMP',\n",
       " 'phq9_severity',\n",
       " 'gad7_1',\n",
       " 'gad7_2',\n",
       " 'gad7_3',\n",
       " 'gad7_4',\n",
       " 'gad7_5',\n",
       " 'gad7_6',\n",
       " 'gad7_7',\n",
       " 'gad7_1NUM',\n",
       " 'gad7_2NUM',\n",
       " 'gad7_3NUM',\n",
       " 'gad7_4NUM',\n",
       " 'gad7_5NUM',\n",
       " 'gad7_6NUM',\n",
       " 'gad7_7NUM',\n",
       " 'gad7_COMP',\n",
       " 'gad7_severity',\n",
       " 'acha_12months_times_1',\n",
       " 'acha_12months_times_2',\n",
       " 'acha_12months_times_3',\n",
       " 'acha_12months_times_4',\n",
       " 'acha_12months_times_5',\n",
       " 'acha_12months_times_6',\n",
       " 'acha_12months_times_7',\n",
       " 'acha_depression',\n",
       " 'acha_services_1',\n",
       " 'acha_services_2',\n",
       " 'acha_services_3',\n",
       " 'acha_12months_any_1',\n",
       " 'acha_12months_any_2',\n",
       " 'acha_12months_any_3',\n",
       " 'acha_12months_any_4',\n",
       " 'acha_12months_any_5',\n",
       " 'acha_12months_any_6',\n",
       " 'acha_12months_any_7',\n",
       " 'acha_12months_any_8',\n",
       " 'acha_12months_any_9',\n",
       " 'acha_12months_any_10',\n",
       " 'acha_12months_any_11',\n",
       " 'acha_12months_any_12',\n",
       " 'acha_12months_any_13',\n",
       " 'acha_12months_any_14',\n",
       " 'acha_12months_any_15',\n",
       " 'acha_12months_any_16',\n",
       " 'acha_12months_any_17',\n",
       " 'acha_12months_any_18',\n",
       " 'acha_12months_any_19',\n",
       " 'acha_12months_any_20',\n",
       " 'acha_12months_any_21',\n",
       " 'acha_12months_any_22',\n",
       " 'acha_12months_any_23',\n",
       " 'acha_12months_any_24',\n",
       " 'acha_12months_any_25',\n",
       " 'acha_12months_any_26',\n",
       " 'acha_12months_any_27',\n",
       " 'acha_12months_any_28',\n",
       " 'acha_12months_any_29',\n",
       " 'acha_12months_any_1NUM',\n",
       " 'acha_12months_any_2NUM',\n",
       " 'acha_12months_any_3NUM',\n",
       " 'acha_12months_any_4NUM',\n",
       " 'acha_12months_any_5NUM',\n",
       " 'acha_12months_any_6NUM',\n",
       " 'acha_12months_any_7NUM',\n",
       " 'acha_12months_any_8NUM',\n",
       " 'acha_12months_any_9NUM',\n",
       " 'acha_12months_any_10NUM',\n",
       " 'acha_12months_any_11NUM',\n",
       " 'acha_12months_any_12NUM',\n",
       " 'acha_12months_any_13NUM',\n",
       " 'acha_12months_any_14NUM',\n",
       " 'acha_12months_any_15NUM',\n",
       " 'acha_12months_any_16NUM',\n",
       " 'acha_12months_any_17NUM',\n",
       " 'acha_12months_any_18NUM',\n",
       " 'acha_12months_any_19NUM',\n",
       " 'acha_12months_any_20NUM',\n",
       " 'acha_12months_any_21NUM',\n",
       " 'acha_12months_any_22NUM',\n",
       " 'acha_12months_any_23NUM',\n",
       " 'acha_12months_any_24NUM',\n",
       " 'acha_12months_any_25NUM',\n",
       " 'acha_12months_any_26NUM',\n",
       " 'acha_12months_any_27NUM',\n",
       " 'acha_12months_any_28NUM',\n",
       " 'acha_12months_any_29NUM',\n",
       " 'acha_12months_any_comp',\n",
       " 'sex',\n",
       " 'fulltime',\n",
       " 'international',\n",
       " 'race_1',\n",
       " 'race_2',\n",
       " 'race_3',\n",
       " 'race_4',\n",
       " 'race_5',\n",
       " 'race_6']"
      ]
     },
     "execution_count": 255,
     "metadata": {},
     "output_type": "execute_result"
    }
   ],
   "source": [
    "list(data.columns)"
   ]
  },
  {
   "cell_type": "code",
   "execution_count": 256,
   "id": "a3345a84-96d9-4c6d-85b1-5323da6954de",
   "metadata": {},
   "outputs": [
    {
     "data": {
      "text/plain": [
       "['year_1',\n",
       " 'state_1',\n",
       " 'general_health',\n",
       " 'phq9_1',\n",
       " 'phq9_2',\n",
       " 'phq9_3',\n",
       " 'phq9_4',\n",
       " 'phq9_5',\n",
       " 'phq9_6',\n",
       " 'phq9_7',\n",
       " 'phq9_8',\n",
       " 'phq9_9',\n",
       " 'phq9_COMP',\n",
       " 'phq9_severity',\n",
       " 'gad7_1',\n",
       " 'gad7_2',\n",
       " 'gad7_3',\n",
       " 'gad7_4',\n",
       " 'gad7_5',\n",
       " 'gad7_6',\n",
       " 'gad7_7',\n",
       " 'gad7_COMP',\n",
       " 'gad7_severity',\n",
       " 'acha_12months_times_1',\n",
       " 'acha_12months_times_2',\n",
       " 'acha_12months_times_3',\n",
       " 'acha_12months_times_4',\n",
       " 'acha_12months_times_5',\n",
       " 'acha_12months_times_6',\n",
       " 'acha_12months_times_7',\n",
       " 'acha_depression',\n",
       " 'acha_services_1',\n",
       " 'acha_services_2',\n",
       " 'acha_services_3',\n",
       " 'acha_12months_any_1',\n",
       " 'acha_12months_any_2',\n",
       " 'acha_12months_any_3',\n",
       " 'acha_12months_any_4',\n",
       " 'acha_12months_any_5',\n",
       " 'acha_12months_any_6',\n",
       " 'acha_12months_any_7',\n",
       " 'acha_12months_any_8',\n",
       " 'acha_12months_any_9',\n",
       " 'acha_12months_any_10',\n",
       " 'acha_12months_any_11',\n",
       " 'acha_12months_any_12',\n",
       " 'acha_12months_any_13',\n",
       " 'acha_12months_any_14',\n",
       " 'acha_12months_any_15',\n",
       " 'acha_12months_any_16',\n",
       " 'acha_12months_any_17',\n",
       " 'acha_12months_any_18',\n",
       " 'acha_12months_any_19',\n",
       " 'acha_12months_any_20',\n",
       " 'acha_12months_any_21',\n",
       " 'acha_12months_any_22',\n",
       " 'acha_12months_any_23',\n",
       " 'acha_12months_any_24',\n",
       " 'acha_12months_any_25',\n",
       " 'acha_12months_any_26',\n",
       " 'acha_12months_any_27',\n",
       " 'acha_12months_any_28',\n",
       " 'acha_12months_any_29',\n",
       " 'acha_12months_any_comp',\n",
       " 'sex',\n",
       " 'fulltime',\n",
       " 'international',\n",
       " 'race_1',\n",
       " 'race_2',\n",
       " 'race_3',\n",
       " 'race_4',\n",
       " 'race_5',\n",
       " 'race_6']"
      ]
     },
     "execution_count": 256,
     "metadata": {},
     "output_type": "execute_result"
    }
   ],
   "source": [
    "data = data.drop(columns=[ \n",
    " 'phq9_1NUM',\n",
    " 'phq9_2NUM',\n",
    " 'phq9_3NUM',\n",
    " 'phq9_4NUM',\n",
    " 'phq9_5NUM',\n",
    " 'phq9_6 NUM',\n",
    " 'phq9_7NUM',\n",
    " 'phq9_8NUM',\n",
    " 'phq9_9NUM',\n",
    " 'gad7_1NUM',\n",
    " 'gad7_2NUM',\n",
    " 'gad7_3NUM',\n",
    " 'gad7_4NUM',\n",
    " 'gad7_5NUM',\n",
    " 'gad7_6NUM',\n",
    " 'gad7_7NUM',\n",
    " 'acha_12months_any_1NUM',\n",
    " 'acha_12months_any_2NUM',\n",
    " 'acha_12months_any_3NUM',\n",
    " 'acha_12months_any_4NUM',\n",
    " 'acha_12months_any_5NUM',\n",
    " 'acha_12months_any_6NUM',\n",
    " 'acha_12months_any_7NUM',\n",
    " 'acha_12months_any_8NUM',\n",
    " 'acha_12months_any_9NUM',\n",
    " 'acha_12months_any_10NUM',\n",
    " 'acha_12months_any_11NUM',\n",
    " 'acha_12months_any_12NUM',\n",
    " 'acha_12months_any_13NUM',\n",
    " 'acha_12months_any_14NUM',\n",
    " 'acha_12months_any_15NUM',\n",
    " 'acha_12months_any_16NUM',\n",
    " 'acha_12months_any_17NUM',\n",
    " 'acha_12months_any_18NUM',\n",
    " 'acha_12months_any_19NUM',\n",
    " 'acha_12months_any_20NUM',\n",
    " 'acha_12months_any_21NUM',\n",
    " 'acha_12months_any_22NUM',\n",
    " 'acha_12months_any_23NUM',\n",
    " 'acha_12months_any_24NUM',\n",
    " 'acha_12months_any_25NUM',\n",
    " 'acha_12months_any_26NUM',\n",
    " 'acha_12months_any_27NUM',\n",
    " 'acha_12months_any_28NUM',\n",
    " 'acha_12months_any_29NUM'\n",
    "])\n",
    "\n",
    "list(data.columns)"
   ]
  },
  {
   "cell_type": "code",
   "execution_count": 257,
   "id": "ba0b101f-2fed-462f-94ef-993d48a930d8",
   "metadata": {},
   "outputs": [
    {
     "data": {
      "text/plain": [
       "general_health\n",
       "describe your general health as good         227\n",
       "describe your general health as very good    178\n",
       "describe your general health as fair         103\n",
       "describe your general health as excellent     42\n",
       "describe your general health as poor          29\n",
       "Name: count, dtype: int64"
      ]
     },
     "execution_count": 257,
     "metadata": {},
     "output_type": "execute_result"
    }
   ],
   "source": [
    "general_health_dict = {\n",
    "    \"Poor\": \"describe your general health as poor\",\n",
    "    \"Fair\": \"describe your general health as fair\",\n",
    "    \"Good\": \"describe your general health as good\",\n",
    "    \"Very Good\": \"describe your general health as very good\",\n",
    "    \"Excellent\": \"describe your general health as excellent\"\n",
    "}\n",
    "\n",
    "data[\"general_health\"] = data[\"general_health\"].replace(general_health_dict)\n",
    "data[\"general_health\"].value_counts()"
   ]
  },
  {
   "cell_type": "code",
   "execution_count": 258,
   "id": "c8364751-c8ca-4226-b517-8152c244c649",
   "metadata": {},
   "outputs": [
    {
     "data": {
      "text/plain": [
       "phq9_1\n",
       "several days you been bothered bylittle interest or pleasure in doing things                  248\n",
       "not at all you been bothered bylittle interest or pleasure in doing things                    182\n",
       "more than half of the days you been bothered bylittle interest or pleasure in doing things    102\n",
       "nearly every day you been bothered bylittle interest or pleasure in doing things               47\n",
       "Name: count, dtype: int64"
      ]
     },
     "execution_count": 258,
     "metadata": {},
     "output_type": "execute_result"
    }
   ],
   "source": [
    "phq9_1_dict = {\n",
    "    \"Not at all\": \"not at all you been bothered by little interest or pleasure in doing things\",\n",
    "    \"Several days\": \"several days you been bothered by little interest or pleasure in doing things\",\n",
    "    \"More than half of the days\": \"more than half of the days you been bothered by little interest or pleasure in doing things\",\n",
    "    \"Nearly every day\": \"nearly every day you been bothered by little interest or pleasure in doing things\"\n",
    "}\n",
    "\n",
    "data[\"phq9_1\"] = data[\"phq9_1\"].replace(phq9_1_dict)\n",
    "data[\"phq9_1\"].value_counts()"
   ]
  },
  {
   "cell_type": "code",
   "execution_count": 259,
   "id": "7977594b-9073-41c7-8a5b-61d6a5b54d75",
   "metadata": {},
   "outputs": [
    {
     "data": {
      "text/plain": [
       "phq9_2\n",
       "several days you been bothered byfeeling down, depressed, or hopeless                  248\n",
       "not at all you been bothered byfeeling down, depressed, or hopeless                    176\n",
       "more than half of the days you been bothered byfeeling down, depressed, or hopeless     96\n",
       "nearly every day you been bothered byfeeling down, depressed, or hopeless               59\n",
       "Name: count, dtype: int64"
      ]
     },
     "execution_count": 259,
     "metadata": {},
     "output_type": "execute_result"
    }
   ],
   "source": [
    "phq9_2_dict = {\n",
    "    \"Not at all\": \"not at all you been bothered by feeling down, depressed, or hopeless\",\n",
    "    \"Several days\": \"several days you been bothered by feeling down, depressed, or hopeless\",\n",
    "    \"More than half of the days\": \"more than half of the days you been bothered by feeling down, depressed, or hopeless\",\n",
    "    \"Nearly every day\": \"nearly every day you been bothered by feeling down, depressed, or hopeless\"\n",
    "}\n",
    "\n",
    "data[\"phq9_2\"] = data[\"phq9_2\"].replace(phq9_2_dict)\n",
    "data[\"phq9_2\"].value_counts()"
   ]
  },
  {
   "cell_type": "code",
   "execution_count": 260,
   "id": "fc3cc799-f326-4079-ac0d-e64ef7081edf",
   "metadata": {},
   "outputs": [
    {
     "data": {
      "text/plain": [
       "phq9_3\n",
       "several days you been bothered bytrouble falling or staying asleep, or sleeping too much                  213\n",
       "more than half of the days you been bothered bytrouble falling or staying asleep, or sleeping too much    143\n",
       "not at all you been bothered bytrouble falling or staying asleep, or sleeping too much                    130\n",
       "nearly every day you been bothered bytrouble falling or staying asleep, or sleeping too much               93\n",
       "Name: count, dtype: int64"
      ]
     },
     "execution_count": 260,
     "metadata": {},
     "output_type": "execute_result"
    }
   ],
   "source": [
    "phq9_3_dict = {\n",
    "    \"Not at all\": \"not at all you been bothered by trouble falling or staying asleep, or sleeping too much\",\n",
    "    \"Several days\": \"several days you been bothered by trouble falling or staying asleep, or sleeping too much\",\n",
    "    \"More than half of the days\": \"more than half of the days you been bothered by trouble falling or staying asleep, or sleeping too much\",\n",
    "    \"Nearly every day\": \"nearly every day you been bothered by trouble falling or staying asleep, or sleeping too much\"\n",
    "}\n",
    "\n",
    "data[\"phq9_3\"] = data[\"phq9_3\"].replace(phq9_3_dict)\n",
    "data[\"phq9_3\"].value_counts()"
   ]
  },
  {
   "cell_type": "code",
   "execution_count": 261,
   "id": "bab0f730-3c62-4ce1-a652-8012cd04ae91",
   "metadata": {},
   "outputs": [
    {
     "data": {
      "text/plain": [
       "phq9_4\n",
       "several days you been bothered byfeeling tired or having little energy                  222\n",
       "more than half of the days you been bothered byfeeling tired or having little energy    157\n",
       "nearly every day you been bothered byfeeling tired or having little energy              124\n",
       "not at all you been bothered byfeeling tired or having little energy                     76\n",
       "Name: count, dtype: int64"
      ]
     },
     "execution_count": 261,
     "metadata": {},
     "output_type": "execute_result"
    }
   ],
   "source": [
    "phq9_4_dict = {\n",
    "    \"Not at all\": \"not at all you been bothered by feeling tired or having little energy\",\n",
    "    \"Several days\": \"several days you been bothered by feeling tired or having little energy\",\n",
    "    \"More than half of the days\": \"more than half of the days you been bothered by feeling tired or having little energy\",\n",
    "    \"Nearly every day\": \"nearly every day you been bothered by feeling tired or having little energy\"\n",
    "}\n",
    "\n",
    "data[\"phq9_4\"] = data[\"phq9_4\"].replace(phq9_4_dict)\n",
    "data[\"phq9_4\"].value_counts()"
   ]
  },
  {
   "cell_type": "code",
   "execution_count": 262,
   "id": "2bd18271-81da-4a40-8982-a3eace06baf3",
   "metadata": {},
   "outputs": [
    {
     "data": {
      "text/plain": [
       "phq9_5\n",
       "several days you been bothered bypoor appetite or overeating                  187\n",
       "not at all you been bothered bypoor appetite or overeating                    175\n",
       "more than half of the days you been bothered bypoor appetite or overeating    128\n",
       "nearly every day you been bothered bypoor appetite or overeating               89\n",
       "Name: count, dtype: int64"
      ]
     },
     "execution_count": 262,
     "metadata": {},
     "output_type": "execute_result"
    }
   ],
   "source": [
    "phq9_5_dict = {\n",
    "    \"Not at all\": \"not at all you been bothered by poor appetite or overeating\",\n",
    "    \"Several days\": \"several days you been bothered by poor appetite or overeating\",\n",
    "    \"More than half of the days\": \"more than half of the days you been bothered by poor appetite or overeating\",\n",
    "    \"Nearly every day\": \"nearly every day you been bothered by poor appetite or overeating\"\n",
    "}\n",
    "\n",
    "data[\"phq9_5\"] = data[\"phq9_5\"].replace(phq9_5_dict)\n",
    "data[\"phq9_5\"].value_counts()"
   ]
  },
  {
   "cell_type": "code",
   "execution_count": 263,
   "id": "5119551b-54ef-40ea-9ecf-db6d6a32db56",
   "metadata": {},
   "outputs": [
    {
     "data": {
      "text/plain": [
       "phq9_6\n",
       "not at all you been bothered byfeeling bad about yourself or that you are a failure or have let yourself or your family down                    208\n",
       "several days you been bothered byfeeling bad about yourself or that you are a failure or have let yourself or your family down                  167\n",
       "more than half of the days you been bothered byfeeling bad about yourself or that you are a failure or have let yourself or your family down    129\n",
       "nearly every day you been bothered byfeeling bad about yourself or that you are a failure or have let yourself or your family down               75\n",
       "Name: count, dtype: int64"
      ]
     },
     "execution_count": 263,
     "metadata": {},
     "output_type": "execute_result"
    }
   ],
   "source": [
    "phq9_6_dict = {\n",
    "    \"Not at all\": \"not at all you been bothered by feeling bad about yourself or that you are a failure or have let yourself or your family down\",\n",
    "    \"Several days\": \"several days you been bothered by feeling bad about yourself or that you are a failure or have let yourself or your family down\",\n",
    "    \"More than half of the days\": \"more than half of the days you been bothered by feeling bad about yourself or that you are a failure or have let yourself or your family down\",\n",
    "    \"Nearly every day\": \"nearly every day you been bothered by feeling bad about yourself or that you are a failure or have let yourself or your family down\"\n",
    "}\n",
    "\n",
    "data[\"phq9_6\"] = data[\"phq9_6\"].replace(phq9_6_dict)\n",
    "data[\"phq9_6\"].value_counts()"
   ]
  },
  {
   "cell_type": "code",
   "execution_count": 264,
   "id": "1f169683-8835-440d-82c3-0d726b85138a",
   "metadata": {},
   "outputs": [
    {
     "data": {
      "text/plain": [
       "phq9_7\n",
       "several days you been bothered bytrouble concentrating on things, such as reading the newspaper or watching television                  203\n",
       "not at all you been bothered bytrouble concentrating on things, such as reading the newspaper or watching television                    174\n",
       "more than half of the days you been bothered bytrouble concentrating on things, such as reading the newspaper or watching television    121\n",
       "nearly every day you been bothered bytrouble concentrating on things, such as reading the newspaper or watching television               81\n",
       "Name: count, dtype: int64"
      ]
     },
     "execution_count": 264,
     "metadata": {},
     "output_type": "execute_result"
    }
   ],
   "source": [
    "phq9_7_dict = {\n",
    "    \"Not at all\": \"not at all you been bothered by trouble concentrating on things, such as reading the newspaper or watching television\",\n",
    "    \"Several days\": \"several days you been bothered by trouble concentrating on things, such as reading the newspaper or watching television\",\n",
    "    \"More than half of the days\": \"more than half of the days you been bothered by trouble concentrating on things, such as reading the newspaper or watching television\",\n",
    "    \"Nearly every day\": \"nearly every day you been bothered by trouble concentrating on things, such as reading the newspaper or watching television\"\n",
    "}\n",
    "\n",
    "data[\"phq9_7\"] = data[\"phq9_7\"].replace(phq9_7_dict)\n",
    "data[\"phq9_7\"].value_counts()"
   ]
  },
  {
   "cell_type": "code",
   "execution_count": 265,
   "id": "f4509df9-a352-469b-a678-f0d80b326d06",
   "metadata": {},
   "outputs": [
    {
     "data": {
      "text/plain": [
       "phq9_8\n",
       "not at all you been bothered bymoving or speaking so slowly that other people could have noticed or the opposite - being so fidgety or restless that you have been moving a lot more than usual                    403\n",
       "several days you been bothered bymoving or speaking so slowly that other people could have noticed or the opposite - being so fidgety or restless that you have been moving a lot more than usual                  118\n",
       "more than half of the days you been bothered bymoving or speaking so slowly that other people could have noticed or the opposite - being so fidgety or restless that you have been moving a lot more than usual     38\n",
       "nearly every day you been bothered bymoving or speaking so slowly that other people could have noticed or the opposite - being so fidgety or restless that you have been moving a lot more than usual               20\n",
       "Name: count, dtype: int64"
      ]
     },
     "execution_count": 265,
     "metadata": {},
     "output_type": "execute_result"
    }
   ],
   "source": [
    "phq9_8_dict = {\n",
    "    \"Not at all\": \"not at all you been bothered by moving or speaking so slowly that other people could have noticed or the opposite - being so fidgety or restless that you have been moving a lot more than usual\",\n",
    "    \"Several days\": \"several days you been bothered by moving or speaking so slowly that other people could have noticed or the opposite - being so fidgety or restless that you have been moving a lot more than usual\",\n",
    "    \"More than half of the days\": \"more than half of the days you been bothered by moving or speaking so slowly that other people could have noticed or the opposite - being so fidgety or restless that you have been moving a lot more than usual\",\n",
    "    \"Nearly every day\": \"nearly every day you been bothered by moving or speaking so slowly that other people could have noticed or the opposite - being so fidgety or restless that you have been moving a lot more than usual\"\n",
    "}\n",
    "\n",
    "data[\"phq9_8\"] = data[\"phq9_8\"].replace(phq9_8_dict)\n",
    "data[\"phq9_8\"].value_counts()"
   ]
  },
  {
   "cell_type": "code",
   "execution_count": 266,
   "id": "d9b33b50-6361-4c71-8452-37c851ecbc70",
   "metadata": {},
   "outputs": [
    {
     "data": {
      "text/plain": [
       "phq9_9\n",
       "not at all you been bothered bythoughts that you would be better off dead, or thoughts of hurting yourself in some way                    429\n",
       "several days you been bothered bythoughts that you would be better off dead, or thoughts of hurting yourself in some way                   93\n",
       "more than half of the days you been bothered bythoughts that you would be better off dead, or thoughts of hurting yourself in some way     35\n",
       "nearly every day you been bothered bythoughts that you would be better off dead, or thoughts of hurting yourself in some way               22\n",
       "Name: count, dtype: int64"
      ]
     },
     "execution_count": 266,
     "metadata": {},
     "output_type": "execute_result"
    }
   ],
   "source": [
    "phq9_9_dict = {\n",
    "    \"Not at all\": \"not at all you been bothered by thoughts that you would be better off dead, or thoughts of hurting yourself in some way\",\n",
    "    \"Several days\": \"several days you been bothered by thoughts that you would be better off dead, or thoughts of hurting yourself in some way\",\n",
    "    \"More than half of the days\": \"more than half of the days you been bothered by thoughts that you would be better off dead, or thoughts of hurting yourself in some way\",\n",
    "    \"Nearly every day\": \"nearly every day you been bothered by thoughts that you would be better off dead, or thoughts of hurting yourself in some way\"\n",
    "}\n",
    "\n",
    "data[\"phq9_9\"] = data[\"phq9_9\"].replace(phq9_9_dict)\n",
    "data[\"phq9_9\"].value_counts()"
   ]
  },
  {
   "cell_type": "markdown",
   "id": "c7b43c0c-755a-4b37-89bf-bceea7f0d0be",
   "metadata": {},
   "source": [
    "- Not at all: 0\n",
    "- Several days: 1\n",
    "- More than half of the days: 2\n",
    "- Nearly every day: 3\n",
    "\n",
    "Based on previous phq9_XNUM responses, individuals’ composite scores for depression severity were calculated.\n",
    "\n",
    "    • 0-4: Minimal depression\n",
    "    • 5-9: Mild depression\n",
    "    • 10-14: Moderate depression\n",
    "    • 15-19: Moderately severe depression\n",
    "    • 20-27: Severe depression "
   ]
  },
  {
   "cell_type": "code",
   "execution_count": 267,
   "id": "8501858b-8bac-4525-89b1-a368511a64c7",
   "metadata": {},
   "outputs": [
    {
     "data": {
      "text/plain": [
       "phq9_severity\n",
       "Mild depression                 170\n",
       "Moderate depression             147\n",
       "Minimal depression              146\n",
       "Moderately severe depression     78\n",
       "Severe depression                38\n",
       "Name: count, dtype: int64"
      ]
     },
     "execution_count": 267,
     "metadata": {},
     "output_type": "execute_result"
    }
   ],
   "source": [
    "data['phq9_severity'].value_counts()"
   ]
  },
  {
   "cell_type": "code",
   "execution_count": 268,
   "id": "16d83f0a-9046-4732-bc27-296a9881f488",
   "metadata": {},
   "outputs": [
    {
     "data": {
      "text/plain": [
       "gad7_1\n",
       "several days you been bothered byfeeling nervous, anxious, or on edge                  256\n",
       "more than half of the days you been bothered byfeeling nervous, anxious, or on edge    129\n",
       "nearly every day you been bothered byfeeling nervous, anxious, or on edge              111\n",
       "not at all you been bothered byfeeling nervous, anxious, or on edge                     83\n",
       "Name: count, dtype: int64"
      ]
     },
     "execution_count": 268,
     "metadata": {},
     "output_type": "execute_result"
    }
   ],
   "source": [
    "gad7_1_dict = {\n",
    "    \"Not at all\": \"not at all you been bothered by feeling nervous, anxious, or on edge\",\n",
    "    \"Several days\": \"several days you been bothered by feeling nervous, anxious, or on edge\",\n",
    "    \"More than half of the days\": \"more than half of the days you been bothered by feeling nervous, anxious, or on edge\",\n",
    "    \"Nearly every day\": \"nearly every day you been bothered by feeling nervous, anxious, or on edge\"\n",
    "}\n",
    "\n",
    "data[\"gad7_1\"] = data[\"gad7_1\"].replace(gad7_1_dict)\n",
    "data[\"gad7_1\"].value_counts()"
   ]
  },
  {
   "cell_type": "code",
   "execution_count": 269,
   "id": "f541974a-6d36-4483-b111-a80e91c1073a",
   "metadata": {},
   "outputs": [
    {
     "data": {
      "text/plain": [
       "gad7_2\n",
       "several days you been bothered bynot being able to stop or control worrying                  195\n",
       "not at all you been bothered bynot being able to stop or control worrying                    180\n",
       "more than half of the days you been bothered bynot being able to stop or control worrying    114\n",
       "nearly every day you been bothered bynot being able to stop or control worrying               90\n",
       "Name: count, dtype: int64"
      ]
     },
     "execution_count": 269,
     "metadata": {},
     "output_type": "execute_result"
    }
   ],
   "source": [
    "gad7_2_dict = {\n",
    "    \"Not at all\": \"not at all you been bothered by not being able to stop or control worrying\",\n",
    "    \"Several days\": \"several days you been bothered by not being able to stop or control worrying\",\n",
    "    \"More than half of the days\": \"more than half of the days you been bothered by not being able to stop or control worrying\",\n",
    "    \"Nearly every day\": \"nearly every day you been bothered by not being able to stop or control worrying\"\n",
    "}\n",
    "\n",
    "data[\"gad7_2\"] = data[\"gad7_2\"].replace(gad7_2_dict)\n",
    "data[\"gad7_2\"].value_counts()"
   ]
  },
  {
   "cell_type": "code",
   "execution_count": 270,
   "id": "d153802b-d3d0-4670-8382-147e301111f1",
   "metadata": {},
   "outputs": [
    {
     "data": {
      "text/plain": [
       "gad7_3\n",
       "several days you been bothered byworrying too much about different things                  205\n",
       "more than half of the days you been bothered byworrying too much about different things    134\n",
       "not at all you been bothered byworrying too much about different things                    131\n",
       "nearly every day you been bothered byworrying too much about different things              109\n",
       "Name: count, dtype: int64"
      ]
     },
     "execution_count": 270,
     "metadata": {},
     "output_type": "execute_result"
    }
   ],
   "source": [
    "gad7_3_dict = {\n",
    "    \"Not at all\": \"not at all you been bothered by worrying too much about different things\",\n",
    "    \"Several days\": \"several days you been bothered by worrying too much about different things\",\n",
    "    \"More than half of the days\": \"more than half of the days you been bothered by worrying too much about different things\",\n",
    "    \"Nearly every day\": \"nearly every day you been bothered by worrying too much about different things\"\n",
    "}\n",
    "\n",
    "data[\"gad7_3\"] = data[\"gad7_3\"].replace(gad7_3_dict)\n",
    "data[\"gad7_3\"].value_counts()"
   ]
  },
  {
   "cell_type": "code",
   "execution_count": 271,
   "id": "7aead2f6-cecf-4000-b033-441cf4631ab6",
   "metadata": {},
   "outputs": [
    {
     "data": {
      "text/plain": [
       "gad7_4\n",
       "several days you been bothered bytrouble relaxing                  233\n",
       "not at all you been bothered bytrouble relaxing                    137\n",
       "more than half of the days you been bothered bytrouble relaxing    118\n",
       "nearly every day you been bothered bytrouble relaxing               91\n",
       "Name: count, dtype: int64"
      ]
     },
     "execution_count": 271,
     "metadata": {},
     "output_type": "execute_result"
    }
   ],
   "source": [
    "gad7_4_dict = {\n",
    "    \"Not at all\": \"not at all you been bothered by trouble relaxing\",\n",
    "    \"Several days\": \"several days you been bothered by trouble relaxing\",\n",
    "    \"More than half of the days\": \"more than half of the days you been bothered by trouble relaxing\",\n",
    "    \"Nearly every day\": \"nearly every day you been bothered by trouble relaxing\"\n",
    "}\n",
    "\n",
    "data[\"gad7_4\"] = data[\"gad7_4\"].replace(gad7_4_dict)\n",
    "data[\"gad7_4\"].value_counts()"
   ]
  },
  {
   "cell_type": "code",
   "execution_count": 272,
   "id": "d441ce16-cc50-48e9-8db8-46014db8611a",
   "metadata": {},
   "outputs": [
    {
     "data": {
      "text/plain": [
       "gad7_5\n",
       "not at all you been bothered bybeing so restless that it's hard to sit still                    249\n",
       "several days you been bothered bybeing so restless that it's hard to sit still                  193\n",
       "more than half of the days you been bothered bybeing so restless that it's hard to sit still     88\n",
       "nearly every day you been bothered bybeing so restless that it's hard to sit still               49\n",
       "Name: count, dtype: int64"
      ]
     },
     "execution_count": 272,
     "metadata": {},
     "output_type": "execute_result"
    }
   ],
   "source": [
    "gad7_5_dict = {\n",
    "    \"Not at all\": \"not at all you been bothered by being so restless that it's hard to sit still\",\n",
    "    \"Several days\": \"several days you been bothered by being so restless that it's hard to sit still\",\n",
    "    \"More than half of the days\": \"more than half of the days you been bothered by being so restless that it's hard to sit still\",\n",
    "    \"Nearly every day\": \"nearly every day you been bothered by being so restless that it's hard to sit still\"\n",
    "}\n",
    "\n",
    "data[\"gad7_5\"] = data[\"gad7_5\"].replace(gad7_5_dict)\n",
    "data[\"gad7_5\"].value_counts()"
   ]
  },
  {
   "cell_type": "code",
   "execution_count": 273,
   "id": "d4a1d8f4-b425-4e16-9681-11b8ca0793cd",
   "metadata": {},
   "outputs": [
    {
     "data": {
      "text/plain": [
       "gad7_6\n",
       "several days you been bothered bybecoming easily annoyed or irritable                  229\n",
       "not at all you been bothered bybecoming easily annoyed or irritable                    146\n",
       "more than half of the days you been bothered bybecoming easily annoyed or irritable    138\n",
       "nearly every day you been bothered bybecoming easily annoyed or irritable               66\n",
       "Name: count, dtype: int64"
      ]
     },
     "execution_count": 273,
     "metadata": {},
     "output_type": "execute_result"
    }
   ],
   "source": [
    "gad7_6_dict = {\n",
    "    \"Not at all\": \"not at all you been bothered by becoming easily annoyed or irritable\",\n",
    "    \"Several days\": \"several days you been bothered by becoming easily annoyed or irritable\",\n",
    "    \"More than half of the days\": \"more than half of the days you been bothered by becoming easily annoyed or irritable\",\n",
    "    \"Nearly every day\": \"nearly every day you been bothered by becoming easily annoyed or irritable\"\n",
    "}\n",
    "\n",
    "data[\"gad7_6\"] = data[\"gad7_6\"].replace(gad7_6_dict)\n",
    "data[\"gad7_6\"].value_counts()"
   ]
  },
  {
   "cell_type": "code",
   "execution_count": 274,
   "id": "5d3dd45b-55ec-4d1b-b7fd-52f4370585ad",
   "metadata": {},
   "outputs": [
    {
     "data": {
      "text/plain": [
       "gad7_7\n",
       "not at all you been bothered byfeeling afraid as if something awful might happen                    254\n",
       "several days you been bothered byfeeling afraid as if something awful might happen                  190\n",
       "more than half of the days you been bothered byfeeling afraid as if something awful might happen     76\n",
       "nearly every day you been bothered byfeeling afraid as if something awful might happen               59\n",
       "Name: count, dtype: int64"
      ]
     },
     "execution_count": 274,
     "metadata": {},
     "output_type": "execute_result"
    }
   ],
   "source": [
    "gad7_7_dict = {\n",
    "    \"Not at all\": \"not at all you been bothered by feeling afraid as if something awful might happen\",\n",
    "    \"Several days\": \"several days you been bothered by feeling afraid as if something awful might happen\",\n",
    "    \"More than half of the days\": \"more than half of the days you been bothered by feeling afraid as if something awful might happen\",\n",
    "    \"Nearly every day\": \"nearly every day you been bothered by feeling afraid as if something awful might happen\"\n",
    "}\n",
    "\n",
    "data[\"gad7_7\"] = data[\"gad7_7\"].replace(gad7_7_dict)\n",
    "data[\"gad7_7\"].value_counts()"
   ]
  },
  {
   "cell_type": "markdown",
   "id": "f73b236d-819f-4ee7-a26e-6fc8e8a413fd",
   "metadata": {},
   "source": [
    "- Not at all: 0\n",
    "- Several days: 1\n",
    "- More than half of the days: 2\n",
    "- Nearly every day: 3\n",
    "\n",
    "Based on previous gad7_XNUM responses, individuals’ composite scores for anxiety severity were calculated:\n",
    "\n",
    "    • 0–4: minimal anxiety\n",
    "    • 5–9: mild anxiety\n",
    "    • 10–14: moderate anxiety\n",
    "    • 15–21: severe anxiety"
   ]
  },
  {
   "cell_type": "code",
   "execution_count": 275,
   "id": "83682880-5378-416b-a488-b44e262ef663",
   "metadata": {},
   "outputs": [
    {
     "data": {
      "text/plain": [
       "gad7_severity\n",
       "mild anxiety        191\n",
       "minimal anxiety     172\n",
       "moderate anxiety    123\n",
       "severe anxiety       93\n",
       "Name: count, dtype: int64"
      ]
     },
     "execution_count": 275,
     "metadata": {},
     "output_type": "execute_result"
    }
   ],
   "source": [
    "data['gad7_severity'].value_counts()"
   ]
  },
  {
   "cell_type": "code",
   "execution_count": 276,
   "id": "64420b74-612f-4c4a-9201-7ee0809fbc7e",
   "metadata": {},
   "outputs": [
    {
     "data": {
      "text/plain": [
       "acha_12months_times_1\n",
       "you 11 or more times felt things were hopeless    131\n",
       "you never felt things were hopeless               108\n",
       "you 1-2 times felt things were hopeless           108\n",
       "you 3-4 times felt things were hopeless            77\n",
       "you 7-8 times felt things were hopeless            60\n",
       "you 5-6 times felt things were hopeless            52\n",
       "you 9-10 times felt things were hopeless           43\n",
       "Name: count, dtype: int64"
      ]
     },
     "execution_count": 276,
     "metadata": {},
     "output_type": "execute_result"
    }
   ],
   "source": [
    "acha_12months_times_1_dict = {\n",
    "    \"Never\": \"you never felt things were hopeless\",\n",
    "    \"1-2 times\": \"you 1-2 times felt things were hopeless\",\n",
    "    \"3-4 times\": \"you 3-4 times felt things were hopeless\",\n",
    "    \"5-6 times\": \"you 5-6 times felt things were hopeless\",\n",
    "    \"7-8 times\": \"you 7-8 times felt things were hopeless\",\n",
    "    \"9-10 times\": \"you 9-10 times felt things were hopeless\",\n",
    "    \"11 or more times\": \"you 11 or more times felt things were hopeless\"\n",
    "}\n",
    "\n",
    "data[\"acha_12months_times_1\"] = data[\"acha_12months_times_1\"].replace(acha_12months_times_1_dict)\n",
    "data[\"acha_12months_times_1\"].value_counts()"
   ]
  },
  {
   "cell_type": "code",
   "execution_count": 277,
   "id": "1ce8429b-3b6f-4817-b2ad-e074b6bc9039",
   "metadata": {},
   "outputs": [
    {
     "data": {
      "text/plain": [
       "acha_12months_times_2\n",
       "you 11 or more times felt overwhelmed by all you had to do    270\n",
       "you 9-10 times felt overwhelmed by all you had to do           72\n",
       "you 7-8 times felt overwhelmed by all you had to do            60\n",
       "you 5-6 times felt overwhelmed by all you had to do            55\n",
       "you 3-4 times felt overwhelmed by all you had to do            52\n",
       "you 1-2 times felt overwhelmed by all you had to do            41\n",
       "you never felt overwhelmed by all you had to do                29\n",
       "Name: count, dtype: int64"
      ]
     },
     "execution_count": 277,
     "metadata": {},
     "output_type": "execute_result"
    }
   ],
   "source": [
    "acha_12months_times_2_dict = {\n",
    "    \"Never\": \"you never felt overwhelmed by all you had to do\",\n",
    "    \"1-2 times\": \"you 1-2 times felt overwhelmed by all you had to do\",\n",
    "    \"3-4 times\": \"you 3-4 times felt overwhelmed by all you had to do\",\n",
    "    \"5-6 times\": \"you 5-6 times felt overwhelmed by all you had to do\",\n",
    "    \"7-8 times\": \"you 7-8 times felt overwhelmed by all you had to do\",\n",
    "    \"9-10 times\": \"you 9-10 times felt overwhelmed by all you had to do\",\n",
    "    \"11 or more times\": \"you 11 or more times felt overwhelmed by all you had to do\"\n",
    "}\n",
    "\n",
    "data[\"acha_12months_times_2\"] = data[\"acha_12months_times_2\"].replace(acha_12months_times_2_dict)\n",
    "data[\"acha_12months_times_2\"].value_counts()"
   ]
  },
  {
   "cell_type": "code",
   "execution_count": 278,
   "id": "dc9876d9-00f7-4b9f-a709-4da5953eaae6",
   "metadata": {},
   "outputs": [
    {
     "data": {
      "text/plain": [
       "acha_12months_times_3\n",
       "you 11 or more times felt exhausted (not from physical activity)    253\n",
       "you 9-10 times felt exhausted (not from physical activity)           73\n",
       "you 5-6 times felt exhausted (not from physical activity)            60\n",
       "you 7-8 times felt exhausted (not from physical activity)            60\n",
       "you 3-4 times felt exhausted (not from physical activity)            49\n",
       "you 1-2 times felt exhausted (not from physical activity)            48\n",
       "you never felt exhausted (not from physical activity)                36\n",
       "Name: count, dtype: int64"
      ]
     },
     "execution_count": 278,
     "metadata": {},
     "output_type": "execute_result"
    }
   ],
   "source": [
    "acha_12months_times_3_dict = {\n",
    "    \"Never\": \"you never felt exhausted (not from physical activity)\",\n",
    "    \"1-2 times\": \"you 1-2 times felt exhausted (not from physical activity)\",\n",
    "    \"3-4 times\": \"you 3-4 times felt exhausted (not from physical activity)\",\n",
    "    \"5-6 times\": \"you 5-6 times felt exhausted (not from physical activity)\",\n",
    "    \"7-8 times\": \"you 7-8 times felt exhausted (not from physical activity)\",\n",
    "    \"9-10 times\": \"you 9-10 times felt exhausted (not from physical activity)\",\n",
    "    \"11 or more times\": \"you 11 or more times felt exhausted (not from physical activity)\"\n",
    "}\n",
    "\n",
    "data[\"acha_12months_times_3\"] = data[\"acha_12months_times_3\"].replace(acha_12months_times_3_dict)\n",
    "data[\"acha_12months_times_3\"].value_counts()"
   ]
  },
  {
   "cell_type": "code",
   "execution_count": 279,
   "id": "c89c2c47-af72-4c90-b14d-e028299b77e6",
   "metadata": {},
   "outputs": [
    {
     "data": {
      "text/plain": [
       "acha_12months_times_4\n",
       "you 11 or more times felt very sad    185\n",
       "you 1-2 times felt very sad            97\n",
       "you 3-4 times felt very sad            80\n",
       "you 5-6 times felt very sad            61\n",
       "you 7-8 times felt very sad            60\n",
       "you 9-10 times felt very sad           48\n",
       "you never felt very sad                48\n",
       "Name: count, dtype: int64"
      ]
     },
     "execution_count": 279,
     "metadata": {},
     "output_type": "execute_result"
    }
   ],
   "source": [
    "acha_12months_times_4_dict = {\n",
    "    \"Never\": \"you never felt very sad\",\n",
    "    \"1-2 times\": \"you 1-2 times felt very sad\",\n",
    "    \"3-4 times\": \"you 3-4 times felt very sad\",\n",
    "    \"5-6 times\": \"you 5-6 times felt very sad\",\n",
    "    \"7-8 times\": \"you 7-8 times felt very sad\",\n",
    "    \"9-10 times\": \"you 9-10 times felt very sad\",\n",
    "    \"11 or more times\": \"you 11 or more times felt very sad\"\n",
    "}\n",
    "\n",
    "data[\"acha_12months_times_4\"] = data[\"acha_12months_times_4\"].replace(acha_12months_times_4_dict)\n",
    "data[\"acha_12months_times_4\"].value_counts()"
   ]
  },
  {
   "cell_type": "code",
   "execution_count": 280,
   "id": "50106dd3-dd6e-4c3c-ac21-7cb1c4ddb634",
   "metadata": {},
   "outputs": [
    {
     "data": {
      "text/plain": [
       "acha_12months_times_5\n",
       "you never felt so depressed that it was difficult to function               154\n",
       "you 1-2 times felt so depressed that it was difficult to function           114\n",
       "you 11 or more times felt so depressed that it was difficult to function    114\n",
       "you 3-4 times felt so depressed that it was difficult to function            63\n",
       "you 5-6 times felt so depressed that it was difficult to function            50\n",
       "you 7-8 times felt so depressed that it was difficult to function            46\n",
       "you 9-10 times felt so depressed that it was difficult to function           38\n",
       "Name: count, dtype: int64"
      ]
     },
     "execution_count": 280,
     "metadata": {},
     "output_type": "execute_result"
    }
   ],
   "source": [
    "acha_12months_times_5_dict = {\n",
    "    \"Never\": \"you never felt so depressed that it was difficult to function\",\n",
    "    \"1-2 times\": \"you 1-2 times felt so depressed that it was difficult to function\",\n",
    "    \"3-4 times\": \"you 3-4 times felt so depressed that it was difficult to function\",\n",
    "    \"5-6 times\": \"you 5-6 times felt so depressed that it was difficult to function\",\n",
    "    \"7-8 times\": \"you 7-8 times felt so depressed that it was difficult to function\",\n",
    "    \"9-10 times\": \"you 9-10 times felt so depressed that it was difficult to function\",\n",
    "    \"11 or more times\": \"you 11 or more times felt so depressed that it was difficult to function\"\n",
    "}\n",
    "\n",
    "data[\"acha_12months_times_5\"] = data[\"acha_12months_times_5\"].replace(acha_12months_times_5_dict)\n",
    "data[\"acha_12months_times_5\"].value_counts()"
   ]
  },
  {
   "cell_type": "code",
   "execution_count": 281,
   "id": "35b83ee4-ea1a-4e40-9cba-69ec0c6f0b95",
   "metadata": {},
   "outputs": [
    {
     "data": {
      "text/plain": [
       "acha_12months_times_6\n",
       "you never seriously considered attempting suicide               416\n",
       "you 1-2 times seriously considered attempting suicide            85\n",
       "you 3-4 times seriously considered attempting suicide            25\n",
       "you 11 or more times seriously considered attempting suicide     15\n",
       "you 5-6 times seriously considered attempting suicide            15\n",
       "you 7-8 times seriously considered attempting suicide            14\n",
       "you 9-10 times seriously considered attempting suicide            9\n",
       "Name: count, dtype: int64"
      ]
     },
     "execution_count": 281,
     "metadata": {},
     "output_type": "execute_result"
    }
   ],
   "source": [
    "acha_12months_times_6_dict = {\n",
    "    \"Never\": \"you never seriously considered attempting suicide\",\n",
    "    \"1-2 times\": \"you 1-2 times seriously considered attempting suicide\",\n",
    "    \"3-4 times\": \"you 3-4 times seriously considered attempting suicide\",\n",
    "    \"5-6 times\": \"you 5-6 times seriously considered attempting suicide\",\n",
    "    \"7-8 times\": \"you 7-8 times seriously considered attempting suicide\",\n",
    "    \"9-10 times\": \"you 9-10 times seriously considered attempting suicide\",\n",
    "    \"11 or more times\": \"you 11 or more times seriously considered attempting suicide\"\n",
    "}\n",
    "\n",
    "data[\"acha_12months_times_6\"] = data[\"acha_12months_times_6\"].replace(acha_12months_times_6_dict)\n",
    "data[\"acha_12months_times_6\"].value_counts()"
   ]
  },
  {
   "cell_type": "code",
   "execution_count": 282,
   "id": "ffeff1c6-0749-418d-8ff7-e38370389e36",
   "metadata": {},
   "outputs": [
    {
     "data": {
      "text/plain": [
       "acha_12months_times_7\n",
       "you never attempted suicide               560\n",
       "you 1-2 times attempted suicide            16\n",
       "you 5-6 times attempted suicide             1\n",
       "you 11 or more times attempted suicide      1\n",
       "you 7-8 times attempted suicide             1\n",
       "Name: count, dtype: int64"
      ]
     },
     "execution_count": 282,
     "metadata": {},
     "output_type": "execute_result"
    }
   ],
   "source": [
    "acha_12months_times_7_dict = {\n",
    "    \"Never\": \"you never attempted suicide\",\n",
    "    \"1-2 times\": \"you 1-2 times attempted suicide\",\n",
    "    \"3-4 times\": \"you 3-4 times attempted suicide\",\n",
    "    \"5-6 times\": \"you 5-6 times attempted suicide\",\n",
    "    \"7-8 times\": \"you 7-8 times attempted suicide\",\n",
    "    \"9-10 times\": \"you 9-10 times attempted suicide\",\n",
    "    \"11 or more times\": \"you 11 or more times attempted suicide\"\n",
    "}\n",
    "\n",
    "data[\"acha_12months_times_7\"] = data[\"acha_12months_times_7\"].replace(acha_12months_times_7_dict)\n",
    "data[\"acha_12months_times_7\"].value_counts()"
   ]
  },
  {
   "cell_type": "code",
   "execution_count": 283,
   "id": "43b03414-0c5c-4333-acaa-7bcde80494f7",
   "metadata": {},
   "outputs": [
    {
     "data": {
      "text/plain": [
       "acha_depression\n",
       "No     378\n",
       "Yes    201\n",
       "Name: count, dtype: int64"
      ]
     },
     "execution_count": 283,
     "metadata": {},
     "output_type": "execute_result"
    }
   ],
   "source": [
    "data[\"acha_depression\"].value_counts()"
   ]
  },
  {
   "cell_type": "code",
   "execution_count": 284,
   "id": "920d63dc-a55d-48bd-973e-e8dc07c13b96",
   "metadata": {},
   "outputs": [
    {
     "data": {
      "text/plain": [
       "acha_depression\n",
       "have already been diagnosed with depression    201\n",
       "Name: count, dtype: int64"
      ]
     },
     "execution_count": 284,
     "metadata": {},
     "output_type": "execute_result"
    }
   ],
   "source": [
    "acha_depression_dict = {\n",
    "    \"Yes\": \"have already been diagnosed with depression\",\n",
    "    \"No\": None\n",
    "}\n",
    "\n",
    "data[\"acha_depression\"] = data[\"acha_depression\"].replace(acha_depression_dict)\n",
    "data[\"acha_depression\"].value_counts()"
   ]
  },
  {
   "cell_type": "code",
   "execution_count": 285,
   "id": "1e8a65ee-5aba-4cc1-bc7e-a4f1c6d6364d",
   "metadata": {},
   "outputs": [
    {
     "data": {
      "text/plain": [
       "acha_services_1\n",
       "you have not been diagnosed with depression in the last 12 months    336\n",
       "you have been diagnosed with depression in the last 12 months         62\n",
       "Name: count, dtype: int64"
      ]
     },
     "execution_count": 285,
     "metadata": {},
     "output_type": "execute_result"
    }
   ],
   "source": [
    "acha_services_1_dict = {\n",
    "    \"Yes\": \"you have been diagnosed with depression in the last 12 months\",\n",
    "    \"No\": \"you have not been diagnosed with depression in the last 12 months\"\n",
    "}\n",
    "\n",
    "data[\"acha_services_1\"] = data[\"acha_services_1\"].replace(acha_services_1_dict)\n",
    "data[\"acha_services_1\"].value_counts()"
   ]
  },
  {
   "cell_type": "code",
   "execution_count": 286,
   "id": "0b772725-eecc-49e3-b790-019cd0909b0e",
   "metadata": {},
   "outputs": [
    {
     "data": {
      "text/plain": [
       "acha_services_2\n",
       "you are not currently in therapy for depression    311\n",
       "you are currently in therapy for depression         83\n",
       "Name: count, dtype: int64"
      ]
     },
     "execution_count": 286,
     "metadata": {},
     "output_type": "execute_result"
    }
   ],
   "source": [
    "acha_services_2_dict = {\n",
    "    \"Yes\": \"you are currently in therapy for depression\",\n",
    "    \"No\": \"you are not currently in therapy for depression\"\n",
    "}\n",
    "\n",
    "data[\"acha_services_2\"] = data[\"acha_services_2\"].replace(acha_services_2_dict)\n",
    "data[\"acha_services_2\"].value_counts()"
   ]
  },
  {
   "cell_type": "code",
   "execution_count": 287,
   "id": "8809a8a1-e5f3-4e80-a032-1916d8a1a3d7",
   "metadata": {},
   "outputs": [
    {
     "data": {
      "text/plain": [
       "acha_services_3\n",
       "you are currently taking medication for depression    122\n",
       "Name: count, dtype: int64"
      ]
     },
     "execution_count": 287,
     "metadata": {},
     "output_type": "execute_result"
    }
   ],
   "source": [
    "acha_services_3_dict = {\n",
    "    \"Yes\": \"you are currently taking medication for depression\",\n",
    "    \"No\": None\n",
    "}\n",
    "\n",
    "data[\"acha_services_3\"] = data[\"acha_services_3\"].replace(acha_services_3_dict)\n",
    "data[\"acha_services_3\"].value_counts()"
   ]
  },
  {
   "cell_type": "code",
   "execution_count": 288,
   "id": "ce0894f1-f424-4568-961b-ccf5e75da3d5",
   "metadata": {},
   "outputs": [
    {
     "name": "stdout",
     "output_type": "stream",
     "text": [
      "acha_12months_any_1\n",
      "Allergy problems    224\n",
      "Name: count, dtype: int64\n",
      "acha_12months_any_2\n",
      "Anorexia    43\n",
      "Name: count, dtype: int64\n",
      "acha_12months_any_3\n",
      "Anxiety Disorder    280\n",
      "Name: count, dtype: int64\n",
      "acha_12months_any_4\n",
      "Asthma    76\n",
      "Name: count, dtype: int64\n",
      "acha_12months_any_5\n",
      "Bulimia    19\n",
      "Name: count, dtype: int64\n",
      "acha_12months_any_6\n",
      "Chronic Fatigue Syndrome    44\n",
      "Name: count, dtype: int64\n",
      "acha_12months_any_7\n",
      "Depression    247\n",
      "Name: count, dtype: int64\n",
      "acha_12months_any_8\n",
      "Diabetes    10\n",
      "Name: count, dtype: int64\n",
      "acha_12months_any_9\n",
      "Endometriosis    13\n",
      "Name: count, dtype: int64\n",
      "acha_12months_any_10\n",
      "Genital Herpes    8\n",
      "Name: count, dtype: int64\n",
      "acha_12months_any_11\n",
      "Genital warts/HPV    5\n",
      "Name: count, dtype: int64\n",
      "acha_12months_any_12\n",
      "Hepatitis B or C    3\n",
      "Name: count, dtype: int64\n",
      "acha_12months_any_13\n",
      "High blood pressure    39\n",
      "Name: count, dtype: int64\n",
      "acha_12months_any_14\n",
      "High cholesterol    35\n",
      "Name: count, dtype: int64\n",
      "acha_12months_any_15\n",
      "HIV infection    1\n",
      "Name: count, dtype: int64\n",
      "acha_12months_any_16\n",
      "Repetitive stress injury (e.g. carpal tunnel syndrome)    36\n",
      "Name: count, dtype: int64\n",
      "acha_12months_any_17\n",
      "Seasonal Affect Disorder    93\n",
      "Name: count, dtype: int64\n",
      "acha_12months_any_18\n",
      "Substance abuse problem    42\n",
      "Name: count, dtype: int64\n",
      "acha_12months_any_19\n",
      "Back pain    246\n",
      "Name: count, dtype: int64\n",
      "acha_12months_any_20\n",
      "Broken bone/fracture    12\n",
      "Name: count, dtype: int64\n",
      "acha_12months_any_21\n",
      "Bronchitis    24\n",
      "Name: count, dtype: int64\n",
      "acha_12months_any_22\n",
      "Chlamydia    10\n",
      "Name: count, dtype: int64\n",
      "acha_12months_any_23\n",
      "Ear Infection    37\n",
      "Name: count, dtype: int64\n",
      "acha_12months_any_24\n",
      "Gonorrhea    3\n",
      "Name: count, dtype: int64\n",
      "acha_12months_any_25\n",
      "Mononucleosis    7\n",
      "Name: count, dtype: int64\n",
      "acha_12months_any_26\n",
      "Pelvic Inflammatory Disease    3\n",
      "Name: count, dtype: int64\n",
      "acha_12months_any_27\n",
      "Sinus Infection    112\n",
      "Name: count, dtype: int64\n",
      "acha_12months_any_28\n",
      "Strep throat    49\n",
      "Name: count, dtype: int64\n",
      "acha_12months_any_29\n",
      "Tuberculosis    2\n",
      "Name: count, dtype: int64\n"
     ]
    }
   ],
   "source": [
    "medical_condition = {\n",
    "    1:'Allergy problems',\n",
    "    2:'Anorexia',\n",
    "    3:'Anxiety Disorder',\n",
    "    4:'Asthma',\n",
    "    5:'Bulimia',\n",
    "    6:'Chronic Fatigue Syndrome',\n",
    "    7:'Depression',\n",
    "    8:'Diabetes',\n",
    "    9:'Endometriosis',\n",
    "    10:'Genital Herpes',\n",
    "    11:'Genital warts/HPV',\n",
    "    12:'Hepatitis B or C',\n",
    "    13:'High blood pressure',\n",
    "    14:'High cholesterol',\n",
    "    15:'HIV infection',\n",
    "    16:'Repetitive stress injury (e.g. carpal tunnel syndrome)',\n",
    "    17:'Seasonal Affect Disorder',\n",
    "    18:'Substance abuse problem',\n",
    "    19:'Back pain',\n",
    "    20:'Broken bone/fracture',\n",
    "    21:'Bronchitis',\n",
    "    22:'Chlamydia',\n",
    "    23:'Ear Infection',\n",
    "    24:'Gonorrhea',\n",
    "    25:'Mononucleosis',\n",
    "    26:'Pelvic Inflammatory Disease',\n",
    "    27:'Sinus Infection',\n",
    "    28:'Strep throat',\n",
    "    29:'Tuberculosis',\n",
    "}\n",
    "\n",
    "for i in range(1,30):\n",
    "    data[f\"acha_12months_any_{i}\"] = data[f\"acha_12months_any_{i}\"].replace({\n",
    "        \"Yes\": medical_condition[i],\n",
    "        \"No\": None\n",
    "    })\n",
    "    print(data[f\"acha_12months_any_{i}\"].value_counts())"
   ]
  },
  {
   "cell_type": "code",
   "execution_count": 289,
   "id": "508dbafb-2f88-45ab-803a-26ed3c568dd8",
   "metadata": {},
   "outputs": [
    {
     "name": "stdout",
     "output_type": "stream",
     "text": [
      "<class 'pandas.core.frame.DataFrame'>\n",
      "RangeIndex: 579 entries, 0 to 578\n",
      "Data columns (total 73 columns):\n",
      " #   Column                  Non-Null Count  Dtype \n",
      "---  ------                  --------------  ----- \n",
      " 0   year_1                  579 non-null    int64 \n",
      " 1   state_1                 579 non-null    object\n",
      " 2   general_health          579 non-null    object\n",
      " 3   phq9_1                  579 non-null    object\n",
      " 4   phq9_2                  579 non-null    object\n",
      " 5   phq9_3                  579 non-null    object\n",
      " 6   phq9_4                  579 non-null    object\n",
      " 7   phq9_5                  579 non-null    object\n",
      " 8   phq9_6                  579 non-null    object\n",
      " 9   phq9_7                  579 non-null    object\n",
      " 10  phq9_8                  579 non-null    object\n",
      " 11  phq9_9                  579 non-null    object\n",
      " 12  phq9_COMP               579 non-null    int64 \n",
      " 13  phq9_severity           579 non-null    object\n",
      " 14  gad7_1                  579 non-null    object\n",
      " 15  gad7_2                  579 non-null    object\n",
      " 16  gad7_3                  579 non-null    object\n",
      " 17  gad7_4                  579 non-null    object\n",
      " 18  gad7_5                  579 non-null    object\n",
      " 19  gad7_6                  579 non-null    object\n",
      " 20  gad7_7                  579 non-null    object\n",
      " 21  gad7_COMP               579 non-null    int64 \n",
      " 22  gad7_severity           579 non-null    object\n",
      " 23  acha_12months_times_1   579 non-null    object\n",
      " 24  acha_12months_times_2   579 non-null    object\n",
      " 25  acha_12months_times_3   579 non-null    object\n",
      " 26  acha_12months_times_4   579 non-null    object\n",
      " 27  acha_12months_times_5   579 non-null    object\n",
      " 28  acha_12months_times_6   579 non-null    object\n",
      " 29  acha_12months_times_7   579 non-null    object\n",
      " 30  acha_depression         201 non-null    object\n",
      " 31  acha_services_1         398 non-null    object\n",
      " 32  acha_services_2         394 non-null    object\n",
      " 33  acha_services_3         122 non-null    object\n",
      " 34  acha_12months_any_1     224 non-null    object\n",
      " 35  acha_12months_any_2     43 non-null     object\n",
      " 36  acha_12months_any_3     280 non-null    object\n",
      " 37  acha_12months_any_4     76 non-null     object\n",
      " 38  acha_12months_any_5     19 non-null     object\n",
      " 39  acha_12months_any_6     44 non-null     object\n",
      " 40  acha_12months_any_7     247 non-null    object\n",
      " 41  acha_12months_any_8     10 non-null     object\n",
      " 42  acha_12months_any_9     13 non-null     object\n",
      " 43  acha_12months_any_10    8 non-null      object\n",
      " 44  acha_12months_any_11    5 non-null      object\n",
      " 45  acha_12months_any_12    3 non-null      object\n",
      " 46  acha_12months_any_13    39 non-null     object\n",
      " 47  acha_12months_any_14    35 non-null     object\n",
      " 48  acha_12months_any_15    1 non-null      object\n",
      " 49  acha_12months_any_16    36 non-null     object\n",
      " 50  acha_12months_any_17    93 non-null     object\n",
      " 51  acha_12months_any_18    42 non-null     object\n",
      " 52  acha_12months_any_19    246 non-null    object\n",
      " 53  acha_12months_any_20    12 non-null     object\n",
      " 54  acha_12months_any_21    24 non-null     object\n",
      " 55  acha_12months_any_22    10 non-null     object\n",
      " 56  acha_12months_any_23    37 non-null     object\n",
      " 57  acha_12months_any_24    3 non-null      object\n",
      " 58  acha_12months_any_25    7 non-null      object\n",
      " 59  acha_12months_any_26    3 non-null      object\n",
      " 60  acha_12months_any_27    112 non-null    object\n",
      " 61  acha_12months_any_28    49 non-null     object\n",
      " 62  acha_12months_any_29    2 non-null      object\n",
      " 63  acha_12months_any_comp  579 non-null    int64 \n",
      " 64  sex                     579 non-null    object\n",
      " 65  fulltime                579 non-null    object\n",
      " 66  international           578 non-null    object\n",
      " 67  race_1                  368 non-null    object\n",
      " 68  race_2                  55 non-null     object\n",
      " 69  race_3                  72 non-null     object\n",
      " 70  race_4                  121 non-null    object\n",
      " 71  race_5                  9 non-null      object\n",
      " 72  race_6                  4 non-null      object\n",
      "dtypes: int64(4), object(69)\n",
      "memory usage: 330.3+ KB\n"
     ]
    }
   ],
   "source": [
    "data.info()"
   ]
  },
  {
   "cell_type": "code",
   "execution_count": 290,
   "id": "8629262c-f4ad-4761-b9dc-3716c917df7b",
   "metadata": {},
   "outputs": [],
   "source": [
    "data.to_csv(\"../data/mental_health_dataset_processed.csv\")"
   ]
  },
  {
   "cell_type": "code",
   "execution_count": 291,
   "id": "9b646d84-002c-4335-89e1-3c36ebde7497",
   "metadata": {},
   "outputs": [
    {
     "data": {
      "text/plain": [
       "count     579.000000\n",
       "mean     1998.398964\n",
       "std         5.403260\n",
       "min      1971.000000\n",
       "25%      1998.000000\n",
       "50%      2000.000000\n",
       "75%      2001.000000\n",
       "max      2003.000000\n",
       "Name: year_1, dtype: float64"
      ]
     },
     "execution_count": 291,
     "metadata": {},
     "output_type": "execute_result"
    }
   ],
   "source": [
    "data[\"year_1\"].describe()"
   ]
  },
  {
   "cell_type": "code",
   "execution_count": 292,
   "id": "405fe44e-34df-47d1-a82b-823eef16607f",
   "metadata": {},
   "outputs": [
    {
     "data": {
      "text/html": [
       "<div>\n",
       "<style scoped>\n",
       "    .dataframe tbody tr th:only-of-type {\n",
       "        vertical-align: middle;\n",
       "    }\n",
       "\n",
       "    .dataframe tbody tr th {\n",
       "        vertical-align: top;\n",
       "    }\n",
       "\n",
       "    .dataframe thead th {\n",
       "        text-align: right;\n",
       "    }\n",
       "</style>\n",
       "<table border=\"1\" class=\"dataframe\">\n",
       "  <thead>\n",
       "    <tr style=\"text-align: right;\">\n",
       "      <th></th>\n",
       "      <th>year_1</th>\n",
       "      <th>state_1</th>\n",
       "      <th>general_health</th>\n",
       "      <th>phq9_1</th>\n",
       "      <th>phq9_2</th>\n",
       "      <th>phq9_3</th>\n",
       "      <th>phq9_4</th>\n",
       "      <th>phq9_5</th>\n",
       "      <th>phq9_6</th>\n",
       "      <th>phq9_7</th>\n",
       "      <th>...</th>\n",
       "      <th>acha_12months_any_comp</th>\n",
       "      <th>sex</th>\n",
       "      <th>fulltime</th>\n",
       "      <th>international</th>\n",
       "      <th>race_1</th>\n",
       "      <th>race_2</th>\n",
       "      <th>race_3</th>\n",
       "      <th>race_4</th>\n",
       "      <th>race_5</th>\n",
       "      <th>race_6</th>\n",
       "    </tr>\n",
       "  </thead>\n",
       "  <tbody>\n",
       "    <tr>\n",
       "      <th>0</th>\n",
       "      <td>2000</td>\n",
       "      <td>MD</td>\n",
       "      <td>describe your general health as very good</td>\n",
       "      <td>several days you been bothered bylittle intere...</td>\n",
       "      <td>several days you been bothered byfeeling down,...</td>\n",
       "      <td>not at all you been bothered bytrouble falling...</td>\n",
       "      <td>several days you been bothered byfeeling tired...</td>\n",
       "      <td>not at all you been bothered bypoor appetite o...</td>\n",
       "      <td>not at all you been bothered byfeeling bad abo...</td>\n",
       "      <td>more than half of the days you been bothered b...</td>\n",
       "      <td>...</td>\n",
       "      <td>2</td>\n",
       "      <td>Female</td>\n",
       "      <td>Yes</td>\n",
       "      <td>No</td>\n",
       "      <td>NaN</td>\n",
       "      <td>NaN</td>\n",
       "      <td>NaN</td>\n",
       "      <td>Asian or Pacific Islander</td>\n",
       "      <td>NaN</td>\n",
       "      <td>NaN</td>\n",
       "    </tr>\n",
       "    <tr>\n",
       "      <th>1</th>\n",
       "      <td>2001</td>\n",
       "      <td>SC</td>\n",
       "      <td>describe your general health as good</td>\n",
       "      <td>more than half of the days you been bothered b...</td>\n",
       "      <td>more than half of the days you been bothered b...</td>\n",
       "      <td>nearly every day you been bothered bytrouble f...</td>\n",
       "      <td>nearly every day you been bothered byfeeling t...</td>\n",
       "      <td>nearly every day you been bothered bypoor appe...</td>\n",
       "      <td>several days you been bothered byfeeling bad a...</td>\n",
       "      <td>nearly every day you been bothered bytrouble c...</td>\n",
       "      <td>...</td>\n",
       "      <td>0</td>\n",
       "      <td>Female</td>\n",
       "      <td>Yes</td>\n",
       "      <td>No</td>\n",
       "      <td>NaN</td>\n",
       "      <td>NaN</td>\n",
       "      <td>NaN</td>\n",
       "      <td>Asian or Pacific Islander</td>\n",
       "      <td>NaN</td>\n",
       "      <td>NaN</td>\n",
       "    </tr>\n",
       "    <tr>\n",
       "      <th>2</th>\n",
       "      <td>1999</td>\n",
       "      <td>NJ</td>\n",
       "      <td>describe your general health as good</td>\n",
       "      <td>several days you been bothered bylittle intere...</td>\n",
       "      <td>several days you been bothered byfeeling down,...</td>\n",
       "      <td>more than half of the days you been bothered b...</td>\n",
       "      <td>more than half of the days you been bothered b...</td>\n",
       "      <td>several days you been bothered bypoor appetite...</td>\n",
       "      <td>several days you been bothered byfeeling bad a...</td>\n",
       "      <td>several days you been bothered bytrouble conce...</td>\n",
       "      <td>...</td>\n",
       "      <td>2</td>\n",
       "      <td>Female</td>\n",
       "      <td>Yes</td>\n",
       "      <td>No</td>\n",
       "      <td>NaN</td>\n",
       "      <td>NaN</td>\n",
       "      <td>Hispanic or Latino</td>\n",
       "      <td>Asian or Pacific Islander</td>\n",
       "      <td>NaN</td>\n",
       "      <td>NaN</td>\n",
       "    </tr>\n",
       "    <tr>\n",
       "      <th>3</th>\n",
       "      <td>1998</td>\n",
       "      <td>NY</td>\n",
       "      <td>describe your general health as good</td>\n",
       "      <td>several days you been bothered bylittle intere...</td>\n",
       "      <td>several days you been bothered byfeeling down,...</td>\n",
       "      <td>nearly every day you been bothered bytrouble f...</td>\n",
       "      <td>nearly every day you been bothered byfeeling t...</td>\n",
       "      <td>not at all you been bothered bypoor appetite o...</td>\n",
       "      <td>several days you been bothered byfeeling bad a...</td>\n",
       "      <td>several days you been bothered bytrouble conce...</td>\n",
       "      <td>...</td>\n",
       "      <td>2</td>\n",
       "      <td>Female</td>\n",
       "      <td>Yes</td>\n",
       "      <td>No</td>\n",
       "      <td>White - not Hispanic (includes Middle Eastern)</td>\n",
       "      <td>NaN</td>\n",
       "      <td>NaN</td>\n",
       "      <td>NaN</td>\n",
       "      <td>NaN</td>\n",
       "      <td>NaN</td>\n",
       "    </tr>\n",
       "    <tr>\n",
       "      <th>4</th>\n",
       "      <td>2000</td>\n",
       "      <td>PA</td>\n",
       "      <td>describe your general health as very good</td>\n",
       "      <td>not at all you been bothered bylittle interest...</td>\n",
       "      <td>several days you been bothered byfeeling down,...</td>\n",
       "      <td>several days you been bothered bytrouble falli...</td>\n",
       "      <td>several days you been bothered byfeeling tired...</td>\n",
       "      <td>several days you been bothered bypoor appetite...</td>\n",
       "      <td>several days you been bothered byfeeling bad a...</td>\n",
       "      <td>several days you been bothered bytrouble conce...</td>\n",
       "      <td>...</td>\n",
       "      <td>5</td>\n",
       "      <td>Female</td>\n",
       "      <td>Yes</td>\n",
       "      <td>No</td>\n",
       "      <td>White - not Hispanic (includes Middle Eastern)</td>\n",
       "      <td>NaN</td>\n",
       "      <td>NaN</td>\n",
       "      <td>NaN</td>\n",
       "      <td>NaN</td>\n",
       "      <td>NaN</td>\n",
       "    </tr>\n",
       "  </tbody>\n",
       "</table>\n",
       "<p>5 rows × 73 columns</p>\n",
       "</div>"
      ],
      "text/plain": [
       "   year_1 state_1                             general_health  \\\n",
       "0    2000      MD  describe your general health as very good   \n",
       "1    2001      SC       describe your general health as good   \n",
       "2    1999      NJ       describe your general health as good   \n",
       "3    1998      NY       describe your general health as good   \n",
       "4    2000      PA  describe your general health as very good   \n",
       "\n",
       "                                              phq9_1  \\\n",
       "0  several days you been bothered bylittle intere...   \n",
       "1  more than half of the days you been bothered b...   \n",
       "2  several days you been bothered bylittle intere...   \n",
       "3  several days you been bothered bylittle intere...   \n",
       "4  not at all you been bothered bylittle interest...   \n",
       "\n",
       "                                              phq9_2  \\\n",
       "0  several days you been bothered byfeeling down,...   \n",
       "1  more than half of the days you been bothered b...   \n",
       "2  several days you been bothered byfeeling down,...   \n",
       "3  several days you been bothered byfeeling down,...   \n",
       "4  several days you been bothered byfeeling down,...   \n",
       "\n",
       "                                              phq9_3  \\\n",
       "0  not at all you been bothered bytrouble falling...   \n",
       "1  nearly every day you been bothered bytrouble f...   \n",
       "2  more than half of the days you been bothered b...   \n",
       "3  nearly every day you been bothered bytrouble f...   \n",
       "4  several days you been bothered bytrouble falli...   \n",
       "\n",
       "                                              phq9_4  \\\n",
       "0  several days you been bothered byfeeling tired...   \n",
       "1  nearly every day you been bothered byfeeling t...   \n",
       "2  more than half of the days you been bothered b...   \n",
       "3  nearly every day you been bothered byfeeling t...   \n",
       "4  several days you been bothered byfeeling tired...   \n",
       "\n",
       "                                              phq9_5  \\\n",
       "0  not at all you been bothered bypoor appetite o...   \n",
       "1  nearly every day you been bothered bypoor appe...   \n",
       "2  several days you been bothered bypoor appetite...   \n",
       "3  not at all you been bothered bypoor appetite o...   \n",
       "4  several days you been bothered bypoor appetite...   \n",
       "\n",
       "                                              phq9_6  \\\n",
       "0  not at all you been bothered byfeeling bad abo...   \n",
       "1  several days you been bothered byfeeling bad a...   \n",
       "2  several days you been bothered byfeeling bad a...   \n",
       "3  several days you been bothered byfeeling bad a...   \n",
       "4  several days you been bothered byfeeling bad a...   \n",
       "\n",
       "                                              phq9_7  ...  \\\n",
       "0  more than half of the days you been bothered b...  ...   \n",
       "1  nearly every day you been bothered bytrouble c...  ...   \n",
       "2  several days you been bothered bytrouble conce...  ...   \n",
       "3  several days you been bothered bytrouble conce...  ...   \n",
       "4  several days you been bothered bytrouble conce...  ...   \n",
       "\n",
       "  acha_12months_any_comp     sex  fulltime international  \\\n",
       "0                      2  Female       Yes            No   \n",
       "1                      0  Female       Yes            No   \n",
       "2                      2  Female       Yes            No   \n",
       "3                      2  Female       Yes            No   \n",
       "4                      5  Female       Yes            No   \n",
       "\n",
       "                                           race_1 race_2              race_3  \\\n",
       "0                                             NaN    NaN                 NaN   \n",
       "1                                             NaN    NaN                 NaN   \n",
       "2                                             NaN    NaN  Hispanic or Latino   \n",
       "3  White - not Hispanic (includes Middle Eastern)    NaN                 NaN   \n",
       "4  White - not Hispanic (includes Middle Eastern)    NaN                 NaN   \n",
       "\n",
       "                      race_4 race_5 race_6  \n",
       "0  Asian or Pacific Islander    NaN    NaN  \n",
       "1  Asian or Pacific Islander    NaN    NaN  \n",
       "2  Asian or Pacific Islander    NaN    NaN  \n",
       "3                        NaN    NaN    NaN  \n",
       "4                        NaN    NaN    NaN  \n",
       "\n",
       "[5 rows x 73 columns]"
      ]
     },
     "execution_count": 292,
     "metadata": {},
     "output_type": "execute_result"
    }
   ],
   "source": [
    "data.head()"
   ]
  },
  {
   "cell_type": "code",
   "execution_count": 293,
   "id": "2bbe26c0-8ff1-45cb-bdf5-7a3b1addcf00",
   "metadata": {},
   "outputs": [],
   "source": [
    "\n",
    "depression = [\n",
    "    'phq9_1',\n",
    "    'phq9_2',\n",
    "    'phq9_3',\n",
    "    'phq9_4',\n",
    "    'phq9_5',\n",
    "    'phq9_6',\n",
    "    'phq9_7',\n",
    "    'phq9_8',\n",
    "    'phq9_9',\n",
    "]\n",
    "\n",
    "depression_dict = {\n",
    "    'phq9_1':\"little interest or pleasure in doing things\",\n",
    "    'phq9_2': \"feeling down, depressed, or hopeless\",\n",
    "    'phq9_3': \"trouble falling or staying asleep, or sleeping too much\",\n",
    "    'phq9_4': \"feeling tired or having little energy\",\n",
    "    'phq9_5': \"poor appetite or overeating\",\n",
    "    'phq9_6': \"feeling bad about yourself or that you are a failure or have let yourself or your family down\",\n",
    "    'phq9_7': \"trouble concentrating on things, such as reading the newspaper or watching television\",\n",
    "    'phq9_8': \"moving or speaking so slowly that other people could have noticed, or the opposite - being so fidgety or restless that you have been moving a lot more than usual?\",\n",
    "    'phq9_9': \"thoughts that you would be better off dead, or thoughts of hurting yourself in some way\",\n",
    "}\n",
    "\n",
    "anxiety = [\n",
    "    'gad7_1',\n",
    "    'gad7_2',\n",
    "    'gad7_3',\n",
    "    'gad7_4',\n",
    "    'gad7_5',\n",
    "    'gad7_6',\n",
    "    'gad7_7',\n",
    "]\n",
    "\n",
    "anxiety_dict = {\n",
    "    'gad7_1': \"feeling nervous, anxious, or on edge\",\n",
    "    'gad7_2': \"not being able to stop or control worrying\",\n",
    "    'gad7_3': \"worrying too much about different things\",\n",
    "    'gad7_4': \"trouble relaxing\",\n",
    "    'gad7_5': \"being so restless that it's hard to sit still\",\n",
    "    'gad7_6': \"becoming easily annoyed or irritable\",\n",
    "    'gad7_7': \"feeling afraid as if something awful might happen\",\n",
    "}\n",
    "\n",
    "acha = [\n",
    "    'acha_12months_times_1',\n",
    "    'acha_12months_times_2',\n",
    "    'acha_12months_times_3',\n",
    "    'acha_12months_times_4',\n",
    "    'acha_12months_times_5',\n",
    "    'acha_12months_times_6',\n",
    "    'acha_12months_times_7',\n",
    "]\n",
    "\n",
    "acha_dict = {\n",
    "    'acha_12months_times_1': \"Felt things were hopeless\",\n",
    "    'acha_12months_times_2': \"Felt overwhelmed by all you had to do\",\n",
    "    'acha_12months_times_3': \"Felt exhausted (not from physical activity)\",\n",
    "    'acha_12months_times_4': \"Felt very sad\",\n",
    "    'acha_12months_times_5': \"Felt so depressed that it was difficult to function\",\n",
    "    'acha_12months_times_6': \"Seriously considered attempting suicide\",\n",
    "    'acha_12months_times_7': \"Attempted suicide\",\n",
    "}\n",
    "\n",
    "acha_depression = [\n",
    "    'acha_depression',\n",
    "    'acha_services_1',\n",
    "    'acha_services_2',\n",
    "    'acha_services_3',\n",
    "]\n",
    "\n",
    "acha_depression_dict = {\n",
    "    'acha_depression': \"have already been diagnosed with depression\",\n",
    "    'acha_services_1': \"you have been diagnosed with depression in the last 12 months\",\n",
    "    'acha_services_2': \"you are currently in therapy for depression\",\n",
    "    'acha_services_3': \"you are currently taking medication for depression\",\n",
    "}\n",
    "\n",
    "diseases = [\n",
    " 'acha_12months_any_1',\n",
    " 'acha_12months_any_2',\n",
    " 'acha_12months_any_3',\n",
    " 'acha_12months_any_4',\n",
    " 'acha_12months_any_5',\n",
    " 'acha_12months_any_6',\n",
    " 'acha_12months_any_7',\n",
    " 'acha_12months_any_8',\n",
    " 'acha_12months_any_9',\n",
    " 'acha_12months_any_10',\n",
    " 'acha_12months_any_11',\n",
    " 'acha_12months_any_12',\n",
    " 'acha_12months_any_13',\n",
    " 'acha_12months_any_14',\n",
    " 'acha_12months_any_15',\n",
    " 'acha_12months_any_16',\n",
    " 'acha_12months_any_17',\n",
    " 'acha_12months_any_18',\n",
    " 'acha_12months_any_19',\n",
    " 'acha_12months_any_20',\n",
    " 'acha_12months_any_21',\n",
    " 'acha_12months_any_22',\n",
    " 'acha_12months_any_23',\n",
    " 'acha_12months_any_24',\n",
    " 'acha_12months_any_25',\n",
    " 'acha_12months_any_26',\n",
    " 'acha_12months_any_27',\n",
    " 'acha_12months_any_28',\n",
    " 'acha_12months_any_29',\n",
    "]"
   ]
  },
  {
   "cell_type": "code",
   "execution_count": 294,
   "id": "11ae6e07-b88c-4dce-926d-03313449d35d",
   "metadata": {},
   "outputs": [],
   "source": [
    "def format_age(born_date):\n",
    "    age = 2022 - born_date\n",
    "\n",
    "    if age < 18:\n",
    "        return \"0-17\"\n",
    "    elif age < 25:\n",
    "        return \"18-24\"\n",
    "    elif age < 35:\n",
    "        return \"25-34\"\n",
    "    elif age < 45:\n",
    "        return \"35-44\"\n",
    "    elif age < 55:\n",
    "        return \"45-54\"\n",
    "    else:\n",
    "        return \"55 ou mais\""
   ]
  },
  {
   "cell_type": "code",
   "execution_count": 295,
   "id": "46f4dc69-800b-4dae-8819-4b707538138f",
   "metadata": {},
   "outputs": [
    {
     "name": "stdout",
     "output_type": "stream",
     "text": [
      "describe your general health as very good\n",
      "female\n",
      "born year: 2000\n",
      "age range: 18-24\n",
      "fulltime student: yes\n",
      "\n",
      "mild depression reprensented by:\n",
      "(over the last two weeks)\n",
      "several days you been bothered bylittle interest or pleasure in doing things\n",
      "several days you been bothered byfeeling down, depressed, or hopeless\n",
      "not at all you been bothered bytrouble falling or staying asleep, or sleeping too much\n",
      "several days you been bothered byfeeling tired or having little energy\n",
      "not at all you been bothered bypoor appetite or overeating\n",
      "not at all you been bothered byfeeling bad about yourself or that you are a failure or have let yourself or your family down\n",
      "more than half of the days you been bothered bytrouble concentrating on things, such as reading the newspaper or watching television\n",
      "not at all you been bothered bymoving or speaking so slowly that other people could have noticed or the opposite - being so fidgety or restless that you have been moving a lot more than usual\n",
      "several days you been bothered bythoughts that you would be better off dead, or thoughts of hurting yourself in some way\n",
      "\n",
      "minimal anxiety reprensented by:\n",
      "(over the last two weeks)\n",
      "not at all you been bothered byfeeling nervous, anxious, or on edge\n",
      "not at all you been bothered bynot being able to stop or control worrying\n",
      "not at all you been bothered byworrying too much about different things\n",
      "not at all you been bothered bytrouble relaxing\n",
      "not at all you been bothered bybeing so restless that it's hard to sit still\n",
      "not at all you been bothered bybecoming easily annoyed or irritable\n",
      "not at all you been bothered byfeeling afraid as if something awful might happen\n",
      "\n",
      "(within the last 12 months):\n",
      "you never felt things were hopeless\n",
      "you 11 or more times felt overwhelmed by all you had to do\n",
      "you 5-6 times felt exhausted (not from physical activity)\n",
      "you 3-4 times felt very sad\n",
      "you never felt so depressed that it was difficult to function\n",
      "you never seriously considered attempting suicide\n",
      "you never attempted suicide\n",
      "\n",
      "medical condition:\n",
      "substance abuse problem\n",
      "back pain\n",
      "\n"
     ]
    }
   ],
   "source": [
    "import numpy as np\n",
    "text_data = []\n",
    "\n",
    "for i,row in data.iterrows():\n",
    "    text_row = \"\"\n",
    "    text_row += row[\"general_health\"] + \"\\n\" \n",
    "    text_row += row['sex'] + \"\\n\"\n",
    "    text_row += f\"born year: {row['year_1']}\\n\"\n",
    "    text_row += f\"age range: {format_age(row['year_1'])}\\n\"\n",
    "    text_row += f\"Fulltime Student: {row['fulltime']}\" + \"\\n\"\n",
    "\n",
    "    text_row += f\"\\n{row['phq9_severity']} reprensented by:\\n(Over the last two weeks)\\n\"\n",
    "    \n",
    "    for item in depression:\n",
    "        if row[item]:\n",
    "            text_row += row[item] + \"\\n\"\n",
    "            \n",
    "    text_row += f\"\\n{row['gad7_severity']} reprensented by:\\n(Over the last two weeks)\\n\"\n",
    "    for item in anxiety:\n",
    "        if row[item]:\n",
    "            text_row += row[item] + \"\\n\"\n",
    "    \n",
    "    text_row += \"\\n(within the last 12 months):\\n\"\n",
    "    \n",
    "    for item in acha:\n",
    "        if row[item] is not None and row[item] is not np.NAN:\n",
    "            text_row += row[item] + \"\\n\"\n",
    "\n",
    "    text_row += \"\\nmedical condition:\\n\"\n",
    "    for item in diseases:\n",
    "        if row[item]:\n",
    "            text_row += row[item] + \"\\n\"\n",
    "\n",
    "    text_data.append(text_row.lower())\n",
    "\n",
    "print(text_data[0])"
   ]
  },
  {
   "cell_type": "code",
   "execution_count": 296,
   "id": "2307c8e4-1f6b-43d4-a66c-0a7fec6a24b7",
   "metadata": {},
   "outputs": [
    {
     "data": {
      "text/plain": [
       "2052"
      ]
     },
     "execution_count": 296,
     "metadata": {},
     "output_type": "execute_result"
    }
   ],
   "source": [
    "len(text_data[0])"
   ]
  }
 ],
 "metadata": {
  "kernelspec": {
   "display_name": "Python 3 (ipykernel)",
   "language": "python",
   "name": "python3"
  },
  "language_info": {
   "codemirror_mode": {
    "name": "ipython",
    "version": 3
   },
   "file_extension": ".py",
   "mimetype": "text/x-python",
   "name": "python",
   "nbconvert_exporter": "python",
   "pygments_lexer": "ipython3",
   "version": "3.10.12"
  }
 },
 "nbformat": 4,
 "nbformat_minor": 5
}
