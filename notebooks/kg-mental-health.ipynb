{
 "cells": [
  {
   "cell_type": "code",
   "execution_count": 1,
   "id": "390177f7-8782-4adf-91df-341977fe73b7",
   "metadata": {},
   "outputs": [],
   "source": [
    "import pandas as pd"
   ]
  },
  {
   "cell_type": "code",
   "execution_count": 2,
   "id": "d853ad60-3a4c-421e-85b0-69a1075a8aa3",
   "metadata": {},
   "outputs": [
    {
     "name": "stdout",
     "output_type": "stream",
     "text": [
      "<class 'pandas.core.frame.DataFrame'>\n",
      "RangeIndex: 579 entries, 0 to 578\n",
      "Columns: 118 entries, year_1 to race_6\n",
      "dtypes: int64(49), object(69)\n",
      "memory usage: 533.9+ KB\n"
     ]
    }
   ],
   "source": [
    "data = pd.read_csv(\"../data/MENTAL HEALTH DATA.csv\")\n",
    "data.info()"
   ]
  },
  {
   "cell_type": "code",
   "execution_count": 3,
   "id": "712b982b-349f-49f2-9738-2b92d6205c8a",
   "metadata": {},
   "outputs": [],
   "source": [
    "data = data.drop(columns=[ \n",
    " 'phq9_1NUM',\n",
    " 'phq9_2NUM',\n",
    " 'phq9_3NUM',\n",
    " 'phq9_4NUM',\n",
    " 'phq9_5NUM',\n",
    " 'phq9_6 NUM',\n",
    " 'phq9_7NUM',\n",
    " 'phq9_8NUM',\n",
    " 'phq9_9NUM',\n",
    " 'phq9_COMP',\n",
    " 'gad7_1NUM',\n",
    " 'gad7_2NUM',\n",
    " 'gad7_3NUM',\n",
    " 'gad7_4NUM',\n",
    " 'gad7_5NUM',\n",
    " 'gad7_6NUM',\n",
    " 'gad7_7NUM',\n",
    " 'gad7_COMP',\n",
    " 'acha_12months_any_1NUM',\n",
    " 'acha_12months_any_2NUM',\n",
    " 'acha_12months_any_3NUM',\n",
    " 'acha_12months_any_4NUM',\n",
    " 'acha_12months_any_5NUM',\n",
    " 'acha_12months_any_6NUM',\n",
    " 'acha_12months_any_7NUM',\n",
    " 'acha_12months_any_8NUM',\n",
    " 'acha_12months_any_9NUM',\n",
    " 'acha_12months_any_10NUM',\n",
    " 'acha_12months_any_11NUM',\n",
    " 'acha_12months_any_12NUM',\n",
    " 'acha_12months_any_13NUM',\n",
    " 'acha_12months_any_14NUM',\n",
    " 'acha_12months_any_15NUM',\n",
    " 'acha_12months_any_16NUM',\n",
    " 'acha_12months_any_17NUM',\n",
    " 'acha_12months_any_18NUM',\n",
    " 'acha_12months_any_19NUM',\n",
    " 'acha_12months_any_20NUM',\n",
    " 'acha_12months_any_21NUM',\n",
    " 'acha_12months_any_22NUM',\n",
    " 'acha_12months_any_23NUM',\n",
    " 'acha_12months_any_24NUM',\n",
    " 'acha_12months_any_25NUM',\n",
    " 'acha_12months_any_26NUM',\n",
    " 'acha_12months_any_27NUM',\n",
    " 'acha_12months_any_28NUM',\n",
    " 'acha_12months_any_29NUM',\n",
    " 'acha_12months_any_comp',\n",
    " 'race_1',\n",
    " 'race_2',\n",
    " 'race_3',\n",
    " 'race_4',\n",
    " 'race_5',\n",
    " 'race_6',\n",
    " 'international',\n",
    " 'state_1'\n",
    "])\n"
   ]
  },
  {
   "cell_type": "code",
   "execution_count": 4,
   "id": "36adf190-01f3-40df-87ce-13a48e8f92a3",
   "metadata": {},
   "outputs": [],
   "source": [
    "depression = [\n",
    "    'phq9_1',\n",
    "    'phq9_2',\n",
    "    'phq9_3',\n",
    "    'phq9_4',\n",
    "    'phq9_5',\n",
    "    'phq9_6',\n",
    "    'phq9_7',\n",
    "    'phq9_8',\n",
    "    'phq9_9',\n",
    "]\n",
    "\n",
    "depression_dict = {\n",
    "    'phq9_1': \"little interest or pleasure in doing things\",\n",
    "    'phq9_2': \"feeling down, depressed, or hopeless\",\n",
    "    'phq9_3': \"trouble falling or staying asleep, or sleeping too much\",\n",
    "    'phq9_4': \"feeling tired or having little energy\",\n",
    "    'phq9_5': \"poor appetite or overeating\",\n",
    "    'phq9_6': \"feeling bad about yourself or that you are a failure or have let yourself or your family down\",\n",
    "    'phq9_7': \"trouble concentrating on things, such as reading the newspaper or watching television\",\n",
    "    'phq9_8': \"moving or speaking so slowly that other people could have noticed, or the opposite - being so fidgety or restless that you have been moving a lot more than usual?\",\n",
    "    'phq9_9': \"thoughts that you would be better off dead, or thoughts of hurting yourself in some way\",\n",
    "}\n",
    "\n",
    "anxiety = [\n",
    "    'gad7_1',\n",
    "    'gad7_2',\n",
    "    'gad7_3',\n",
    "    'gad7_4',\n",
    "    'gad7_5',\n",
    "    'gad7_6',\n",
    "    'gad7_7',\n",
    "]\n",
    "\n",
    "anxiety_dict = {\n",
    "    'gad7_1': \"feeling nervous, anxious, or on edge\",\n",
    "    'gad7_2': \"not being able to stop or control worrying\",\n",
    "    'gad7_3': \"worrying too much about different things\",\n",
    "    'gad7_4': \"trouble relaxing\",\n",
    "    'gad7_5': \"being so restless that it's hard to sit still\",\n",
    "    'gad7_6': \"becoming easily annoyed or irritable\",\n",
    "    'gad7_7': \"feeling afraid as if something awful might happen\",\n",
    "}\n",
    "\n",
    "acha = [\n",
    "    'acha_12months_times_1',\n",
    "    'acha_12months_times_2',\n",
    "    'acha_12months_times_3',\n",
    "    'acha_12months_times_4',\n",
    "    'acha_12months_times_5',\n",
    "    'acha_12months_times_6',\n",
    "    'acha_12months_times_7',\n",
    "]\n",
    "\n",
    "acha_dict = {\n",
    "    'acha_12months_times_1': \"felt things were hopeless\",\n",
    "    'acha_12months_times_2': \"felt overwhelmed by all you had to do\",\n",
    "    'acha_12months_times_3': \"felt exhausted (not from physical activity)\",\n",
    "    'acha_12months_times_4': \"felt very sad\",\n",
    "    'acha_12months_times_5': \"felt so depressed that it was difficult to function\",\n",
    "    'acha_12months_times_6': \"seriously considered attempting suicide\",\n",
    "    'acha_12months_times_7': \"attempted suicide\",\n",
    "}\n",
    "\n",
    "acha_depression = [\n",
    "    'acha_depression',\n",
    "    'acha_services_1',\n",
    "    'acha_services_2',\n",
    "    'acha_services_3',\n",
    "]\n",
    "\n",
    "acha_depression_dict = {\n",
    "    'acha_depression': \"have already been diagnosed with depression\",\n",
    "    'acha_services_1': \"you have been diagnosed with depression in the last 12 months\",\n",
    "    'acha_services_2': \"you are currently in therapy for depression\",\n",
    "    'acha_services_3': \"you are currently taking medication for depression\",\n",
    "}\n",
    "\n",
    "diseases_list = [\n",
    " 'acha_12months_any_1',\n",
    " 'acha_12months_any_2',\n",
    " 'acha_12months_any_3',\n",
    " 'acha_12months_any_4',\n",
    " 'acha_12months_any_5',\n",
    " 'acha_12months_any_6',\n",
    " 'acha_12months_any_7',\n",
    " 'acha_12months_any_8',\n",
    " 'acha_12months_any_9',\n",
    " 'acha_12months_any_10',\n",
    " 'acha_12months_any_11',\n",
    " 'acha_12months_any_12',\n",
    " 'acha_12months_any_13',\n",
    " 'acha_12months_any_14',\n",
    " 'acha_12months_any_15',\n",
    " 'acha_12months_any_16',\n",
    " 'acha_12months_any_17',\n",
    " 'acha_12months_any_18',\n",
    " 'acha_12months_any_19',\n",
    " 'acha_12months_any_20',\n",
    " 'acha_12months_any_21',\n",
    " 'acha_12months_any_22',\n",
    " 'acha_12months_any_23',\n",
    " 'acha_12months_any_24',\n",
    " 'acha_12months_any_25',\n",
    " 'acha_12months_any_26',\n",
    " 'acha_12months_any_27',\n",
    " 'acha_12months_any_28',\n",
    " 'acha_12months_any_29',\n",
    "]\n",
    "\n",
    "medical_condition = {\n",
    "    'acha_12months_any_1':'Allergy problems',\n",
    "    'acha_12months_any_2':'Anorexia',\n",
    "    'acha_12months_any_3':'Anxiety Disorder',\n",
    "    'acha_12months_any_4':'Asthma',\n",
    "    'acha_12months_any_5':'Bulimia',\n",
    "    'acha_12months_any_6':'Chronic Fatigue Syndrome',\n",
    "    'acha_12months_any_7':'Depression',\n",
    "    'acha_12months_any_8':'Diabetes',\n",
    "    'acha_12months_any_9':'Endometriosis',\n",
    "    'acha_12months_any_10':'Genital Herpes',\n",
    "    'acha_12months_any_11':'Genital warts/HPV',\n",
    "    'acha_12months_any_12':'Hepatitis B or C',\n",
    "    'acha_12months_any_13':'High blood pressure',\n",
    "    'acha_12months_any_14':'High cholesterol',\n",
    "    'acha_12months_any_15':'HIV infection',\n",
    "    'acha_12months_any_16':'Repetitive stress injury (e.g. carpal tunnel syndrome)',\n",
    "    'acha_12months_any_17':'Seasonal Affect Disorder',\n",
    "    'acha_12months_any_18':'Substance abuse problem',\n",
    "    'acha_12months_any_19':'Back pain',\n",
    "    'acha_12months_any_20':'Broken bone/fracture',\n",
    "    'acha_12months_any_21':'Bronchitis',\n",
    "    'acha_12months_any_22':'Chlamydia',\n",
    "    'acha_12months_any_23':'Ear Infection',\n",
    "    'acha_12months_any_24':'Gonorrhea',\n",
    "    'acha_12months_any_25':'Mononucleosis',\n",
    "    'acha_12months_any_26':'Pelvic Inflammatory Disease',\n",
    "    'acha_12months_any_27':'Sinus Infection',\n",
    "    'acha_12months_any_28':'Strep throat',\n",
    "    'acha_12months_any_29':'Tuberculosis',\n",
    "}"
   ]
  },
  {
   "cell_type": "code",
   "execution_count": 5,
   "id": "a6040769-8fbe-43c7-a0c1-c40d5d624a74",
   "metadata": {
    "scrolled": true
   },
   "outputs": [
    {
     "name": "stdout",
     "output_type": "stream",
     "text": [
      "<class 'pandas.core.frame.DataFrame'>\n",
      "RangeIndex: 579 entries, 0 to 578\n",
      "Data columns (total 62 columns):\n",
      " #   Column                 Non-Null Count  Dtype \n",
      "---  ------                 --------------  ----- \n",
      " 0   year_1                 579 non-null    int64 \n",
      " 1   general_health         579 non-null    object\n",
      " 2   phq9_1                 579 non-null    object\n",
      " 3   phq9_2                 579 non-null    object\n",
      " 4   phq9_3                 579 non-null    object\n",
      " 5   phq9_4                 579 non-null    object\n",
      " 6   phq9_5                 579 non-null    object\n",
      " 7   phq9_6                 579 non-null    object\n",
      " 8   phq9_7                 579 non-null    object\n",
      " 9   phq9_8                 579 non-null    object\n",
      " 10  phq9_9                 579 non-null    object\n",
      " 11  phq9_severity          579 non-null    object\n",
      " 12  gad7_1                 579 non-null    object\n",
      " 13  gad7_2                 579 non-null    object\n",
      " 14  gad7_3                 579 non-null    object\n",
      " 15  gad7_4                 579 non-null    object\n",
      " 16  gad7_5                 579 non-null    object\n",
      " 17  gad7_6                 579 non-null    object\n",
      " 18  gad7_7                 579 non-null    object\n",
      " 19  gad7_severity          579 non-null    object\n",
      " 20  acha_12months_times_1  579 non-null    object\n",
      " 21  acha_12months_times_2  579 non-null    object\n",
      " 22  acha_12months_times_3  579 non-null    object\n",
      " 23  acha_12months_times_4  579 non-null    object\n",
      " 24  acha_12months_times_5  579 non-null    object\n",
      " 25  acha_12months_times_6  579 non-null    object\n",
      " 26  acha_12months_times_7  579 non-null    object\n",
      " 27  acha_depression        201 non-null    object\n",
      " 28  acha_services_1        62 non-null     object\n",
      " 29  acha_services_2        83 non-null     object\n",
      " 30  acha_services_3        122 non-null    object\n",
      " 31  acha_12months_any_1    579 non-null    object\n",
      " 32  acha_12months_any_2    579 non-null    object\n",
      " 33  acha_12months_any_3    579 non-null    object\n",
      " 34  acha_12months_any_4    579 non-null    object\n",
      " 35  acha_12months_any_5    579 non-null    object\n",
      " 36  acha_12months_any_6    579 non-null    object\n",
      " 37  acha_12months_any_7    579 non-null    object\n",
      " 38  acha_12months_any_8    579 non-null    object\n",
      " 39  acha_12months_any_9    579 non-null    object\n",
      " 40  acha_12months_any_10   579 non-null    object\n",
      " 41  acha_12months_any_11   579 non-null    object\n",
      " 42  acha_12months_any_12   579 non-null    object\n",
      " 43  acha_12months_any_13   579 non-null    object\n",
      " 44  acha_12months_any_14   579 non-null    object\n",
      " 45  acha_12months_any_15   579 non-null    object\n",
      " 46  acha_12months_any_16   579 non-null    object\n",
      " 47  acha_12months_any_17   579 non-null    object\n",
      " 48  acha_12months_any_18   579 non-null    object\n",
      " 49  acha_12months_any_19   579 non-null    object\n",
      " 50  acha_12months_any_20   579 non-null    object\n",
      " 51  acha_12months_any_21   579 non-null    object\n",
      " 52  acha_12months_any_22   579 non-null    object\n",
      " 53  acha_12months_any_23   579 non-null    object\n",
      " 54  acha_12months_any_24   579 non-null    object\n",
      " 55  acha_12months_any_25   579 non-null    object\n",
      " 56  acha_12months_any_26   579 non-null    object\n",
      " 57  acha_12months_any_27   579 non-null    object\n",
      " 58  acha_12months_any_28   579 non-null    object\n",
      " 59  acha_12months_any_29   579 non-null    object\n",
      " 60  sex                    579 non-null    object\n",
      " 61  fulltime               579 non-null    object\n",
      "dtypes: int64(1), object(61)\n",
      "memory usage: 280.6+ KB\n"
     ]
    }
   ],
   "source": [
    "clear_dict = {\n",
    "    \"No\": None\n",
    "}\n",
    "\n",
    "data[\"acha_depression\"] = data[\"acha_depression\"].replace(clear_dict)\n",
    "data[\"acha_services_1\"] = data[\"acha_services_1\"].replace(clear_dict)\n",
    "data[\"acha_services_2\"] = data[\"acha_services_2\"].replace(clear_dict)\n",
    "data[\"acha_services_3\"] = data[\"acha_services_3\"].replace(clear_dict)\n",
    "\n",
    "data.info()"
   ]
  },
  {
   "cell_type": "code",
   "execution_count": 6,
   "id": "d902d12d-d189-44dc-91b9-aade9cdec622",
   "metadata": {},
   "outputs": [],
   "source": [
    "def format_age(born_date):\n",
    "    age = 2022 - born_date\n",
    "\n",
    "    if age < 18:\n",
    "        return \"0-17\"\n",
    "    elif age < 25:\n",
    "        return \"18-24\"\n",
    "    elif age < 35:\n",
    "        return \"25-34\"\n",
    "    elif age < 45:\n",
    "        return \"35-44\"\n",
    "    elif age < 55:\n",
    "        return \"45-54\"\n",
    "    else:\n",
    "        return \"55 or more\""
   ]
  },
  {
   "cell_type": "code",
   "execution_count": 7,
   "id": "342777f4-1f3d-47c3-861c-e455026c0cb6",
   "metadata": {},
   "outputs": [
    {
     "data": {
      "text/plain": [
       "23711"
      ]
     },
     "execution_count": 7,
     "metadata": {},
     "output_type": "execute_result"
    }
   ],
   "source": [
    "import numpy as np\n",
    "triples = []\n",
    "\n",
    "symptons = set()\n",
    "disorders = set()\n",
    "diseases = set()\n",
    "features = set()\n",
    "\n",
    "for i,row in data.iterrows():\n",
    "\n",
    "    disorders.add(row['phq9_severity'].lower())\n",
    "    triples.append((row['phq9_severity'].lower(),\"disorder_related_general_health\",row[\"general_health\"].lower()))\n",
    "    triples.append((row['phq9_severity'].lower(), \"disorder_related_age_range\", format_age(row['year_1'])))\n",
    "    \n",
    "    disorders.add(row['gad7_severity'].lower())\n",
    "    triples.append((row['gad7_severity'].lower(),\"disorder_related_general_health\",row[\"general_health\"].lower()))\n",
    "    triples.append((row['gad7_severity'].lower(), \"disorder_related_age_range\", format_age(row['year_1'])))\n",
    "\n",
    "    features.add(format_age(row['year_1']))\n",
    "    features.add(row[\"general_health\"].lower())\n",
    "    triples.append((row['gad7_severity'].lower(), \"disorder_related_disorder\", row['phq9_severity'].lower()))\n",
    "    \n",
    "    for item in depression:\n",
    "        if row[item]:\n",
    "            symptons.add(row[item].lower() + \" - \" +depression_dict[item].lower())\n",
    "            triples.append((row['phq9_severity'].lower(),\"disorder_related_sympton\",row[item].lower() + \" - \" +depression_dict[item].lower()))\n",
    "            \n",
    "    for item in anxiety:\n",
    "        if row[item]:\n",
    "            symptons.add(row[item].lower() + \" - \" +anxiety_dict[item].lower())\n",
    "            triples.append((row['gad7_severity'].lower(),\"disorder_related_sympton\",row[item].lower() + \" - \" +anxiety_dict[item].lower()))\n",
    "    \n",
    "    for item in acha:\n",
    "        if row[item] is not None and row[item] is not np.NAN:\n",
    "            symptons.add(row[item].lower() + \" - \" +acha_dict[item].lower())\n",
    "            triples.append((row['gad7_severity'].lower(),\"disorder_related_sympton\",row[item].lower() + \" - \" +acha_dict[item].lower()))\n",
    "            triples.append((row['phq9_severity'].lower(),\"disorder_related_sympton\",row[item].lower() + \" - \" +acha_dict[item].lower()))\n",
    "\n",
    "    for item in diseases_list:\n",
    "        if row[item].lower() == \"yes\":\n",
    "            diseases.add(medical_condition[item].lower())\n",
    "            triples.append((row['gad7_severity'].lower(),\"disorder_related_disease\",medical_condition[item].lower()))\n",
    "            triples.append((row['phq9_severity'].lower(),\"disorder_related_disease\",medical_condition[item].lower()))\n",
    "\n",
    "len(triples)"
   ]
  },
  {
   "cell_type": "code",
   "execution_count": 49,
   "id": "75a6e3e6-908e-425a-9f6e-daeb3f21c9df",
   "metadata": {},
   "outputs": [
    {
     "data": {
      "text/plain": [
       "[('mild depression', 'disorder_related_general_health', 'very good'),\n",
       " ('mild depression', 'disorder_related_age_range', '18-24'),\n",
       " ('minimal anxiety', 'disorder_related_general_health', 'very good'),\n",
       " ('minimal anxiety', 'disorder_related_age_range', '18-24'),\n",
       " ('minimal anxiety', 'disorder_related_disorder', 'mild depression'),\n",
       " ('mild depression',\n",
       "  'disorder_related_sympton',\n",
       "  'several days - little interest or pleasure in doing things'),\n",
       " ('mild depression',\n",
       "  'disorder_related_sympton',\n",
       "  'several days - feeling down, depressed, or hopeless'),\n",
       " ('mild depression',\n",
       "  'disorder_related_sympton',\n",
       "  'not at all - trouble falling or staying asleep, or sleeping too much'),\n",
       " ('mild depression',\n",
       "  'disorder_related_sympton',\n",
       "  'several days - feeling tired or having little energy'),\n",
       " ('mild depression',\n",
       "  'disorder_related_sympton',\n",
       "  'not at all - poor appetite or overeating'),\n",
       " ('mild depression',\n",
       "  'disorder_related_sympton',\n",
       "  'not at all - feeling bad about yourself or that you are a failure or have let yourself or your family down'),\n",
       " ('mild depression',\n",
       "  'disorder_related_sympton',\n",
       "  'more than half of the days - trouble concentrating on things, such as reading the newspaper or watching television'),\n",
       " ('mild depression',\n",
       "  'disorder_related_sympton',\n",
       "  'not at all - moving or speaking so slowly that other people could have noticed, or the opposite - being so fidgety or restless that you have been moving a lot more than usual?'),\n",
       " ('mild depression',\n",
       "  'disorder_related_sympton',\n",
       "  'several days - thoughts that you would be better off dead, or thoughts of hurting yourself in some way'),\n",
       " ('minimal anxiety',\n",
       "  'disorder_related_sympton',\n",
       "  'not at all - feeling nervous, anxious, or on edge'),\n",
       " ('minimal anxiety',\n",
       "  'disorder_related_sympton',\n",
       "  'not at all - not being able to stop or control worrying'),\n",
       " ('minimal anxiety',\n",
       "  'disorder_related_sympton',\n",
       "  'not at all - worrying too much about different things'),\n",
       " ('minimal anxiety',\n",
       "  'disorder_related_sympton',\n",
       "  'not at all - trouble relaxing'),\n",
       " ('minimal anxiety',\n",
       "  'disorder_related_sympton',\n",
       "  \"not at all - being so restless that it's hard to sit still\"),\n",
       " ('minimal anxiety',\n",
       "  'disorder_related_sympton',\n",
       "  'not at all - becoming easily annoyed or irritable'),\n",
       " ('minimal anxiety',\n",
       "  'disorder_related_sympton',\n",
       "  'not at all - feeling afraid as if something awful might happen'),\n",
       " ('minimal anxiety',\n",
       "  'disorder_related_sympton',\n",
       "  'never - felt things were hopeless'),\n",
       " ('mild depression',\n",
       "  'disorder_related_sympton',\n",
       "  'never - felt things were hopeless'),\n",
       " ('minimal anxiety',\n",
       "  'disorder_related_sympton',\n",
       "  '11 or more times - felt overwhelmed by all you had to do'),\n",
       " ('mild depression',\n",
       "  'disorder_related_sympton',\n",
       "  '11 or more times - felt overwhelmed by all you had to do'),\n",
       " ('minimal anxiety',\n",
       "  'disorder_related_sympton',\n",
       "  '5-6 times - felt exhausted (not from physical activity)'),\n",
       " ('mild depression',\n",
       "  'disorder_related_sympton',\n",
       "  '5-6 times - felt exhausted (not from physical activity)'),\n",
       " ('minimal anxiety', 'disorder_related_sympton', '3-4 times - felt very sad'),\n",
       " ('mild depression', 'disorder_related_sympton', '3-4 times - felt very sad'),\n",
       " ('minimal anxiety',\n",
       "  'disorder_related_sympton',\n",
       "  'never - felt so depressed that it was difficult to function')]"
      ]
     },
     "execution_count": 49,
     "metadata": {},
     "output_type": "execute_result"
    }
   ],
   "source": [
    "triples[:30]"
   ]
  },
  {
   "cell_type": "code",
   "execution_count": 9,
   "id": "9567d60c-22b4-4f6e-ae93-784ceb662ab3",
   "metadata": {},
   "outputs": [
    {
     "name": "stdout",
     "output_type": "stream",
     "text": [
      "Symptons: 111\n",
      "Diseases: 29\n",
      "Disorders: 9\n",
      "Features: 9\n"
     ]
    }
   ],
   "source": [
    "print(f\"Symptons: {len(symptons)}\")\n",
    "print(f\"Diseases: {len(diseases)}\")\n",
    "print(f\"Disorders: {len(disorders)}\")\n",
    "print(f\"Features: {len(features)}\")\n"
   ]
  },
  {
   "cell_type": "code",
   "execution_count": 11,
   "id": "a915663f-1ea2-4d6a-9ff6-b3d399807507",
   "metadata": {},
   "outputs": [
    {
     "data": {
      "image/png": "[encoded data removed]",
      "text/plain": [
       "<Figure size 640x480 with 1 Axes>"
      ]
     },
     "metadata": {},
     "output_type": "display_data"
    }
   ],
   "source": [
    "import matplotlib.pyplot as plt\n",
    "\n",
    "plt.hist(data['year_1'])\n",
    "plt.title(\"Histograma do Ano de Nascimento\")\n",
    "plt.show()"
   ]
  },
  {
   "cell_type": "code",
   "execution_count": 17,
   "id": "00444195-9ac1-4768-b598-1a084eccd09b",
   "metadata": {},
   "outputs": [
    {
     "data": {
      "image/png": "[encoded data removed]",
      "text/plain": [
       "<Figure size 640x480 with 1 Axes>"
      ]
     },
     "metadata": {},
     "output_type": "display_data"
    }
   ],
   "source": [
    "health = data['general_health'].value_counts()\n",
    "\n",
    "plt.bar(\n",
    "    [\n",
    "           'Ruim',\n",
    "        'Razoável',\n",
    "        'Bom',\n",
    "        'Muito Bom',\n",
    "        'Excelente'\n",
    "    ],\n",
    "    [\n",
    "        29,\n",
    "        103,\n",
    "        227,\n",
    "        178,\n",
    "        42\n",
    "    ]\n",
    ")\n",
    "plt.title(\"Distribuição da Avaliação de Saúde\")\n",
    "plt.show()"
   ]
  },
  {
   "cell_type": "code",
   "execution_count": 16,
   "id": "a9b1b3f3-59e8-49f9-888a-d25b049984d3",
   "metadata": {},
   "outputs": [
    {
     "data": {
      "text/plain": [
       "general_health\n",
       "Good         227\n",
       "Very Good    178\n",
       "Fair         103\n",
       "Excellent     42\n",
       "Poor          29\n",
       "Name: count, dtype: int64"
      ]
     },
     "execution_count": 16,
     "metadata": {},
     "output_type": "execute_result"
    }
   ],
   "source": [
    "health"
   ]
  },
  {
   "cell_type": "code",
   "execution_count": 18,
   "id": "1f3d8fc9-0ae5-4576-95ae-1a8ce5e1140f",
   "metadata": {},
   "outputs": [],
   "source": [
    "def get_color(n):\n",
    "    type_to_color = {\n",
    "        \"symptom\": \"#fcce03\", \n",
    "        \"disease\": \"#fc0303\",\n",
    "        \"disorder\": \"#fc7303\",\n",
    "        \"feature\": \"#03f4fc\",\n",
    "    }\n",
    "\n",
    "    if n.lower() in symptons:\n",
    "        return type_to_color[\"symptom\"]\n",
    "    if n.lower() in diseases:\n",
    "        return type_to_color[\"disease\"]\n",
    "    if n.lower() in disorders:\n",
    "        return type_to_color[\"disorder\"]\n",
    "    if n.lower() in features:\n",
    "        return type_to_color[\"feature\"]\n",
    "        \n",
    "    return \"red\"\n",
    "\n",
    "def get_size(n):\n",
    "    type_to_size = {\n",
    "        \"symptom\": 20, \n",
    "        \"disease\": 30,\n",
    "        \"disorder\": 40,\n",
    "        \"feature\": 15,\n",
    "    }\n",
    "\n",
    "    if n.lower() in symptons:\n",
    "        return type_to_size[\"symptom\"]\n",
    "    if n.lower() in diseases:\n",
    "        return type_to_size[\"disease\"]\n",
    "    if n.lower() in disorders:\n",
    "        return type_to_size[\"disorder\"]\n",
    "    if n.lower() in features:\n",
    "        return type_to_size[\"feature\"]\n",
    "        \n",
    "    return 10"
   ]
  },
  {
   "cell_type": "markdown",
   "id": "910b2e98-289b-4e36-a1e9-098463bbe30f",
   "metadata": {},
   "source": [
    "# Cálculo de Ocorrência e Co-ocorrência"
   ]
  },
  {
   "cell_type": "code",
   "execution_count": 19,
   "id": "d72de72b-02c0-46b1-a43f-9d8dd4f0d68c",
   "metadata": {},
   "outputs": [],
   "source": [
    "def calculate_occurrence(subject):\n",
    "    count = 0\n",
    "    for t in triples:\n",
    "        if t[0] == subject:\n",
    "            count += 1\n",
    "    return count\n",
    "\n",
    "def calculate_co_occurrence(triple):\n",
    "    count = 0\n",
    "\n",
    "    for t in triples:\n",
    "        if t == triple:\n",
    "            count += 1\n",
    "\n",
    "    return count"
   ]
  },
  {
   "cell_type": "code",
   "execution_count": 20,
   "id": "9d38ee10-44d3-45c9-819d-8a0c0969582f",
   "metadata": {},
   "outputs": [
    {
     "data": {
      "text/plain": [
       "9"
      ]
     },
     "execution_count": 20,
     "metadata": {},
     "output_type": "execute_result"
    }
   ],
   "source": [
    "occurrences = {}\n",
    "\n",
    "for triple in triples:\n",
    "\n",
    "    subject = triple[0]\n",
    "    \n",
    "    occurrence = calculate_occurrence(subject)\n",
    "    \n",
    "    occurrences[subject] = occurrence\n",
    "\n",
    "len(occurrences)"
   ]
  },
  {
   "cell_type": "code",
   "execution_count": 21,
   "id": "2a71f3a3-e11f-4b0f-ade2-2317398e8850",
   "metadata": {},
   "outputs": [
    {
     "data": {
      "text/plain": [
       "{'mild depression': 3605,\n",
       " 'minimal anxiety': 3210,\n",
       " 'moderately severe depression': 1589,\n",
       " 'moderate depression': 3105,\n",
       " 'mild anxiety': 3820,\n",
       " 'moderate anxiety': 2565,\n",
       " 'severe anxiety': 1971,\n",
       " 'minimal depression': 3036,\n",
       " 'severe depression': 810}"
      ]
     },
     "execution_count": 21,
     "metadata": {},
     "output_type": "execute_result"
    }
   ],
   "source": [
    "occurrences"
   ]
  },
  {
   "cell_type": "code",
   "execution_count": 22,
   "id": "bffab252-9d34-4784-98f2-6608ef7525f7",
   "metadata": {},
   "outputs": [
    {
     "data": {
      "text/plain": [
       "965"
      ]
     },
     "execution_count": 22,
     "metadata": {},
     "output_type": "execute_result"
    }
   ],
   "source": [
    "co_occurrences = {}\n",
    "\n",
    "for triple in triples:\n",
    "    \n",
    "    co_occurrence = calculate_co_occurrence(triple)\n",
    "\n",
    "    co_occurrences[\"/\".join(list(triple))] = co_occurrence\n",
    "\n",
    "len(co_occurrences)"
   ]
  },
  {
   "cell_type": "markdown",
   "id": "eb6daf82-389c-4bd4-bdf9-43d1c3f7c70a",
   "metadata": {},
   "source": [
    "# Cálculo de Probabilidade"
   ]
  },
  {
   "cell_type": "code",
   "execution_count": 23,
   "id": "ba50c139-7cb5-4d16-bbfc-3e526b92d193",
   "metadata": {},
   "outputs": [],
   "source": [
    "def calculate_probability(subject):\n",
    "\n",
    "    occurrence = occurrences[subject]\n",
    "\n",
    "    sum_occurrence = 0;\n",
    "\n",
    "    for sub in occurrences:\n",
    "        sum_occurrence += occurrences[sub]\n",
    "\n",
    "    return occurrence / sum_occurrence"
   ]
  },
  {
   "cell_type": "code",
   "execution_count": 24,
   "id": "6e3a985e-d910-40d8-90ac-4222d980a552",
   "metadata": {},
   "outputs": [
    {
     "data": {
      "text/plain": [
       "9"
      ]
     },
     "execution_count": 24,
     "metadata": {},
     "output_type": "execute_result"
    }
   ],
   "source": [
    "probabilities = {}\n",
    "\n",
    "for subject in occurrences:\n",
    "    \n",
    "    probability = calculate_probability(subject)\n",
    "\n",
    "    probabilities[subject] = probability\n",
    "\n",
    "len(probabilities)"
   ]
  },
  {
   "cell_type": "code",
   "execution_count": 25,
   "id": "dd3c0521-6dbf-48fa-8674-20a7e51ca789",
   "metadata": {},
   "outputs": [
    {
     "data": {
      "text/plain": [
       "{'mild depression': 0.1520391379528489,\n",
       " 'minimal anxiety': 0.1353802032811775,\n",
       " 'moderately severe depression': 0.06701530935009067,\n",
       " 'moderate depression': 0.13095187887478385,\n",
       " 'mild anxiety': 0.16110665935641685,\n",
       " 'moderate anxiety': 0.10817763907047362,\n",
       " 'severe anxiety': 0.08312597528573236,\n",
       " 'minimal depression': 0.1280418371220109,\n",
       " 'severe depression': 0.034161359706465354}"
      ]
     },
     "execution_count": 25,
     "metadata": {},
     "output_type": "execute_result"
    }
   ],
   "source": [
    "probabilities"
   ]
  },
  {
   "cell_type": "code",
   "execution_count": 26,
   "id": "c9c76f94-4648-46c2-a2d9-6678c1528278",
   "metadata": {},
   "outputs": [],
   "source": [
    "def calculate_co_probability(triple):\n",
    "\n",
    "    occurrence = occurrences[triple[0]]\n",
    "\n",
    "    co_occurrence = co_occurrences[\"/\".join(list(triple))]\n",
    "\n",
    "    return co_occurrence / occurrence"
   ]
  },
  {
   "cell_type": "code",
   "execution_count": 27,
   "id": "5356d8e8-237d-4b4a-8436-1171c1b82ac7",
   "metadata": {},
   "outputs": [
    {
     "data": {
      "text/plain": [
       "965"
      ]
     },
     "execution_count": 27,
     "metadata": {},
     "output_type": "execute_result"
    }
   ],
   "source": [
    "co_probabilities = {}\n",
    "duplicates = set()\n",
    "\n",
    "for triple in triples:\n",
    "    if not \"/\".join(list(triple)) in duplicates:\n",
    "        probability = calculate_co_probability(triple)\n",
    "        co_probabilities[\"/\".join(list(triple))] = probability\n",
    "        duplicates.add(\"/\".join(list(triple)))\n",
    "        \n",
    "len(co_probabilities)"
   ]
  },
  {
   "cell_type": "markdown",
   "id": "b0b24058-943f-4643-9d27-da3333f4c61d",
   "metadata": {},
   "source": [
    "# Cálculo de Especificidade"
   ]
  },
  {
   "cell_type": "code",
   "execution_count": 28,
   "id": "88b3b523-2f70-4e41-9085-cf8409333e6f",
   "metadata": {},
   "outputs": [],
   "source": [
    "def calculate_s_probability(obj):\n",
    "\n",
    "    sum_co_occurrences = 0\n",
    "    sum_occurrences = 0\n",
    "    for triple in triples:\n",
    "        if triple[2] == obj:\n",
    "            sum_co_occurrences += co_occurrences[\"/\".join(list(triple))]\n",
    "            sum_occurrences += occurrences[triple[0]]\n",
    "\n",
    "    return sum_co_occurrences / sum_occurrences"
   ]
  },
  {
   "cell_type": "code",
   "execution_count": 29,
   "id": "a6663678-e79e-40e0-a215-482bdec2bc3c",
   "metadata": {},
   "outputs": [],
   "source": [
    "def calculate_specificity(triple):\n",
    "\n",
    "    prob_triple = co_probabilities[\"/\".join(list(triple))]\n",
    "\n",
    "    prob_s_triple = calculate_s_probability(triple[2])\n",
    "\n",
    "    return prob_triple / prob_s_triple"
   ]
  },
  {
   "cell_type": "code",
   "execution_count": 30,
   "id": "7e53d974-1904-4c7e-ac2a-5d4c07c059db",
   "metadata": {},
   "outputs": [
    {
     "data": {
      "text/plain": [
       "965"
      ]
     },
     "execution_count": 30,
     "metadata": {},
     "output_type": "execute_result"
    }
   ],
   "source": [
    "specificities = {}\n",
    "duplicates = set()\n",
    "\n",
    "for triple in triples:\n",
    "\n",
    "    if not \"/\".join(list(triple)) in duplicates:\n",
    "        specificity = calculate_specificity(triple)\n",
    "        specificities[\"/\".join(list(triple))] = specificity\n",
    "        duplicates.add(\"/\".join(list(triple)))\n",
    "\n",
    "len(specificities)"
   ]
  },
  {
   "cell_type": "markdown",
   "id": "4620eca8-c32a-4a2a-adf3-0b303d955138",
   "metadata": {},
   "source": [
    "# Cálculo de Confiabilidade"
   ]
  },
  {
   "cell_type": "code",
   "execution_count": 31,
   "id": "a80d7f6f-ba8b-4606-8ae0-3b53d166b7b6",
   "metadata": {},
   "outputs": [],
   "source": [
    "import math\n",
    "\n",
    "min_co_occurrence = 5\n",
    "R = 1\n",
    "\n",
    "def calculate_reliability(triple):\n",
    "    co_occurrence = co_occurrences[\"/\".join(list(triple))]\n",
    "\n",
    "    return math.log(max(1, 1 + co_occurrence - min_co_occurrence), 10) + R "
   ]
  },
  {
   "cell_type": "code",
   "execution_count": 32,
   "id": "732a0c3a-e2e2-4b5d-9f28-42eea4edc369",
   "metadata": {},
   "outputs": [
    {
     "data": {
      "text/plain": [
       "965"
      ]
     },
     "execution_count": 32,
     "metadata": {},
     "output_type": "execute_result"
    }
   ],
   "source": [
    "reliabilities = {}\n",
    "duplicates = set()\n",
    "\n",
    "for triple in triples:\n",
    "\n",
    "    if not \"/\".join(list(triple)) in duplicates:\n",
    "        reliability = calculate_reliability(triple)\n",
    "        reliabilities[\"/\".join(list(triple))] = reliability\n",
    "        duplicates.add(\"/\".join(list(triple)))\n",
    "\n",
    "len(reliabilities)"
   ]
  },
  {
   "cell_type": "markdown",
   "id": "d0448ec1-b87f-4ce7-aed4-37955c573541",
   "metadata": {},
   "source": [
    "# Análise das Propriedades Calculadas"
   ]
  },
  {
   "cell_type": "markdown",
   "id": "d958babc-574a-4601-b511-ddcaf5745779",
   "metadata": {},
   "source": [
    "## Ocorrências"
   ]
  },
  {
   "cell_type": "code",
   "execution_count": 33,
   "id": "d130d962-0ff2-4bd6-9801-815bcb306c69",
   "metadata": {},
   "outputs": [
    {
     "data": {
      "text/plain": [
       "[184, 172, 167, 154, 154, 153, 151, 150, 145, 144]"
      ]
     },
     "execution_count": 33,
     "metadata": {},
     "output_type": "execute_result"
    }
   ],
   "source": [
    "values_co_occurrences = []\n",
    "\n",
    "for occurrence in co_occurrences:\n",
    "    values_co_occurrences.append(co_occurrences[occurrence])\n",
    "\n",
    "values_co_occurrences.sort(reverse=True)\n",
    "values_co_occurrences[:10]"
   ]
  },
  {
   "cell_type": "code",
   "execution_count": 34,
   "id": "29546fd2-bbba-4695-b0a9-7508c1f6c433",
   "metadata": {},
   "outputs": [
    {
     "name": "stdout",
     "output_type": "stream",
     "text": [
      "Occurrences\n",
      "Max: 184\n",
      "Upper Limit:72.5\n",
      "Q3: 32.0\n",
      "Q2: 13.0\n",
      "Q1: 5.0\n",
      "Lower Limit:-35.5\n",
      "Min: 1\n"
     ]
    }
   ],
   "source": [
    "import numpy as np\n",
    "\n",
    "q1_occurrence, q2, q3 = np.quantile(values_co_occurrences, [0.25, 0.5 , 0.75])\n",
    "\n",
    "lower_limit = q1_occurrence - 1.5 * (q3 - q1_occurrence)\n",
    "upper_limit = q3 + 1.5 * (q3 - q1_occurrence)\n",
    "\n",
    "print(\"Occurrences\")\n",
    "print(f'Max: {max(values_co_occurrences)}')\n",
    "print(f'Upper Limit:{upper_limit}')\n",
    "print(f'Q3: {q3}')\n",
    "print(f'Q2: {q2}')\n",
    "print(f'Q1: {q1_occurrence}')\n",
    "print(f'Lower Limit:{lower_limit}')\n",
    "print(f'Min: {min(values_co_occurrences)}')"
   ]
  },
  {
   "cell_type": "code",
   "execution_count": 50,
   "id": "19ef44ed-3341-42e3-b6cb-d80aad550c9d",
   "metadata": {},
   "outputs": [
    {
     "data": {
      "image/png": "[encoded data removed]",
      "text/plain": [
       "<Figure size 640x480 with 1 Axes>"
      ]
     },
     "metadata": {},
     "output_type": "display_data"
    }
   ],
   "source": [
    "import matplotlib.pyplot as plt\n",
    "\n",
    "plt.boxplot(values_co_occurrences)\n",
    "plt.title(\"Boxplot de Co-ocorrências das Triplas\")\n",
    "plt.show()"
   ]
  },
  {
   "cell_type": "markdown",
   "id": "79c72884-5a3d-43ef-806a-91f5b04301e3",
   "metadata": {},
   "source": [
    "## Probabilidade"
   ]
  },
  {
   "cell_type": "code",
   "execution_count": 37,
   "id": "b7ed8ae5-6c22-43ae-a819-374b99d06c26",
   "metadata": {},
   "outputs": [
    {
     "data": {
      "text/plain": [
       "[0.05358255451713396,\n",
       " 0.048167539267015703,\n",
       " 0.047975077881619935,\n",
       " 0.047975077881619935,\n",
       " 0.04743083003952569,\n",
       " 0.04719949653870359,\n",
       " 0.04710144927536232,\n",
       " 0.04710144927536232,\n",
       " 0.0470404984423676,\n",
       " 0.04639376218323587]"
      ]
     },
     "execution_count": 37,
     "metadata": {},
     "output_type": "execute_result"
    }
   ],
   "source": [
    "values_co_probabilities = []\n",
    "\n",
    "for prob in co_probabilities:\n",
    "    values_co_probabilities.append(co_probabilities[prob])\n",
    "\n",
    "values_co_probabilities.sort(reverse=True)\n",
    "values_co_probabilities[:10]"
   ]
  },
  {
   "cell_type": "code",
   "execution_count": 38,
   "id": "b2796f71-8d61-43cc-8395-b145d3d621c8",
   "metadata": {},
   "outputs": [
    {
     "name": "stdout",
     "output_type": "stream",
     "text": [
      "Probabilities\n",
      "Max: 0.05358255451713396\n",
      "Upper Limit:0.02711269017958737\n",
      "Q3: 0.0121765601217656\n",
      "Q2: 0.0051529790660225444\n",
      "Q1: 0.002219140083217753\n",
      "Lower Limit:-0.012716989974604017\n",
      "Min: 0.0002617801047120419\n"
     ]
    }
   ],
   "source": [
    "import numpy as np\n",
    "\n",
    "q1, q2, q3 = np.quantile(values_co_probabilities, [0.25, 0.5 , 0.75])\n",
    "\n",
    "lower_limit = q1 - 1.5 * (q3 - q1)\n",
    "upper_limit = q3 + 1.5 * (q3 - q1)\n",
    "\n",
    "print(\"Probabilities\")\n",
    "print(f'Max: {max(values_co_probabilities)}')\n",
    "print(f'Upper Limit:{upper_limit}')\n",
    "print(f'Q3: {q3}')\n",
    "print(f'Q2: {q2}')\n",
    "print(f'Q1: {q1}')\n",
    "print(f'Lower Limit:{lower_limit}')\n",
    "print(f'Min: {min(values_co_probabilities)}')"
   ]
  },
  {
   "cell_type": "code",
   "execution_count": 39,
   "id": "3a0f9cf8-83fc-4944-8690-567c528246e3",
   "metadata": {},
   "outputs": [
    {
     "data": {
      "image/png": "[encoded data removed]",
      "text/plain": [
       "<Figure size 640x480 with 1 Axes>"
      ]
     },
     "metadata": {},
     "output_type": "display_data"
    }
   ],
   "source": [
    "import matplotlib.pyplot as plt\n",
    "\n",
    "plt.boxplot(values_co_probabilities)\n",
    "plt.title(\"Boxplot da Probabilidade Condicional\")\n",
    "plt.show()"
   ]
  },
  {
   "cell_type": "markdown",
   "id": "dbbbd75c-5b76-4a37-a513-df163c369726",
   "metadata": {},
   "source": [
    "## Especificidade"
   ]
  },
  {
   "cell_type": "code",
   "execution_count": 40,
   "id": "32b5c9f0-620e-44c3-9767-0df308699f67",
   "metadata": {},
   "outputs": [
    {
     "data": {
      "text/plain": [
       "[2.6135649296939616,\n",
       " 2.5928973405660187,\n",
       " 2.525069325018991,\n",
       " 2.5186462324393357,\n",
       " 2.5063655379331347,\n",
       " 2.383628072516961,\n",
       " 2.3807105064247924,\n",
       " 2.3679069856606088,\n",
       " 2.2786265432098762,\n",
       " 2.2391552511415522]"
      ]
     },
     "execution_count": 40,
     "metadata": {},
     "output_type": "execute_result"
    }
   ],
   "source": [
    "values_specificities = []\n",
    "\n",
    "for prob in specificities:\n",
    "    values_specificities.append(specificities[prob])\n",
    "\n",
    "values_specificities.sort(reverse=True)\n",
    "values_specificities[:10]"
   ]
  },
  {
   "cell_type": "code",
   "execution_count": 41,
   "id": "3077cba0-67b6-46e6-b2fd-50ac450d3f45",
   "metadata": {},
   "outputs": [
    {
     "name": "stdout",
     "output_type": "stream",
     "text": [
      "Specificities\n",
      "Max: 2.6135649296939616\n",
      "Upper Limit:2.0466266641035817\n",
      "Q3: 1.119894894894895\n",
      "Q2: 0.8503267592949362\n",
      "Q1: 0.5020737154224374\n",
      "Lower Limit:-0.4246580537862491\n",
      "Min: 0.010740968427076458\n"
     ]
    }
   ],
   "source": [
    "q1, q2, q3 = np.quantile(values_specificities, [0.25, 0.5 , 0.75])\n",
    "\n",
    "lower_limit = q1 - 1.5 * (q3 - q1)\n",
    "upper_limit = q3 + 1.5 * (q3 - q1)\n",
    "\n",
    "print(\"Specificities\")\n",
    "print(f'Max: {max(values_specificities)}')\n",
    "print(f'Upper Limit:{upper_limit}')\n",
    "print(f'Q3: {q3}')\n",
    "print(f'Q2: {q2}')\n",
    "print(f'Q1: {q1}')\n",
    "print(f'Lower Limit:{lower_limit}')\n",
    "print(f'Min: {min(values_specificities)}')"
   ]
  },
  {
   "cell_type": "code",
   "execution_count": 42,
   "id": "5a5e1103-edb2-48e4-ad09-7afc469b1555",
   "metadata": {},
   "outputs": [
    {
     "data": {
      "image/png": "[encoded data removed]",
      "text/plain": [
       "<Figure size 640x480 with 1 Axes>"
      ]
     },
     "metadata": {},
     "output_type": "display_data"
    }
   ],
   "source": [
    "import matplotlib.pyplot as plt\n",
    "\n",
    "plt.boxplot(values_specificities)\n",
    "plt.title(\"Boxplot da Especificidade\")\n",
    "plt.show()"
   ]
  },
  {
   "cell_type": "markdown",
   "id": "46058d82-6564-4240-b7eb-8fafd38c2602",
   "metadata": {},
   "source": [
    "## Confiabilidade"
   ]
  },
  {
   "cell_type": "code",
   "execution_count": 43,
   "id": "5f8ac3d1-a285-4af1-a935-3c3be653583e",
   "metadata": {},
   "outputs": [
    {
     "data": {
      "text/plain": [
       "[3.255272505103306,\n",
       " 3.2253092817258624,\n",
       " 3.2121876044039577,\n",
       " 3.176091259055681,\n",
       " 3.176091259055681,\n",
       " 3.173186268412274,\n",
       " 3.1673173347481756,\n",
       " 3.1643528557844367,\n",
       " 3.1492191126553797,\n",
       " 3.1461280356782377]"
      ]
     },
     "execution_count": 43,
     "metadata": {},
     "output_type": "execute_result"
    }
   ],
   "source": [
    "values_reliabilities = []\n",
    "\n",
    "for triple in reliabilities:\n",
    "    values_reliabilities.append(reliabilities[triple])\n",
    "\n",
    "values_reliabilities.sort(reverse=True)\n",
    "values_reliabilities[:10]"
   ]
  },
  {
   "cell_type": "code",
   "execution_count": 44,
   "id": "d31377bc-39bc-4eb2-b2b1-0f33f2b2b2ee",
   "metadata": {},
   "outputs": [
    {
     "name": "stdout",
     "output_type": "stream",
     "text": [
      "Reliabilities\n",
      "Max: 3.255272505103306\n",
      "Upper Limit:4.617895078355547\n",
      "Q3: 2.447158031342219\n",
      "Q2: 1.9542425094393248\n",
      "Q1: 1.0\n",
      "Lower Limit:-1.1707370470133283\n",
      "Min: 1.0\n"
     ]
    }
   ],
   "source": [
    "q1, q2, q3 = np.quantile(values_reliabilities, [0.25, 0.5 , 0.75])\n",
    "\n",
    "lower_limit = q1 - 1.5 * (q3 - q1)\n",
    "upper_limit = q3 + 1.5 * (q3 - q1)\n",
    "\n",
    "print(\"Reliabilities\")\n",
    "print(f'Max: {max(values_reliabilities)}')\n",
    "print(f'Upper Limit:{upper_limit}')\n",
    "print(f'Q3: {q3}')\n",
    "print(f'Q2: {q2}')\n",
    "print(f'Q1: {q1}')\n",
    "print(f'Lower Limit:{lower_limit}')\n",
    "print(f'Min: {min(values_reliabilities)}')"
   ]
  },
  {
   "cell_type": "code",
   "execution_count": 51,
   "id": "c9952daf-0d98-4a18-a3a8-76a953fd474e",
   "metadata": {},
   "outputs": [
    {
     "data": {
      "image/png": "[encoded data removed]",
      "text/plain": [
       "<Figure size 640x480 with 1 Axes>"
      ]
     },
     "metadata": {},
     "output_type": "display_data"
    }
   ],
   "source": [
    "import matplotlib.pyplot as plt\n",
    "\n",
    "plt.boxplot(values_reliabilities)\n",
    "plt.title(\"Boxplot da Confiabilidade\")\n",
    "plt.show()"
   ]
  },
  {
   "cell_type": "markdown",
   "id": "41de4cb2-827c-4f2d-b85e-56b0783b5001",
   "metadata": {},
   "source": [
    "# Exemplo"
   ]
  },
  {
   "cell_type": "code",
   "execution_count": 94,
   "id": "3df4d6b8-c7a8-48da-bb4d-3f7d34482982",
   "metadata": {},
   "outputs": [
    {
     "name": "stdout",
     "output_type": "stream",
     "text": [
      "Occurrences: 112\n",
      "Probability: 0.031067961165048542\n",
      "Specificities: 1.1734960887709394\n",
      "Reliability: 3.0334237554869494\n"
     ]
    }
   ],
   "source": [
    "triple_example = 'mild depression/disorder_related_sympton/several days - feeling down, depressed, or hopeless'\n",
    "\n",
    "print(f'Occurrences: {co_occurrences[triple_example]}')\n",
    "print(f'Probability: {co_probabilities[triple_example]}')\n",
    "print(f'Specificities: {specificities[triple_example]}')\n",
    "print(f'Reliability: {reliabilities[triple_example]}')\n"
   ]
  },
  {
   "cell_type": "code",
   "execution_count": 95,
   "id": "53b7c8b4-b401-4a7f-979f-c82c7cb18ca9",
   "metadata": {},
   "outputs": [
    {
     "data": {
      "text/html": [
       "<div>\n",
       "<style scoped>\n",
       "    .dataframe tbody tr th:only-of-type {\n",
       "        vertical-align: middle;\n",
       "    }\n",
       "\n",
       "    .dataframe tbody tr th {\n",
       "        vertical-align: top;\n",
       "    }\n",
       "\n",
       "    .dataframe thead th {\n",
       "        text-align: right;\n",
       "    }\n",
       "</style>\n",
       "<table border=\"1\" class=\"dataframe\">\n",
       "  <thead>\n",
       "    <tr style=\"text-align: right;\">\n",
       "      <th></th>\n",
       "      <th>disorder</th>\n",
       "      <th>symptoms</th>\n",
       "      <th>probability</th>\n",
       "      <th>specificity</th>\n",
       "    </tr>\n",
       "  </thead>\n",
       "  <tbody>\n",
       "    <tr>\n",
       "      <th>0</th>\n",
       "      <td>severe depression</td>\n",
       "      <td>never - attempted suicide</td>\n",
       "      <td>0.044444</td>\n",
       "      <td>0.932318</td>\n",
       "    </tr>\n",
       "    <tr>\n",
       "      <th>1</th>\n",
       "      <td>severe depression</td>\n",
       "      <td>nearly every day - feeling tired or having little energy</td>\n",
       "      <td>0.043210</td>\n",
       "      <td>2.367907</td>\n",
       "    </tr>\n",
       "    <tr>\n",
       "      <th>2</th>\n",
       "      <td>severe depression</td>\n",
       "      <td>nearly every day - trouble falling or staying asleep, or sleeping too much</td>\n",
       "      <td>0.039506</td>\n",
       "      <td>2.525069</td>\n",
       "    </tr>\n",
       "    <tr>\n",
       "      <th>3</th>\n",
       "      <td>severe depression</td>\n",
       "      <td>nearly every day - poor appetite or overeating</td>\n",
       "      <td>0.039506</td>\n",
       "      <td>2.506366</td>\n",
       "    </tr>\n",
       "    <tr>\n",
       "      <th>4</th>\n",
       "      <td>severe depression</td>\n",
       "      <td>nearly every day - feeling bad about yourself or that you are a failure or have let yourself or your family down</td>\n",
       "      <td>0.037037</td>\n",
       "      <td>2.592897</td>\n",
       "    </tr>\n",
       "  </tbody>\n",
       "</table>\n",
       "</div>"
      ],
      "text/plain": [
       "            disorder  \\\n",
       "0  severe depression   \n",
       "1  severe depression   \n",
       "2  severe depression   \n",
       "3  severe depression   \n",
       "4  severe depression   \n",
       "\n",
       "                                                                                                           symptoms  \\\n",
       "0                                                                                         never - attempted suicide   \n",
       "1                                                          nearly every day - feeling tired or having little energy   \n",
       "2                                        nearly every day - trouble falling or staying asleep, or sleeping too much   \n",
       "3                                                                    nearly every day - poor appetite or overeating   \n",
       "4  nearly every day - feeling bad about yourself or that you are a failure or have let yourself or your family down   \n",
       "\n",
       "   probability  specificity  \n",
       "0     0.044444     0.932318  \n",
       "1     0.043210     2.367907  \n",
       "2     0.039506     2.525069  \n",
       "3     0.039506     2.506366  \n",
       "4     0.037037     2.592897  "
      ]
     },
     "execution_count": 95,
     "metadata": {},
     "output_type": "execute_result"
    }
   ],
   "source": [
    "prefix =  'severe depression/disorder_related_sympton/'\n",
    "\n",
    "severe_depression_prob = {key: value for key, value in co_probabilities.items() if key.startswith(prefix)}\n",
    "severe_depression_spec = {key: value for key, value in specificities.items() if key.startswith(prefix)}\n",
    "severe_depression_occur = {key: value for key, value in co_occurrences.items() if key.startswith(prefix)}\n",
    "\n",
    "disor = []\n",
    "sympt = []\n",
    "prob = []\n",
    "spec = []\n",
    "\n",
    "for key, value in severe_depression_occur.items():\n",
    "    if value > q1_occurrence:\n",
    "        disorder, predicate, symptom = key.split(\"/\")\n",
    "        disor.append(disorder)\n",
    "        sympt.append(symptom)\n",
    "        prob.append(severe_depression_prob[key])\n",
    "        spec.append(severe_depression_spec[key])\n",
    "\n",
    "import pandas as pd\n",
    "pd.set_option('display.max_colwidth', None)\n",
    "\n",
    "data = pd.DataFrame({\n",
    "    \"disorder\": disor,\n",
    "    \"symptoms\": sympt,\n",
    "    \"probability\": prob,\n",
    "    \"specificity\": spec\n",
    "})\n",
    "\n",
    "data = data.sort_values(by=[\"probability\"], ascending=False).reset_index(drop=True)\n",
    "\n",
    "data.head()"
   ]
  },
  {
   "cell_type": "code",
   "execution_count": 60,
   "id": "9f6b9027-4819-4dcd-9e51-3d202a6e2bca",
   "metadata": {
    "scrolled": true
   },
   "outputs": [
    {
     "data": {
      "text/html": [
       "<div>\n",
       "<style scoped>\n",
       "    .dataframe tbody tr th:only-of-type {\n",
       "        vertical-align: middle;\n",
       "    }\n",
       "\n",
       "    .dataframe tbody tr th {\n",
       "        vertical-align: top;\n",
       "    }\n",
       "\n",
       "    .dataframe thead th {\n",
       "        text-align: right;\n",
       "    }\n",
       "</style>\n",
       "<table border=\"1\" class=\"dataframe\">\n",
       "  <thead>\n",
       "    <tr style=\"text-align: right;\">\n",
       "      <th></th>\n",
       "      <th>disorder</th>\n",
       "      <th>symptoms</th>\n",
       "      <th>probability</th>\n",
       "      <th>specificity</th>\n",
       "    </tr>\n",
       "  </thead>\n",
       "  <tbody>\n",
       "    <tr>\n",
       "      <th>0</th>\n",
       "      <td>severe anxiety</td>\n",
       "      <td>never - attempted suicide</td>\n",
       "      <td>0.043125</td>\n",
       "      <td>0.904646</td>\n",
       "    </tr>\n",
       "    <tr>\n",
       "      <th>1</th>\n",
       "      <td>severe anxiety</td>\n",
       "      <td>nearly every day - worrying too much about different things</td>\n",
       "      <td>0.041096</td>\n",
       "      <td>1.373209</td>\n",
       "    </tr>\n",
       "    <tr>\n",
       "      <th>2</th>\n",
       "      <td>severe anxiety</td>\n",
       "      <td>11 or more times - felt overwhelmed by all you had to do</td>\n",
       "      <td>0.040081</td>\n",
       "      <td>1.661558</td>\n",
       "    </tr>\n",
       "    <tr>\n",
       "      <th>3</th>\n",
       "      <td>severe anxiety</td>\n",
       "      <td>11 or more times - felt exhausted (not from physical activity)</td>\n",
       "      <td>0.037544</td>\n",
       "      <td>1.668655</td>\n",
       "    </tr>\n",
       "    <tr>\n",
       "      <th>4</th>\n",
       "      <td>severe anxiety</td>\n",
       "      <td>nearly every day - feeling nervous, anxious, or on edge</td>\n",
       "      <td>0.037037</td>\n",
       "      <td>1.442775</td>\n",
       "    </tr>\n",
       "    <tr>\n",
       "      <th>5</th>\n",
       "      <td>severe anxiety</td>\n",
       "      <td>nearly every day - not being able to stop or control worrying</td>\n",
       "      <td>0.036022</td>\n",
       "      <td>1.258154</td>\n",
       "    </tr>\n",
       "    <tr>\n",
       "      <th>6</th>\n",
       "      <td>severe anxiety</td>\n",
       "      <td>nearly every day - trouble relaxing</td>\n",
       "      <td>0.034500</td>\n",
       "      <td>1.366234</td>\n",
       "    </tr>\n",
       "    <tr>\n",
       "      <th>7</th>\n",
       "      <td>severe anxiety</td>\n",
       "      <td>11 or more times - felt very sad</td>\n",
       "      <td>0.033486</td>\n",
       "      <td>1.941730</td>\n",
       "    </tr>\n",
       "    <tr>\n",
       "      <th>8</th>\n",
       "      <td>severe anxiety</td>\n",
       "      <td>11 or more times - felt things were hopeless</td>\n",
       "      <td>0.026890</td>\n",
       "      <td>2.062312</td>\n",
       "    </tr>\n",
       "    <tr>\n",
       "      <th>9</th>\n",
       "      <td>severe anxiety</td>\n",
       "      <td>11 or more times - felt so depressed that it was difficult to function</td>\n",
       "      <td>0.025368</td>\n",
       "      <td>2.177554</td>\n",
       "    </tr>\n",
       "    <tr>\n",
       "      <th>10</th>\n",
       "      <td>severe anxiety</td>\n",
       "      <td>nearly every day - feeling afraid as if something awful might happen</td>\n",
       "      <td>0.024860</td>\n",
       "      <td>1.236356</td>\n",
       "    </tr>\n",
       "    <tr>\n",
       "      <th>11</th>\n",
       "      <td>severe anxiety</td>\n",
       "      <td>nearly every day - becoming easily annoyed or irritable</td>\n",
       "      <td>0.023338</td>\n",
       "      <td>1.486211</td>\n",
       "    </tr>\n",
       "    <tr>\n",
       "      <th>12</th>\n",
       "      <td>severe anxiety</td>\n",
       "      <td>never - seriously considered attempting suicide</td>\n",
       "      <td>0.021309</td>\n",
       "      <td>0.570864</td>\n",
       "    </tr>\n",
       "    <tr>\n",
       "      <th>13</th>\n",
       "      <td>severe anxiety</td>\n",
       "      <td>nearly every day - being so restless that it's hard to sit still</td>\n",
       "      <td>0.020802</td>\n",
       "      <td>1.274733</td>\n",
       "    </tr>\n",
       "    <tr>\n",
       "      <th>14</th>\n",
       "      <td>severe anxiety</td>\n",
       "      <td>more than half of the days - being so restless that it's hard to sit still</td>\n",
       "      <td>0.018772</td>\n",
       "      <td>1.525885</td>\n",
       "    </tr>\n",
       "    <tr>\n",
       "      <th>15</th>\n",
       "      <td>severe anxiety</td>\n",
       "      <td>more than half of the days - becoming easily annoyed or irritable</td>\n",
       "      <td>0.016235</td>\n",
       "      <td>0.997846</td>\n",
       "    </tr>\n",
       "    <tr>\n",
       "      <th>16</th>\n",
       "      <td>severe anxiety</td>\n",
       "      <td>more than half of the days - feeling afraid as if something awful might happen</td>\n",
       "      <td>0.012684</td>\n",
       "      <td>1.128400</td>\n",
       "    </tr>\n",
       "    <tr>\n",
       "      <th>17</th>\n",
       "      <td>severe anxiety</td>\n",
       "      <td>more than half of the days - trouble relaxing</td>\n",
       "      <td>0.012177</td>\n",
       "      <td>0.753242</td>\n",
       "    </tr>\n",
       "    <tr>\n",
       "      <th>18</th>\n",
       "      <td>severe anxiety</td>\n",
       "      <td>1-2 times - seriously considered attempting suicide</td>\n",
       "      <td>0.010654</td>\n",
       "      <td>1.360437</td>\n",
       "    </tr>\n",
       "    <tr>\n",
       "      <th>19</th>\n",
       "      <td>severe anxiety</td>\n",
       "      <td>more than half of the days - not being able to stop or control worrying</td>\n",
       "      <td>0.010654</td>\n",
       "      <td>0.578294</td>\n",
       "    </tr>\n",
       "  </tbody>\n",
       "</table>\n",
       "</div>"
      ],
      "text/plain": [
       "          disorder  \\\n",
       "0   severe anxiety   \n",
       "1   severe anxiety   \n",
       "2   severe anxiety   \n",
       "3   severe anxiety   \n",
       "4   severe anxiety   \n",
       "5   severe anxiety   \n",
       "6   severe anxiety   \n",
       "7   severe anxiety   \n",
       "8   severe anxiety   \n",
       "9   severe anxiety   \n",
       "10  severe anxiety   \n",
       "11  severe anxiety   \n",
       "12  severe anxiety   \n",
       "13  severe anxiety   \n",
       "14  severe anxiety   \n",
       "15  severe anxiety   \n",
       "16  severe anxiety   \n",
       "17  severe anxiety   \n",
       "18  severe anxiety   \n",
       "19  severe anxiety   \n",
       "\n",
       "                                                                          symptoms  \\\n",
       "0                                                        never - attempted suicide   \n",
       "1                      nearly every day - worrying too much about different things   \n",
       "2                         11 or more times - felt overwhelmed by all you had to do   \n",
       "3                   11 or more times - felt exhausted (not from physical activity)   \n",
       "4                          nearly every day - feeling nervous, anxious, or on edge   \n",
       "5                    nearly every day - not being able to stop or control worrying   \n",
       "6                                              nearly every day - trouble relaxing   \n",
       "7                                                 11 or more times - felt very sad   \n",
       "8                                     11 or more times - felt things were hopeless   \n",
       "9           11 or more times - felt so depressed that it was difficult to function   \n",
       "10            nearly every day - feeling afraid as if something awful might happen   \n",
       "11                         nearly every day - becoming easily annoyed or irritable   \n",
       "12                                 never - seriously considered attempting suicide   \n",
       "13                nearly every day - being so restless that it's hard to sit still   \n",
       "14      more than half of the days - being so restless that it's hard to sit still   \n",
       "15               more than half of the days - becoming easily annoyed or irritable   \n",
       "16  more than half of the days - feeling afraid as if something awful might happen   \n",
       "17                                   more than half of the days - trouble relaxing   \n",
       "18                             1-2 times - seriously considered attempting suicide   \n",
       "19         more than half of the days - not being able to stop or control worrying   \n",
       "\n",
       "    probability  specificity  \n",
       "0      0.043125     0.904646  \n",
       "1      0.041096     1.373209  \n",
       "2      0.040081     1.661558  \n",
       "3      0.037544     1.668655  \n",
       "4      0.037037     1.442775  \n",
       "5      0.036022     1.258154  \n",
       "6      0.034500     1.366234  \n",
       "7      0.033486     1.941730  \n",
       "8      0.026890     2.062312  \n",
       "9      0.025368     2.177554  \n",
       "10     0.024860     1.236356  \n",
       "11     0.023338     1.486211  \n",
       "12     0.021309     0.570864  \n",
       "13     0.020802     1.274733  \n",
       "14     0.018772     1.525885  \n",
       "15     0.016235     0.997846  \n",
       "16     0.012684     1.128400  \n",
       "17     0.012177     0.753242  \n",
       "18     0.010654     1.360437  \n",
       "19     0.010654     0.578294  "
      ]
     },
     "execution_count": 60,
     "metadata": {},
     "output_type": "execute_result"
    }
   ],
   "source": [
    "prefix =  'severe anxiety/disorder_related_sympton/'\n",
    "\n",
    "severe_depression_prob = {key: value for key, value in co_probabilities.items() if key.startswith(prefix)}\n",
    "severe_depression_spec = {key: value for key, value in specificities.items() if key.startswith(prefix)}\n",
    "severe_depression_occur = {key: value for key, value in co_occurrences.items() if key.startswith(prefix)}\n",
    "\n",
    "disor = []\n",
    "sympt = []\n",
    "prob = []\n",
    "spec = []\n",
    "\n",
    "for key, value in severe_depression_occur.items():\n",
    "    if value > q1_occurrence:\n",
    "        disorder, predicate, symptom = key.split(\"/\")\n",
    "        disor.append(disorder)\n",
    "        sympt.append(symptom)\n",
    "        prob.append(severe_depression_prob[key])\n",
    "        spec.append(severe_depression_spec[key])\n",
    "\n",
    "import pandas as pd\n",
    "pd.set_option('display.max_colwidth', None)\n",
    "\n",
    "data = pd.DataFrame({\n",
    "    \"disorder\": disor,\n",
    "    \"symptoms\": sympt,\n",
    "    \"probability\": prob,\n",
    "    \"specificity\": spec\n",
    "})\n",
    "\n",
    "data_severe = data.sort_values(by=[\"probability\"], ascending=False).reset_index(drop=True)\n",
    "\n",
    "data_severe.head(20)"
   ]
  },
  {
   "cell_type": "code",
   "execution_count": 61,
   "id": "99a3a917-2964-488e-9f39-2942f2ee06d4",
   "metadata": {},
   "outputs": [
    {
     "data": {
      "text/html": [
       "<div>\n",
       "<style scoped>\n",
       "    .dataframe tbody tr th:only-of-type {\n",
       "        vertical-align: middle;\n",
       "    }\n",
       "\n",
       "    .dataframe tbody tr th {\n",
       "        vertical-align: top;\n",
       "    }\n",
       "\n",
       "    .dataframe thead th {\n",
       "        text-align: right;\n",
       "    }\n",
       "</style>\n",
       "<table border=\"1\" class=\"dataframe\">\n",
       "  <thead>\n",
       "    <tr style=\"text-align: right;\">\n",
       "      <th></th>\n",
       "      <th>disorder</th>\n",
       "      <th>symptoms</th>\n",
       "      <th>probability</th>\n",
       "      <th>specificity</th>\n",
       "    </tr>\n",
       "  </thead>\n",
       "  <tbody>\n",
       "    <tr>\n",
       "      <th>0</th>\n",
       "      <td>moderate anxiety</td>\n",
       "      <td>never - attempted suicide</td>\n",
       "      <td>0.046394</td>\n",
       "      <td>0.973209</td>\n",
       "    </tr>\n",
       "    <tr>\n",
       "      <th>1</th>\n",
       "      <td>moderate anxiety</td>\n",
       "      <td>more than half of the days - worrying too much about different things</td>\n",
       "      <td>0.031189</td>\n",
       "      <td>1.485470</td>\n",
       "    </tr>\n",
       "    <tr>\n",
       "      <th>2</th>\n",
       "      <td>moderate anxiety</td>\n",
       "      <td>11 or more times - felt overwhelmed by all you had to do</td>\n",
       "      <td>0.028850</td>\n",
       "      <td>1.195967</td>\n",
       "    </tr>\n",
       "    <tr>\n",
       "      <th>3</th>\n",
       "      <td>moderate anxiety</td>\n",
       "      <td>more than half of the days - feeling nervous, anxious, or on edge</td>\n",
       "      <td>0.027680</td>\n",
       "      <td>1.524677</td>\n",
       "    </tr>\n",
       "    <tr>\n",
       "      <th>4</th>\n",
       "      <td>moderate anxiety</td>\n",
       "      <td>11 or more times - felt exhausted (not from physical activity)</td>\n",
       "      <td>0.027680</td>\n",
       "      <td>1.230247</td>\n",
       "    </tr>\n",
       "    <tr>\n",
       "      <th>5</th>\n",
       "      <td>moderate anxiety</td>\n",
       "      <td>never - seriously considered attempting suicide</td>\n",
       "      <td>0.027290</td>\n",
       "      <td>0.731106</td>\n",
       "    </tr>\n",
       "    <tr>\n",
       "      <th>6</th>\n",
       "      <td>moderate anxiety</td>\n",
       "      <td>more than half of the days - not being able to stop or control worrying</td>\n",
       "      <td>0.026901</td>\n",
       "      <td>1.460082</td>\n",
       "    </tr>\n",
       "    <tr>\n",
       "      <th>7</th>\n",
       "      <td>moderate anxiety</td>\n",
       "      <td>several days - being so restless that it's hard to sit still</td>\n",
       "      <td>0.025731</td>\n",
       "      <td>1.124277</td>\n",
       "    </tr>\n",
       "    <tr>\n",
       "      <th>8</th>\n",
       "      <td>moderate anxiety</td>\n",
       "      <td>several days - feeling afraid as if something awful might happen</td>\n",
       "      <td>0.024172</td>\n",
       "      <td>1.102755</td>\n",
       "    </tr>\n",
       "    <tr>\n",
       "      <th>9</th>\n",
       "      <td>moderate anxiety</td>\n",
       "      <td>more than half of the days - trouble relaxing</td>\n",
       "      <td>0.023782</td>\n",
       "      <td>1.471135</td>\n",
       "    </tr>\n",
       "    <tr>\n",
       "      <th>10</th>\n",
       "      <td>moderate anxiety</td>\n",
       "      <td>more than half of the days - becoming easily annoyed or irritable</td>\n",
       "      <td>0.023002</td>\n",
       "      <td>1.413724</td>\n",
       "    </tr>\n",
       "    <tr>\n",
       "      <th>11</th>\n",
       "      <td>moderate anxiety</td>\n",
       "      <td>11 or more times - felt very sad</td>\n",
       "      <td>0.020663</td>\n",
       "      <td>1.198175</td>\n",
       "    </tr>\n",
       "    <tr>\n",
       "      <th>12</th>\n",
       "      <td>moderate anxiety</td>\n",
       "      <td>several days - trouble relaxing</td>\n",
       "      <td>0.016374</td>\n",
       "      <td>0.563395</td>\n",
       "    </tr>\n",
       "    <tr>\n",
       "      <th>13</th>\n",
       "      <td>moderate anxiety</td>\n",
       "      <td>11 or more times - felt things were hopeless</td>\n",
       "      <td>0.015984</td>\n",
       "      <td>1.225918</td>\n",
       "    </tr>\n",
       "    <tr>\n",
       "      <th>14</th>\n",
       "      <td>moderate anxiety</td>\n",
       "      <td>several days - becoming easily annoyed or irritable</td>\n",
       "      <td>0.014815</td>\n",
       "      <td>0.620290</td>\n",
       "    </tr>\n",
       "    <tr>\n",
       "      <th>15</th>\n",
       "      <td>moderate anxiety</td>\n",
       "      <td>more than half of the days - feeling afraid as if something awful might happen</td>\n",
       "      <td>0.014815</td>\n",
       "      <td>1.317972</td>\n",
       "    </tr>\n",
       "    <tr>\n",
       "      <th>16</th>\n",
       "      <td>moderate anxiety</td>\n",
       "      <td>several days - not being able to stop or control worrying</td>\n",
       "      <td>0.013255</td>\n",
       "      <td>0.463116</td>\n",
       "    </tr>\n",
       "    <tr>\n",
       "      <th>17</th>\n",
       "      <td>moderate anxiety</td>\n",
       "      <td>more than half of the days - being so restless that it's hard to sit still</td>\n",
       "      <td>0.013255</td>\n",
       "      <td>1.077453</td>\n",
       "    </tr>\n",
       "    <tr>\n",
       "      <th>18</th>\n",
       "      <td>moderate anxiety</td>\n",
       "      <td>11 or more times - felt so depressed that it was difficult to function</td>\n",
       "      <td>0.012865</td>\n",
       "      <td>1.104364</td>\n",
       "    </tr>\n",
       "    <tr>\n",
       "      <th>19</th>\n",
       "      <td>moderate anxiety</td>\n",
       "      <td>nearly every day - feeling nervous, anxious, or on edge</td>\n",
       "      <td>0.012476</td>\n",
       "      <td>0.485987</td>\n",
       "    </tr>\n",
       "    <tr>\n",
       "      <th>20</th>\n",
       "      <td>moderate anxiety</td>\n",
       "      <td>1-2 times - seriously considered attempting suicide</td>\n",
       "      <td>0.010916</td>\n",
       "      <td>1.393851</td>\n",
       "    </tr>\n",
       "    <tr>\n",
       "      <th>21</th>\n",
       "      <td>moderate anxiety</td>\n",
       "      <td>9-10 times - felt exhausted (not from physical activity)</td>\n",
       "      <td>0.009357</td>\n",
       "      <td>1.407973</td>\n",
       "    </tr>\n",
       "    <tr>\n",
       "      <th>22</th>\n",
       "      <td>moderate anxiety</td>\n",
       "      <td>nearly every day - worrying too much about different things</td>\n",
       "      <td>0.008967</td>\n",
       "      <td>0.299626</td>\n",
       "    </tr>\n",
       "    <tr>\n",
       "      <th>23</th>\n",
       "      <td>moderate anxiety</td>\n",
       "      <td>3-4 times - felt so depressed that it was difficult to function</td>\n",
       "      <td>0.008187</td>\n",
       "      <td>1.360820</td>\n",
       "    </tr>\n",
       "    <tr>\n",
       "      <th>24</th>\n",
       "      <td>moderate anxiety</td>\n",
       "      <td>9-10 times - felt overwhelmed by all you had to do</td>\n",
       "      <td>0.008187</td>\n",
       "      <td>1.172275</td>\n",
       "    </tr>\n",
       "    <tr>\n",
       "      <th>25</th>\n",
       "      <td>moderate anxiety</td>\n",
       "      <td>7-8 times - felt very sad</td>\n",
       "      <td>0.007797</td>\n",
       "      <td>1.410936</td>\n",
       "    </tr>\n",
       "    <tr>\n",
       "      <th>26</th>\n",
       "      <td>moderate anxiety</td>\n",
       "      <td>several days - feeling nervous, anxious, or on edge</td>\n",
       "      <td>0.007797</td>\n",
       "      <td>0.236865</td>\n",
       "    </tr>\n",
       "    <tr>\n",
       "      <th>27</th>\n",
       "      <td>moderate anxiety</td>\n",
       "      <td>7-8 times - felt things were hopeless</td>\n",
       "      <td>0.007407</td>\n",
       "      <td>1.307657</td>\n",
       "    </tr>\n",
       "    <tr>\n",
       "      <th>28</th>\n",
       "      <td>moderate anxiety</td>\n",
       "      <td>nearly every day - trouble relaxing</td>\n",
       "      <td>0.007407</td>\n",
       "      <td>0.293338</td>\n",
       "    </tr>\n",
       "    <tr>\n",
       "      <th>29</th>\n",
       "      <td>moderate anxiety</td>\n",
       "      <td>1-2 times - felt things were hopeless</td>\n",
       "      <td>0.007407</td>\n",
       "      <td>0.722602</td>\n",
       "    </tr>\n",
       "  </tbody>\n",
       "</table>\n",
       "</div>"
      ],
      "text/plain": [
       "            disorder  \\\n",
       "0   moderate anxiety   \n",
       "1   moderate anxiety   \n",
       "2   moderate anxiety   \n",
       "3   moderate anxiety   \n",
       "4   moderate anxiety   \n",
       "5   moderate anxiety   \n",
       "6   moderate anxiety   \n",
       "7   moderate anxiety   \n",
       "8   moderate anxiety   \n",
       "9   moderate anxiety   \n",
       "10  moderate anxiety   \n",
       "11  moderate anxiety   \n",
       "12  moderate anxiety   \n",
       "13  moderate anxiety   \n",
       "14  moderate anxiety   \n",
       "15  moderate anxiety   \n",
       "16  moderate anxiety   \n",
       "17  moderate anxiety   \n",
       "18  moderate anxiety   \n",
       "19  moderate anxiety   \n",
       "20  moderate anxiety   \n",
       "21  moderate anxiety   \n",
       "22  moderate anxiety   \n",
       "23  moderate anxiety   \n",
       "24  moderate anxiety   \n",
       "25  moderate anxiety   \n",
       "26  moderate anxiety   \n",
       "27  moderate anxiety   \n",
       "28  moderate anxiety   \n",
       "29  moderate anxiety   \n",
       "\n",
       "                                                                          symptoms  \\\n",
       "0                                                        never - attempted suicide   \n",
       "1            more than half of the days - worrying too much about different things   \n",
       "2                         11 or more times - felt overwhelmed by all you had to do   \n",
       "3                more than half of the days - feeling nervous, anxious, or on edge   \n",
       "4                   11 or more times - felt exhausted (not from physical activity)   \n",
       "5                                  never - seriously considered attempting suicide   \n",
       "6          more than half of the days - not being able to stop or control worrying   \n",
       "7                     several days - being so restless that it's hard to sit still   \n",
       "8                 several days - feeling afraid as if something awful might happen   \n",
       "9                                    more than half of the days - trouble relaxing   \n",
       "10               more than half of the days - becoming easily annoyed or irritable   \n",
       "11                                                11 or more times - felt very sad   \n",
       "12                                                 several days - trouble relaxing   \n",
       "13                                    11 or more times - felt things were hopeless   \n",
       "14                             several days - becoming easily annoyed or irritable   \n",
       "15  more than half of the days - feeling afraid as if something awful might happen   \n",
       "16                       several days - not being able to stop or control worrying   \n",
       "17      more than half of the days - being so restless that it's hard to sit still   \n",
       "18          11 or more times - felt so depressed that it was difficult to function   \n",
       "19                         nearly every day - feeling nervous, anxious, or on edge   \n",
       "20                             1-2 times - seriously considered attempting suicide   \n",
       "21                        9-10 times - felt exhausted (not from physical activity)   \n",
       "22                     nearly every day - worrying too much about different things   \n",
       "23                 3-4 times - felt so depressed that it was difficult to function   \n",
       "24                              9-10 times - felt overwhelmed by all you had to do   \n",
       "25                                                       7-8 times - felt very sad   \n",
       "26                             several days - feeling nervous, anxious, or on edge   \n",
       "27                                           7-8 times - felt things were hopeless   \n",
       "28                                             nearly every day - trouble relaxing   \n",
       "29                                           1-2 times - felt things were hopeless   \n",
       "\n",
       "    probability  specificity  \n",
       "0      0.046394     0.973209  \n",
       "1      0.031189     1.485470  \n",
       "2      0.028850     1.195967  \n",
       "3      0.027680     1.524677  \n",
       "4      0.027680     1.230247  \n",
       "5      0.027290     0.731106  \n",
       "6      0.026901     1.460082  \n",
       "7      0.025731     1.124277  \n",
       "8      0.024172     1.102755  \n",
       "9      0.023782     1.471135  \n",
       "10     0.023002     1.413724  \n",
       "11     0.020663     1.198175  \n",
       "12     0.016374     0.563395  \n",
       "13     0.015984     1.225918  \n",
       "14     0.014815     0.620290  \n",
       "15     0.014815     1.317972  \n",
       "16     0.013255     0.463116  \n",
       "17     0.013255     1.077453  \n",
       "18     0.012865     1.104364  \n",
       "19     0.012476     0.485987  \n",
       "20     0.010916     1.393851  \n",
       "21     0.009357     1.407973  \n",
       "22     0.008967     0.299626  \n",
       "23     0.008187     1.360820  \n",
       "24     0.008187     1.172275  \n",
       "25     0.007797     1.410936  \n",
       "26     0.007797     0.236865  \n",
       "27     0.007407     1.307657  \n",
       "28     0.007407     0.293338  \n",
       "29     0.007407     0.722602  "
      ]
     },
     "execution_count": 61,
     "metadata": {},
     "output_type": "execute_result"
    }
   ],
   "source": [
    "prefix =  'moderate anxiety/disorder_related_sympton/'\n",
    "\n",
    "severe_depression_prob = {key: value for key, value in co_probabilities.items() if key.startswith(prefix)}\n",
    "severe_depression_spec = {key: value for key, value in specificities.items() if key.startswith(prefix)}\n",
    "severe_depression_occur = {key: value for key, value in co_occurrences.items() if key.startswith(prefix)}\n",
    "\n",
    "disor = []\n",
    "sympt = []\n",
    "prob = []\n",
    "spec = []\n",
    "\n",
    "for key, value in severe_depression_occur.items():\n",
    "    if value > q1_occurrence:\n",
    "        disorder, predicate, symptom = key.split(\"/\")\n",
    "        disor.append(disorder)\n",
    "        sympt.append(symptom)\n",
    "        prob.append(severe_depression_prob[key])\n",
    "        spec.append(severe_depression_spec[key])\n",
    "\n",
    "import pandas as pd\n",
    "pd.set_option('display.max_colwidth', None)\n",
    "\n",
    "data = pd.DataFrame({\n",
    "    \"disorder\": disor,\n",
    "    \"symptoms\": sympt,\n",
    "    \"probability\": prob,\n",
    "    \"specificity\": spec\n",
    "})\n",
    "\n",
    "data_moderate = data.sort_values(by=[\"probability\"], ascending=False).reset_index(drop=True)\n",
    "\n",
    "data_moderate.head(30)"
   ]
  },
  {
   "cell_type": "code",
   "execution_count": 62,
   "id": "831cc4f4-a6ad-425d-b6fc-a7eba970c9c1",
   "metadata": {},
   "outputs": [
    {
     "data": {
      "text/html": [
       "<div>\n",
       "<style scoped>\n",
       "    .dataframe tbody tr th:only-of-type {\n",
       "        vertical-align: middle;\n",
       "    }\n",
       "\n",
       "    .dataframe tbody tr th {\n",
       "        vertical-align: top;\n",
       "    }\n",
       "\n",
       "    .dataframe thead th {\n",
       "        text-align: right;\n",
       "    }\n",
       "</style>\n",
       "<table border=\"1\" class=\"dataframe\">\n",
       "  <thead>\n",
       "    <tr style=\"text-align: right;\">\n",
       "      <th></th>\n",
       "      <th>symptoms</th>\n",
       "      <th>severe anxiety</th>\n",
       "      <th>moderate anxiety</th>\n",
       "    </tr>\n",
       "  </thead>\n",
       "  <tbody>\n",
       "    <tr>\n",
       "      <th>0</th>\n",
       "      <td>never - attempted suicide</td>\n",
       "      <td>0.043125</td>\n",
       "      <td>0.046394</td>\n",
       "    </tr>\n",
       "    <tr>\n",
       "      <th>1</th>\n",
       "      <td>nearly every day - worrying too much about different things</td>\n",
       "      <td>0.041096</td>\n",
       "      <td>0.008967</td>\n",
       "    </tr>\n",
       "    <tr>\n",
       "      <th>2</th>\n",
       "      <td>11 or more times - felt overwhelmed by all you had to do</td>\n",
       "      <td>0.040081</td>\n",
       "      <td>0.028850</td>\n",
       "    </tr>\n",
       "    <tr>\n",
       "      <th>3</th>\n",
       "      <td>11 or more times - felt exhausted (not from physical activity)</td>\n",
       "      <td>0.037544</td>\n",
       "      <td>0.027680</td>\n",
       "    </tr>\n",
       "    <tr>\n",
       "      <th>4</th>\n",
       "      <td>nearly every day - feeling nervous, anxious, or on edge</td>\n",
       "      <td>0.037037</td>\n",
       "      <td>0.012476</td>\n",
       "    </tr>\n",
       "    <tr>\n",
       "      <th>5</th>\n",
       "      <td>nearly every day - not being able to stop or control worrying</td>\n",
       "      <td>0.036022</td>\n",
       "      <td>0.007407</td>\n",
       "    </tr>\n",
       "    <tr>\n",
       "      <th>6</th>\n",
       "      <td>nearly every day - trouble relaxing</td>\n",
       "      <td>0.034500</td>\n",
       "      <td>0.007407</td>\n",
       "    </tr>\n",
       "    <tr>\n",
       "      <th>7</th>\n",
       "      <td>11 or more times - felt very sad</td>\n",
       "      <td>0.033486</td>\n",
       "      <td>0.020663</td>\n",
       "    </tr>\n",
       "    <tr>\n",
       "      <th>8</th>\n",
       "      <td>11 or more times - felt things were hopeless</td>\n",
       "      <td>0.026890</td>\n",
       "      <td>0.015984</td>\n",
       "    </tr>\n",
       "    <tr>\n",
       "      <th>9</th>\n",
       "      <td>11 or more times - felt so depressed that it was difficult to function</td>\n",
       "      <td>0.025368</td>\n",
       "      <td>0.012865</td>\n",
       "    </tr>\n",
       "    <tr>\n",
       "      <th>10</th>\n",
       "      <td>nearly every day - feeling afraid as if something awful might happen</td>\n",
       "      <td>0.024860</td>\n",
       "      <td>0.003509</td>\n",
       "    </tr>\n",
       "    <tr>\n",
       "      <th>11</th>\n",
       "      <td>nearly every day - becoming easily annoyed or irritable</td>\n",
       "      <td>0.023338</td>\n",
       "      <td>0.005458</td>\n",
       "    </tr>\n",
       "    <tr>\n",
       "      <th>12</th>\n",
       "      <td>never - seriously considered attempting suicide</td>\n",
       "      <td>0.021309</td>\n",
       "      <td>0.027290</td>\n",
       "    </tr>\n",
       "    <tr>\n",
       "      <th>13</th>\n",
       "      <td>more than half of the days - being so restless that it's hard to sit still</td>\n",
       "      <td>0.018772</td>\n",
       "      <td>0.013255</td>\n",
       "    </tr>\n",
       "    <tr>\n",
       "      <th>14</th>\n",
       "      <td>more than half of the days - becoming easily annoyed or irritable</td>\n",
       "      <td>0.016235</td>\n",
       "      <td>0.023002</td>\n",
       "    </tr>\n",
       "    <tr>\n",
       "      <th>15</th>\n",
       "      <td>more than half of the days - feeling afraid as if something awful might happen</td>\n",
       "      <td>0.012684</td>\n",
       "      <td>0.014815</td>\n",
       "    </tr>\n",
       "    <tr>\n",
       "      <th>16</th>\n",
       "      <td>more than half of the days - trouble relaxing</td>\n",
       "      <td>0.012177</td>\n",
       "      <td>0.023782</td>\n",
       "    </tr>\n",
       "    <tr>\n",
       "      <th>17</th>\n",
       "      <td>1-2 times - seriously considered attempting suicide</td>\n",
       "      <td>0.010654</td>\n",
       "      <td>0.010916</td>\n",
       "    </tr>\n",
       "    <tr>\n",
       "      <th>18</th>\n",
       "      <td>more than half of the days - not being able to stop or control worrying</td>\n",
       "      <td>0.010654</td>\n",
       "      <td>0.026901</td>\n",
       "    </tr>\n",
       "    <tr>\n",
       "      <th>19</th>\n",
       "      <td>more than half of the days - feeling nervous, anxious, or on edge</td>\n",
       "      <td>0.010147</td>\n",
       "      <td>0.027680</td>\n",
       "    </tr>\n",
       "  </tbody>\n",
       "</table>\n",
       "</div>"
      ],
      "text/plain": [
       "                                                                          symptoms  \\\n",
       "0                                                        never - attempted suicide   \n",
       "1                      nearly every day - worrying too much about different things   \n",
       "2                         11 or more times - felt overwhelmed by all you had to do   \n",
       "3                   11 or more times - felt exhausted (not from physical activity)   \n",
       "4                          nearly every day - feeling nervous, anxious, or on edge   \n",
       "5                    nearly every day - not being able to stop or control worrying   \n",
       "6                                              nearly every day - trouble relaxing   \n",
       "7                                                 11 or more times - felt very sad   \n",
       "8                                     11 or more times - felt things were hopeless   \n",
       "9           11 or more times - felt so depressed that it was difficult to function   \n",
       "10            nearly every day - feeling afraid as if something awful might happen   \n",
       "11                         nearly every day - becoming easily annoyed or irritable   \n",
       "12                                 never - seriously considered attempting suicide   \n",
       "13      more than half of the days - being so restless that it's hard to sit still   \n",
       "14               more than half of the days - becoming easily annoyed or irritable   \n",
       "15  more than half of the days - feeling afraid as if something awful might happen   \n",
       "16                                   more than half of the days - trouble relaxing   \n",
       "17                             1-2 times - seriously considered attempting suicide   \n",
       "18         more than half of the days - not being able to stop or control worrying   \n",
       "19               more than half of the days - feeling nervous, anxious, or on edge   \n",
       "\n",
       "    severe anxiety  moderate anxiety  \n",
       "0         0.043125          0.046394  \n",
       "1         0.041096          0.008967  \n",
       "2         0.040081          0.028850  \n",
       "3         0.037544          0.027680  \n",
       "4         0.037037          0.012476  \n",
       "5         0.036022          0.007407  \n",
       "6         0.034500          0.007407  \n",
       "7         0.033486          0.020663  \n",
       "8         0.026890          0.015984  \n",
       "9         0.025368          0.012865  \n",
       "10        0.024860          0.003509  \n",
       "11        0.023338          0.005458  \n",
       "12        0.021309          0.027290  \n",
       "13        0.018772          0.013255  \n",
       "14        0.016235          0.023002  \n",
       "15        0.012684          0.014815  \n",
       "16        0.012177          0.023782  \n",
       "17        0.010654          0.010916  \n",
       "18        0.010654          0.026901  \n",
       "19        0.010147          0.027680  "
      ]
     },
     "execution_count": 62,
     "metadata": {},
     "output_type": "execute_result"
    }
   ],
   "source": [
    "data_severe = data_severe.drop(columns=['specificity', 'disorder'])\n",
    "\n",
    "data_severe = data_severe.rename(columns = {\n",
    "    'probability': 'severe anxiety'\n",
    "})\n",
    "\n",
    "data_moderate = data_moderate.drop(columns=['specificity', 'disorder'])\n",
    "\n",
    "data_moderate = data_moderate.rename(columns = {\n",
    "    'probability': 'moderate anxiety'\n",
    "})\n",
    "\n",
    "merged_df = data_severe.merge(data_moderate, how='inner', on='symptoms')\n",
    "\n",
    "merged_df.head(20)"
   ]
  },
  {
   "cell_type": "code",
   "execution_count": 63,
   "id": "0d65607b-53ae-4f5f-8664-f5a18d7a182d",
   "metadata": {},
   "outputs": [
    {
     "name": "stdout",
     "output_type": "stream",
     "text": [
      "<class 'pandas.core.frame.DataFrame'>\n",
      "RangeIndex: 57 entries, 0 to 56\n",
      "Data columns (total 4 columns):\n",
      " #   Column       Non-Null Count  Dtype  \n",
      "---  ------       --------------  -----  \n",
      " 0   disorder     57 non-null     object \n",
      " 1   symptoms     57 non-null     object \n",
      " 2   probability  57 non-null     float64\n",
      " 3   specificity  57 non-null     float64\n",
      "dtypes: float64(2), object(2)\n",
      "memory usage: 1.9+ KB\n"
     ]
    }
   ],
   "source": [
    "data.info()"
   ]
  },
  {
   "cell_type": "markdown",
   "id": "60720fe0-9fb4-4f04-bb19-03fcd83e19e6",
   "metadata": {},
   "source": [
    "# Construção do Grafo"
   ]
  },
  {
   "cell_type": "code",
   "execution_count": 145,
   "id": "2da58c2a-a295-4142-a8e7-a1d8fdd206ee",
   "metadata": {},
   "outputs": [],
   "source": [
    "from pyvis.network import Network\n",
    "import networkx as nx\n",
    "duplicate_edges = set()\n",
    "rejected_edges = set()\n",
    "rejected_nodes = set()\n",
    "\n",
    "graph = nx.Graph()\n",
    "\n",
    "for triple in triples:\n",
    "    try:\n",
    "        if not triple in duplicates:\n",
    "            duplicate_edges.add(triple)\n",
    "            \n",
    "            if co_occurrences[\"/\".join(list(triple))] > q1_occurrence:\n",
    "                node_1 = triple[0]\n",
    "                node_2 = triple[2]\n",
    "        \n",
    "                graph.add_node(node_1, title=node_1, color=get_color(node_1), size=get_size(node_1), label=node_1)\n",
    "                graph.add_node(node_2, title=node_2, color=get_color(node_2), size=get_size(node_2), label=node_2)\n",
    "                graph.add_edge(node_1, node_2, title=triple[1],\n",
    "                               weight=co_probabilities[\"/\".join(list(triple))],\n",
    "                               occur=co_occurrences[\"/\".join(list(triple))],\n",
    "                               prob=co_probabilities[\"/\".join(list(triple))],\n",
    "                               spec=specificities[\"/\".join(list(triple))],\n",
    "                               relia=reliabilities[\"/\".join(list(triple))]\n",
    "                              )\n",
    "            else:\n",
    "                rejected_nodes.add(triple[0])\n",
    "                rejected_nodes.add(triple[2])\n",
    "                rejected_edges.add(triple)\n",
    "    except Exception as e:\n",
    "        print(e)\n",
    "        print(f'Error in item: {item}')"
   ]
  },
  {
   "cell_type": "code",
   "execution_count": 146,
   "id": "1fc21602-3fca-40c1-9967-44ba3bbc4263",
   "metadata": {},
   "outputs": [
    {
     "data": {
      "text/plain": [
       "143"
      ]
     },
     "execution_count": 146,
     "metadata": {},
     "output_type": "execute_result"
    }
   ],
   "source": [
    "len(graph.nodes)"
   ]
  },
  {
   "cell_type": "code",
   "execution_count": 147,
   "id": "70ac4dcf-5597-46d5-8d28-43660388c931",
   "metadata": {},
   "outputs": [
    {
     "data": {
      "text/plain": [
       "696"
      ]
     },
     "execution_count": 147,
     "metadata": {},
     "output_type": "execute_result"
    }
   ],
   "source": [
    "len(graph.edges)"
   ]
  },
  {
   "cell_type": "code",
   "execution_count": 148,
   "id": "1436c3b2-f101-4c67-8da8-101417eb2bb5",
   "metadata": {},
   "outputs": [
    {
     "data": {
      "text/plain": [
       "True"
      ]
     },
     "execution_count": 148,
     "metadata": {},
     "output_type": "execute_result"
    }
   ],
   "source": [
    "nx.is_weighted(graph)"
   ]
  },
  {
   "cell_type": "code",
   "execution_count": 149,
   "id": "2f6ec73a-be75-45ef-8652-743dbc93f8e6",
   "metadata": {},
   "outputs": [
    {
     "data": {
      "text/plain": [
       "269"
      ]
     },
     "execution_count": 149,
     "metadata": {},
     "output_type": "execute_result"
    }
   ],
   "source": [
    "len(rejected_edges)"
   ]
  },
  {
   "cell_type": "code",
   "execution_count": 150,
   "id": "bed3a6d8-9bee-472e-9b9b-d420f04a512d",
   "metadata": {},
   "outputs": [
    {
     "data": {
      "text/plain": [
       "125"
      ]
     },
     "execution_count": 150,
     "metadata": {},
     "output_type": "execute_result"
    }
   ],
   "source": [
    "len(rejected_nodes)"
   ]
  },
  {
   "cell_type": "code",
   "execution_count": 151,
   "id": "a75fa0a4-e6f6-4179-a0d5-1ec07bb3c173",
   "metadata": {},
   "outputs": [
    {
     "data": {
      "text/plain": [
       "15"
      ]
     },
     "execution_count": 151,
     "metadata": {},
     "output_type": "execute_result"
    }
   ],
   "source": [
    "unique_nodes = []\n",
    "\n",
    "for node in rejected_nodes:\n",
    "    if not node in graph.nodes:\n",
    "        unique_nodes.append(node)\n",
    "\n",
    "len(unique_nodes)"
   ]
  },
  {
   "cell_type": "code",
   "execution_count": 101,
   "id": "74a3d702-a6fb-4fbb-80ba-6e9992a71ed9",
   "metadata": {},
   "outputs": [],
   "source": [
    "def sortTuple(node):\n",
    "    return node[1]"
   ]
  },
  {
   "cell_type": "code",
   "execution_count": 102,
   "id": "6b870ebb-3466-4179-9912-165978005584",
   "metadata": {},
   "outputs": [
    {
     "data": {
      "image/png": "[encoded data removed]",
      "text/plain": [
       "<Figure size 640x480 with 1 Axes>"
      ]
     },
     "metadata": {},
     "output_type": "display_data"
    }
   ],
   "source": [
    "localy = nx.degree_centrality(graph)\n",
    "\n",
    "localy_sort = []\n",
    "\n",
    "for node in localy:\n",
    "    localy_sort.append((node,localy[node]))\n",
    "\n",
    "localy_sort.sort(reverse=True, key=sortTuple)\n",
    "\n",
    "plt.hist([bet[1] for bet in localy_sort],bins=20)\n",
    "plt.title(\"Localy Centrality Histogram\")\n",
    "plt.xlabel(\"Localy Centrality\")\n",
    "plt.ylabel(\"Frequency\")\n",
    "plt.show()"
   ]
  },
  {
   "cell_type": "code",
   "execution_count": 138,
   "id": "fd947cab-0ce3-4d5f-844c-1488f59c05d3",
   "metadata": {},
   "outputs": [
    {
     "data": {
      "text/plain": [
       "[('moderate depression', 0.7042253521126761),\n",
       " ('mild depression', 0.6619718309859155),\n",
       " ('mild anxiety', 0.6267605633802817),\n",
       " ('moderate anxiety', 0.5985915492957746),\n",
       " ('minimal depression', 0.5774647887323944),\n",
       " ('moderately severe depression', 0.5422535211267606),\n",
       " ('minimal anxiety', 0.5140845070422535),\n",
       " ('severe anxiety', 0.45774647887323944),\n",
       " ('severe depression', 0.35211267605633806),\n",
       " ('18-24', 0.06338028169014084),\n",
       " ('11 or more times - felt overwhelmed by all you had to do',\n",
       "  0.06338028169014084),\n",
       " ('never - seriously considered attempting suicide', 0.06338028169014084),\n",
       " ('never - attempted suicide', 0.06338028169014084),\n",
       " ('back pain', 0.06338028169014084),\n",
       " ('good', 0.06338028169014084),\n",
       " ('1-2 times - seriously considered attempting suicide', 0.06338028169014084),\n",
       " ('11 or more times - felt exhausted (not from physical activity)',\n",
       "  0.06338028169014084),\n",
       " ('sinus infection', 0.06338028169014084),\n",
       " ('11 or more times - felt very sad', 0.06338028169014084),\n",
       " ('allergy problems', 0.06338028169014084)]"
      ]
     },
     "execution_count": 138,
     "metadata": {},
     "output_type": "execute_result"
    }
   ],
   "source": [
    "localy_sort[:20]"
   ]
  },
  {
   "cell_type": "code",
   "execution_count": 103,
   "id": "937a75d3-a527-45a3-90cc-c2bcf273ae26",
   "metadata": {},
   "outputs": [
    {
     "data": {
      "image/png": "[encoded data removed]",
      "text/plain": [
       "<Figure size 640x480 with 1 Axes>"
      ]
     },
     "metadata": {},
     "output_type": "display_data"
    }
   ],
   "source": [
    "closeness = nx.closeness_centrality(graph)\n",
    "\n",
    "closeness_sort = []\n",
    "\n",
    "for node in closeness:\n",
    "    closeness_sort.append((node,closeness[node]))\n",
    "\n",
    "closeness_sort.sort(reverse=True, key=sortTuple)\n",
    "\n",
    "plt.hist([bet[1] for bet in closeness_sort],bins=20)\n",
    "plt.title(\"Closeness Histogram\")\n",
    "plt.xlabel(\"Closeness\")\n",
    "plt.ylabel(\"Frequency\")\n",
    "plt.show()"
   ]
  },
  {
   "cell_type": "code",
   "execution_count": 139,
   "id": "c2b0cfbf-87d3-474e-a964-c96dc02f2024",
   "metadata": {},
   "outputs": [
    {
     "data": {
      "text/plain": [
       "[('moderate depression', 0.7513227513227513),\n",
       " ('mild depression', 0.71),\n",
       " ('mild anxiety', 0.7029702970297029),\n",
       " ('moderate anxiety', 0.696078431372549),\n",
       " ('moderately severe depression', 0.6513761467889908),\n",
       " ('minimal depression', 0.6425339366515838),\n",
       " ('minimal anxiety', 0.6283185840707964),\n",
       " ('severe anxiety', 0.6094420600858369),\n",
       " ('severe depression', 0.5568627450980392),\n",
       " ('18-24', 0.5163636363636364),\n",
       " ('11 or more times - felt overwhelmed by all you had to do',\n",
       "  0.5163636363636364),\n",
       " ('never - seriously considered attempting suicide', 0.5163636363636364),\n",
       " ('never - attempted suicide', 0.5163636363636364),\n",
       " ('back pain', 0.5163636363636364),\n",
       " ('good', 0.5163636363636364),\n",
       " ('1-2 times - seriously considered attempting suicide', 0.5163636363636364),\n",
       " ('11 or more times - felt exhausted (not from physical activity)',\n",
       "  0.5163636363636364),\n",
       " ('sinus infection', 0.5163636363636364),\n",
       " ('11 or more times - felt very sad', 0.5163636363636364),\n",
       " ('allergy problems', 0.5163636363636364)]"
      ]
     },
     "execution_count": 139,
     "metadata": {},
     "output_type": "execute_result"
    }
   ],
   "source": [
    "closeness_sort[:20]"
   ]
  },
  {
   "cell_type": "code",
   "execution_count": 135,
   "id": "9c0e6612-af96-45c3-acfb-45d3cefdc5ae",
   "metadata": {},
   "outputs": [
    {
     "data": {
      "image/png": "[encoded data removed]",
      "text/plain": [
       "<Figure size 640x480 with 1 Axes>"
      ]
     },
     "metadata": {},
     "output_type": "display_data"
    }
   ],
   "source": [
    "betweenness = nx.betweenness_centrality(graph,weight=\"weight\")\n",
    "\n",
    "betweenness_sort = []\n",
    "\n",
    "for node in betweenness:\n",
    "    betweenness_sort.append((node,betweenness[node]))\n",
    "\n",
    "betweenness_sort.sort(reverse=True, key=sortTuple)\n",
    "\n",
    "plt.hist([bet[1] for bet in betweenness_sort],bins=20)\n",
    "plt.title(\"Betweenness Histogram (with weight)\")\n",
    "plt.xlabel(\"Betweenness\")\n",
    "plt.ylabel(\"Frequency\")\n",
    "plt.show()"
   ]
  },
  {
   "cell_type": "code",
   "execution_count": 105,
   "id": "129ec9fe-fdcb-4cf8-8983-0bece2e5e654",
   "metadata": {},
   "outputs": [
    {
     "data": {
      "text/plain": [
       "array([[0.        , 0.01581137, 0.03828017, ..., 0.        , 0.        ,\n",
       "        0.        ],\n",
       "       [0.01581137, 0.        , 0.        , ..., 0.        , 0.        ,\n",
       "        0.        ],\n",
       "       [0.03828017, 0.        , 0.        , ..., 0.        , 0.        ,\n",
       "        0.        ],\n",
       "       ...,\n",
       "       [0.        , 0.        , 0.        , ..., 0.        , 0.        ,\n",
       "        0.        ],\n",
       "       [0.        , 0.        , 0.        , ..., 0.        , 0.        ,\n",
       "        0.        ],\n",
       "       [0.        , 0.        , 0.        , ..., 0.        , 0.        ,\n",
       "        0.        ]])"
      ]
     },
     "execution_count": 105,
     "metadata": {},
     "output_type": "execute_result"
    }
   ],
   "source": [
    "adjacency_matrix = nx.adjacency_matrix(graph).toarray()\n",
    "adjacency_matrix"
   ]
  },
  {
   "cell_type": "code",
   "execution_count": 106,
   "id": "629ba9d5-8111-48f4-8f0d-9bd21b718aae",
   "metadata": {},
   "outputs": [
    {
     "data": {
      "image/png": "[encoded data removed]",
      "text/plain": [
       "<Figure size 640x480 with 1 Axes>"
      ]
     },
     "metadata": {},
     "output_type": "display_data"
    }
   ],
   "source": [
    "degrees_hist = nx.degree_histogram(graph)\n",
    "\n",
    "plt.hist(degrees_hist,bins=20)\n",
    "plt.title(\"Degree Histogram\")\n",
    "plt.xlabel(\"Degree\")\n",
    "plt.ylabel(\"Frequency\")\n",
    "plt.show()"
   ]
  },
  {
   "cell_type": "code",
   "execution_count": 130,
   "id": "7bcfea18-b279-4560-980b-9cd6dd160dd7",
   "metadata": {
    "scrolled": true
   },
   "outputs": [
    {
     "data": {
      "text/plain": [
       "DegreeView({'mild depression': 1.0386025122009173, 'very good': 0.12007527502242123, '18-24': 0.3428734936276857, 'minimal anxiety': 0.9719626168224301, 'several days - little interest or pleasure in doing things': 0.0820867250281323, 'several days - feeling down, depressed, or hopeless': 0.08212554035900008, 'not at all - trouble falling or staying asleep, or sleeping too much': 0.040631870982229784, 'several days - feeling tired or having little energy': 0.06636293993828819, 'not at all - poor appetite or overeating': 0.05517041000367298, 'not at all - feeling bad about yourself or that you are a failure or have let yourself or your family down': 0.06468546852675178, 'more than half of the days - trouble concentrating on things, such as reading the newspaper or watching television': 0.05362235734531089, 'not at all - moving or speaking so slowly that other people could have noticed, or the opposite - being so fidgety or restless that you have been moving a lot more than usual?': 0.13312051649460507, 'several days - thoughts that you would be better off dead, or thoughts of hurting yourself in some way': 0.042701214723462444, 'not at all - feeling nervous, anxious, or on edge': 0.025458726819004747, 'not at all - not being able to stop or control worrying': 0.05397237037399488, 'not at all - worrying too much about different things': 0.03944072026226941, 'not at all - trouble relaxing': 0.041472166495408656, \"not at all - being so restless that it's hard to sit still\": 0.0739533302601319, 'not at all - becoming easily annoyed or irritable': 0.04442000762863594, 'not at all - feeling afraid as if something awful might happen': 0.07568447645075947, 'never - felt things were hopeless': 0.0701306842290069, '11 or more times - felt overwhelmed by all you had to do': 0.21150293826969455, '5-6 times - felt exhausted (not from physical activity)': 0.04455703607528831, '3-4 times - felt very sad': 0.05849410692518595, 'never - felt so depressed that it was difficult to function': 0.09849678665434854, 'never - seriously considered attempting suicide': 0.3037790546373011, 'never - attempted suicide': 0.42110561819705716, 'substance abuse problem': 0.02651786383081662, 'back pain': 0.19019701479800066, 'moderately severe depression': 0.9692508898879232, 'good': 0.16784279069755798, 'more than half of the days - little interest or pleasure in doing things': 0.04942646282412437, 'more than half of the days - feeling down, depressed, or hopeless': 0.046517968890401856, 'nearly every day - trouble falling or staying asleep, or sleeping too much': 0.06737409329505352, 'nearly every day - feeling tired or having little energy': 0.08406918705141776, 'nearly every day - poor appetite or overeating': 0.06608584852854789, 'several days - feeling bad about yourself or that you are a failure or have let yourself or your family down': 0.05519193965507676, 'nearly every day - trouble concentrating on things, such as reading the newspaper or watching television': 0.06206017447921409, 'several days - moving or speaking so slowly that other people could have noticed, or the opposite - being so fidgety or restless that you have been moving a lot more than usual?': 0.05321305382453757, 'several days - feeling nervous, anxious, or on edge': 0.07420378854581011, 'several days - feeling afraid as if something awful might happen': 0.06289571357128224, '1-2 times - felt things were hopeless': 0.0783829765850665, '5-6 times - felt overwhelmed by all you had to do': 0.040307523969890395, '7-8 times - felt exhausted (not from physical activity)': 0.039882852830677995, '1-2 times - felt very sad': 0.05972268547541424, '1-2 times - felt so depressed that it was difficult to function': 0.08040760526452, '1-2 times - seriously considered attempting suicide': 0.0695308347327986, 'moderate depression': 1.03729362715357, 'mild anxiety': 0.9848167539267019, 'more than half of the days - trouble falling or staying asleep, or sleeping too much': 0.054259241893571515, 'more than half of the days - feeling tired or having little energy': 0.058496836381796855, 'several days - poor appetite or overeating': 0.059983129907427414, 'several days - trouble concentrating on things, such as reading the newspaper or watching television': 0.06498220506268662, 'not at all - thoughts that you would be better off dead, or thoughts of hurting yourself in some way': 0.14950918925454795, 'more than half of the days - not being able to stop or control worrying': 0.04331423720553146, 'more than half of the days - worrying too much about different things': 0.04774856807002724, 'several days - trouble relaxing': 0.06874904677818897, '7-8 times - felt things were hopeless': 0.04155873139666734, '11 or more times - felt exhausted (not from physical activity)': 0.19900248343492402, '9-10 times - felt very sad': 0.03278765296097084, 'sinus infection': 0.08411032613256446, 'moderate anxiety': 0.9777777777777782, 'more than half of the days - feeling nervous, anxious, or on edge': 0.0467279688858523, 'several days - not being able to stop or control worrying': 0.05648332950375427, \"several days - being so restless that it's hard to sit still\": 0.06262359081352221, 'more than half of the days - becoming easily annoyed or irritable': 0.05049390731604406, '9-10 times - felt things were hopeless': 0.029603803308890148, '9-10 times - felt overwhelmed by all you had to do': 0.051681425592237595, '11 or more times - felt very sad': 0.14804226676233004, '3-4 times - felt so depressed that it was difficult to function': 0.04076401619403301, 'allergy problems': 0.16827786382074889, 'severe anxiety': 0.9538305428716385, 'not at all - little interest or pleasure in doing things': 0.0564672839472333, 'several days - trouble falling or staying asleep, or sleeping too much': 0.06594276001700834, 'nearly every day - feeling nervous, anxious, or on edge': 0.05108335119357439, 'nearly every day - not being able to stop or control worrying': 0.04342973110096397, 'nearly every day - worrying too much about different things': 0.05006275200939945, 'nearly every day - trouble relaxing': 0.04190766108574327, \"more than half of the days - being so restless that it's hard to sit still\": 0.03595425904885093, 'nearly every day - becoming easily annoyed or irritable': 0.02879649656866672, '3-4 times - felt overwhelmed by all you had to do': 0.03430790296949755, '9-10 times - felt exhausted (not from physical activity)': 0.05581918905643365, 'anorexia': 0.02601713121871922, 'anxiety disorder': 0.2237805910430838, 'ear infection': 0.024255619849589787, 'not at all - trouble concentrating on things, such as reading the newspaper or watching television': 0.05411488906634537, 'more than half of the days - trouble relaxing': 0.0443351998858063, 'several days - becoming easily annoyed or irritable': 0.0716356402558436, '5-6 times - felt very sad': 0.037427016850084836, 'more than half of the days - poor appetite or overeating': 0.04855661175341034, 'nearly every day - feeling bad about yourself or that you are a failure or have let yourself or your family down': 0.05824524280758718, 'excellent': 0.02760751447349758, '3-4 times - felt exhausted (not from physical activity)': 0.025593710018766105, '5-6 times - felt so depressed that it was difficult to function': 0.02980453740684503, 'depression': 0.19738475012648085, 'minimal depression': 1.0301985899535204, '25-34': 0.06614947921960115, 'not at all - feeling down, depressed, or hopeless': 0.05466892284114741, '7-8 times - felt overwhelmed by all you had to do': 0.04497936640789276, 'more than half of the days - feeling bad about yourself or that you are a failure or have let yourself or your family down': 0.05617826353689549, '1-2 times - felt overwhelmed by all you had to do': 0.02234874095506529, '1-2 times - felt exhausted (not from physical activity)': 0.026550463546281787, 'never - felt very sad': 0.03183699824461609, 'more than half of the days - feeling afraid as if something awful might happen': 0.03037831276015311, 'high blood pressure': 0.02519509632237846, 'several days - worrying too much about different things': 0.05875622044297022, '11 or more times - felt things were hopeless': 0.10895648983134204, '11 or more times - felt so depressed that it was difficult to function': 0.09327100306054464, '3-4 times - seriously considered attempting suicide': 0.012482024190884275, '1-2 times - attempted suicide': 0.007131029104810557, 'chronic fatigue syndrome': 0.02901120554372796, 'seasonal affect disorder': 0.07052347255830185, 'strep throat': 0.030609549709868733, 'fair': 0.08761944396455011, 'nearly every day - feeling down, depressed, or hopeless': 0.0525073244092589, '7-8 times - felt so depressed that it was difficult to function': 0.0274914200989757, 'bulimia': 0.0066990652458649175, 'not at all - feeling tired or having little energy': 0.023732866261359294, '9-10 times - felt so depressed that it was difficult to function': 0.026299283172244066, 'asthma': 0.05159116105190048, '3-4 times - felt things were hopeless': 0.05725825039507218, '5-6 times - felt things were hopeless': 0.03487512272988318, 'bronchitis': 0.011188642190074715, 'severe depression': 0.8593505300986313, 'poor': 0.024454633925606255, 'nearly every day - moving or speaking so slowly that other people could have noticed, or the opposite - being so fidgety or restless that you have been moving a lot more than usual?': 0.016049382716049384, 'more than half of the days - thoughts that you would be better off dead, or thoughts of hurting yourself in some way': 0.024069598186944798, '7-8 times - felt very sad': 0.04617919588129673, \"nearly every day - being so restless that it's hard to sit still\": 0.020801623541349568, 'nearly every day - feeling afraid as if something awful might happen': 0.028369248845095996, '7-8 times - seriously considered attempting suicide': 0.004593609627934571, 'nearly every day - little interest or pleasure in doing things': 0.04337847392179257, 'nearly every day - thoughts that you would be better off dead, or thoughts of hurting yourself in some way': 0.01728395061728395, 'high cholesterol': 0.02154225395349638, 'repetitive stress injury (e.g. carpal tunnel syndrome)': 0.022622582553703776, 'more than half of the days - moving or speaking so slowly that other people could have noticed, or the opposite - being so fidgety or restless that you have been moving a lot more than usual?': 0.025352336767774424, 'never - felt overwhelmed by all you had to do': 0.014548790237100696, 'never - felt exhausted (not from physical activity)': 0.022538004175915543, '35-44': 0.02206752653932904, '11 or more times - seriously considered attempting suicide': 0.006230565108075415, '5-6 times - seriously considered attempting suicide': 0.0023391812865497076, 'endometriosis': 0.0035030477780307054, '9-10 times - seriously considered attempting suicide': 0.001976284584980237})"
      ]
     },
     "execution_count": 130,
     "metadata": {},
     "output_type": "execute_result"
    }
   ],
   "source": [
    "degrees = graph.degree(weight=\"weight\")\n",
    "degrees"
   ]
  },
  {
   "cell_type": "code",
   "execution_count": 131,
   "id": "b8af3e50-3ddc-4316-afbc-face91077295",
   "metadata": {},
   "outputs": [
    {
     "data": {
      "image/png": "[encoded data removed]",
      "text/plain": [
       "<Figure size 640x480 with 1 Axes>"
      ]
     },
     "metadata": {},
     "output_type": "display_data"
    }
   ],
   "source": [
    "degrees_list = []\n",
    "\n",
    "for key, value in dict(degrees).items():\n",
    "    degrees_list.append(value)\n",
    "\n",
    "plt.hist(degrees_list,bins=20)\n",
    "plt.title(\"Degree Histogram (with weight)\")\n",
    "plt.xlabel(\"Degree\")\n",
    "plt.ylabel(\"Frequency\")\n",
    "plt.show()"
   ]
  },
  {
   "cell_type": "code",
   "execution_count": 132,
   "id": "24c0f439-1468-4e72-9d8f-e88201f89c49",
   "metadata": {},
   "outputs": [
    {
     "data": {
      "text/plain": [
       "[1.0386025122009173,\n",
       " 1.03729362715357,\n",
       " 1.0301985899535204,\n",
       " 0.9848167539267019,\n",
       " 0.9777777777777782,\n",
       " 0.9719626168224301,\n",
       " 0.9692508898879232,\n",
       " 0.9538305428716385,\n",
       " 0.8593505300986313,\n",
       " 0.42110561819705716,\n",
       " 0.3428734936276857,\n",
       " 0.3037790546373011,\n",
       " 0.2237805910430838,\n",
       " 0.21150293826969455,\n",
       " 0.19900248343492402,\n",
       " 0.19738475012648085,\n",
       " 0.19019701479800066,\n",
       " 0.16827786382074889,\n",
       " 0.16784279069755798,\n",
       " 0.14950918925454795]"
      ]
     },
     "execution_count": 132,
     "metadata": {},
     "output_type": "execute_result"
    }
   ],
   "source": [
    "degrees_list.sort(reverse=True)\n",
    "degrees_list[:20]"
   ]
  },
  {
   "cell_type": "code",
   "execution_count": 112,
   "id": "c4f34bf3-07ce-4cb4-b202-7920facc9ed6",
   "metadata": {
    "scrolled": true
   },
   "outputs": [
    {
     "data": {
      "text/plain": [
       "{'mild depression': 0.04712880347746511,\n",
       " 'very good': 0.5714285714285714,\n",
       " '18-24': 0.5277777777777778,\n",
       " 'minimal anxiety': 0.08713850837138508,\n",
       " 'several days - little interest or pleasure in doing things': 0,\n",
       " 'several days - feeling down, depressed, or hopeless': 0,\n",
       " 'not at all - trouble falling or staying asleep, or sleeping too much': 0,\n",
       " 'several days - feeling tired or having little energy': 0,\n",
       " 'not at all - poor appetite or overeating': 0,\n",
       " 'not at all - feeling bad about yourself or that you are a failure or have let yourself or your family down': 0,\n",
       " 'more than half of the days - trouble concentrating on things, such as reading the newspaper or watching television': 0,\n",
       " 'not at all - moving or speaking so slowly that other people could have noticed, or the opposite - being so fidgety or restless that you have been moving a lot more than usual?': 0,\n",
       " 'several days - thoughts that you would be better off dead, or thoughts of hurting yourself in some way': 0,\n",
       " 'not at all - feeling nervous, anxious, or on edge': 0,\n",
       " 'not at all - not being able to stop or control worrying': 0,\n",
       " 'not at all - worrying too much about different things': 0,\n",
       " 'not at all - trouble relaxing': 0,\n",
       " \"not at all - being so restless that it's hard to sit still\": 0,\n",
       " 'not at all - becoming easily annoyed or irritable': 0,\n",
       " 'not at all - feeling afraid as if something awful might happen': 0,\n",
       " 'never - felt things were hopeless': 0.5714285714285714,\n",
       " '11 or more times - felt overwhelmed by all you had to do': 0.5277777777777778,\n",
       " '5-6 times - felt exhausted (not from physical activity)': 0.5357142857142857,\n",
       " '3-4 times - felt very sad': 0.5357142857142857,\n",
       " 'never - felt so depressed that it was difficult to function': 0.5714285714285714,\n",
       " 'never - seriously considered attempting suicide': 0.5277777777777778,\n",
       " 'never - attempted suicide': 0.5277777777777778,\n",
       " 'substance abuse problem': 0.5714285714285714,\n",
       " 'back pain': 0.5277777777777778,\n",
       " 'moderately severe depression': 0.05502392344497608,\n",
       " 'good': 0.5277777777777778,\n",
       " 'more than half of the days - little interest or pleasure in doing things': 0,\n",
       " 'more than half of the days - feeling down, depressed, or hopeless': 0,\n",
       " 'nearly every day - trouble falling or staying asleep, or sleeping too much': 0,\n",
       " 'nearly every day - feeling tired or having little energy': 0,\n",
       " 'nearly every day - poor appetite or overeating': 0,\n",
       " 'several days - feeling bad about yourself or that you are a failure or have let yourself or your family down': 0,\n",
       " 'nearly every day - trouble concentrating on things, such as reading the newspaper or watching television': 0,\n",
       " 'several days - moving or speaking so slowly that other people could have noticed, or the opposite - being so fidgety or restless that you have been moving a lot more than usual?': 0,\n",
       " 'several days - feeling nervous, anxious, or on edge': 0,\n",
       " 'several days - feeling afraid as if something awful might happen': 0,\n",
       " '1-2 times - felt things were hopeless': 0.5357142857142857,\n",
       " '5-6 times - felt overwhelmed by all you had to do': 0.5357142857142857,\n",
       " '7-8 times - felt exhausted (not from physical activity)': 0.5714285714285714,\n",
       " '1-2 times - felt very sad': 0.5333333333333333,\n",
       " '1-2 times - felt so depressed that it was difficult to function': 0.5357142857142857,\n",
       " '1-2 times - seriously considered attempting suicide': 0.5277777777777778,\n",
       " 'moderate depression': 0.042828282828282827,\n",
       " 'mild anxiety': 0.06435137895812053,\n",
       " 'more than half of the days - trouble falling or staying asleep, or sleeping too much': 0,\n",
       " 'more than half of the days - feeling tired or having little energy': 0,\n",
       " 'several days - poor appetite or overeating': 0,\n",
       " 'several days - trouble concentrating on things, such as reading the newspaper or watching television': 0,\n",
       " 'not at all - thoughts that you would be better off dead, or thoughts of hurting yourself in some way': 0,\n",
       " 'more than half of the days - not being able to stop or control worrying': 0,\n",
       " 'more than half of the days - worrying too much about different things': 0,\n",
       " 'several days - trouble relaxing': 0,\n",
       " '7-8 times - felt things were hopeless': 0.5714285714285714,\n",
       " '11 or more times - felt exhausted (not from physical activity)': 0.5277777777777778,\n",
       " '9-10 times - felt very sad': 0.5714285714285714,\n",
       " 'sinus infection': 0.5277777777777778,\n",
       " 'moderate anxiety': 0.06498599439775911,\n",
       " 'more than half of the days - feeling nervous, anxious, or on edge': 0,\n",
       " 'several days - not being able to stop or control worrying': 0,\n",
       " \"several days - being so restless that it's hard to sit still\": 0,\n",
       " 'more than half of the days - becoming easily annoyed or irritable': 0,\n",
       " '9-10 times - felt things were hopeless': 0.5714285714285714,\n",
       " '9-10 times - felt overwhelmed by all you had to do': 0.5357142857142857,\n",
       " '11 or more times - felt very sad': 0.5277777777777778,\n",
       " '3-4 times - felt so depressed that it was difficult to function': 0.5714285714285714,\n",
       " 'allergy problems': 0.5277777777777778,\n",
       " 'severe anxiety': 0.07307692307692308,\n",
       " 'not at all - little interest or pleasure in doing things': 0,\n",
       " 'several days - trouble falling or staying asleep, or sleeping too much': 0,\n",
       " 'nearly every day - feeling nervous, anxious, or on edge': 0,\n",
       " 'nearly every day - not being able to stop or control worrying': 0,\n",
       " 'nearly every day - worrying too much about different things': 0,\n",
       " 'nearly every day - trouble relaxing': 0,\n",
       " \"more than half of the days - being so restless that it's hard to sit still\": 0,\n",
       " 'nearly every day - becoming easily annoyed or irritable': 0,\n",
       " '3-4 times - felt overwhelmed by all you had to do': 0.5714285714285714,\n",
       " '9-10 times - felt exhausted (not from physical activity)': 0.5277777777777778,\n",
       " 'anorexia': 0.6,\n",
       " 'anxiety disorder': 0.5277777777777778,\n",
       " 'ear infection': 0.5714285714285714,\n",
       " 'not at all - trouble concentrating on things, such as reading the newspaper or watching television': 0,\n",
       " 'more than half of the days - trouble relaxing': 0,\n",
       " 'several days - becoming easily annoyed or irritable': 0,\n",
       " '5-6 times - felt very sad': 0.5714285714285714,\n",
       " 'more than half of the days - poor appetite or overeating': 0,\n",
       " 'nearly every day - feeling bad about yourself or that you are a failure or have let yourself or your family down': 0,\n",
       " 'excellent': 0.5714285714285714,\n",
       " '3-4 times - felt exhausted (not from physical activity)': 0.6,\n",
       " '5-6 times - felt so depressed that it was difficult to function': 0.5714285714285714,\n",
       " 'depression': 0.5277777777777778,\n",
       " 'minimal depression': 0.06022282445046673,\n",
       " '25-34': 0.5277777777777778,\n",
       " 'not at all - feeling down, depressed, or hopeless': 0,\n",
       " '7-8 times - felt overwhelmed by all you had to do': 0.5357142857142857,\n",
       " 'more than half of the days - feeling bad about yourself or that you are a failure or have let yourself or your family down': 0,\n",
       " '1-2 times - felt overwhelmed by all you had to do': 0.6,\n",
       " '1-2 times - felt exhausted (not from physical activity)': 0.6,\n",
       " 'never - felt very sad': 0.5333333333333333,\n",
       " 'more than half of the days - feeling afraid as if something awful might happen': 0,\n",
       " 'high blood pressure': 0.5714285714285714,\n",
       " 'several days - worrying too much about different things': 0,\n",
       " '11 or more times - felt things were hopeless': 0.5277777777777778,\n",
       " '11 or more times - felt so depressed that it was difficult to function': 0.5277777777777778,\n",
       " '3-4 times - seriously considered attempting suicide': 0.5,\n",
       " '1-2 times - attempted suicide': 0.6666666666666666,\n",
       " 'chronic fatigue syndrome': 0.5714285714285714,\n",
       " 'seasonal affect disorder': 0.5277777777777778,\n",
       " 'strep throat': 0.5714285714285714,\n",
       " 'fair': 0.5277777777777778,\n",
       " 'nearly every day - feeling down, depressed, or hopeless': 0,\n",
       " '7-8 times - felt so depressed that it was difficult to function': 0.6,\n",
       " 'bulimia': 0.6666666666666666,\n",
       " 'not at all - feeling tired or having little energy': 0,\n",
       " '9-10 times - felt so depressed that it was difficult to function': 0.5714285714285714,\n",
       " 'asthma': 0.5714285714285714,\n",
       " '3-4 times - felt things were hopeless': 0.5277777777777778,\n",
       " '5-6 times - felt things were hopeless': 0.5714285714285714,\n",
       " 'bronchitis': 0.6666666666666666,\n",
       " 'severe depression': 0.07020408163265306,\n",
       " 'poor': 0.5333333333333333,\n",
       " 'nearly every day - moving or speaking so slowly that other people could have noticed, or the opposite - being so fidgety or restless that you have been moving a lot more than usual?': 0,\n",
       " 'more than half of the days - thoughts that you would be better off dead, or thoughts of hurting yourself in some way': 0,\n",
       " '7-8 times - felt very sad': 0.5357142857142857,\n",
       " \"nearly every day - being so restless that it's hard to sit still\": 0,\n",
       " 'nearly every day - feeling afraid as if something awful might happen': 0,\n",
       " '7-8 times - seriously considered attempting suicide': 1.0,\n",
       " 'nearly every day - little interest or pleasure in doing things': 0,\n",
       " 'nearly every day - thoughts that you would be better off dead, or thoughts of hurting yourself in some way': 0,\n",
       " 'high cholesterol': 0.6,\n",
       " 'repetitive stress injury (e.g. carpal tunnel syndrome)': 0.5714285714285714,\n",
       " 'more than half of the days - moving or speaking so slowly that other people could have noticed, or the opposite - being so fidgety or restless that you have been moving a lot more than usual?': 0,\n",
       " 'never - felt overwhelmed by all you had to do': 0.6666666666666666,\n",
       " 'never - felt exhausted (not from physical activity)': 0.5,\n",
       " '35-44': 0.6,\n",
       " '11 or more times - seriously considered attempting suicide': 1.0,\n",
       " '5-6 times - seriously considered attempting suicide': 0,\n",
       " 'endometriosis': 1.0,\n",
       " '9-10 times - seriously considered attempting suicide': 0}"
      ]
     },
     "execution_count": 112,
     "metadata": {},
     "output_type": "execute_result"
    }
   ],
   "source": [
    "clustering_coefficient = nx.clustering(graph, weight=\"weight\")\n",
    "clustering_coefficient"
   ]
  },
  {
   "cell_type": "code",
   "execution_count": 120,
   "id": "b47eebca-2240-4d92-8819-2b31c057243d",
   "metadata": {
    "scrolled": true
   },
   "outputs": [
    {
     "data": {
      "text/plain": [
       "[('7-8 times - seriously considered attempting suicide', 1.0),\n",
       " ('11 or more times - seriously considered attempting suicide', 1.0),\n",
       " ('endometriosis', 1.0),\n",
       " ('1-2 times - attempted suicide', 0.6666666666666666),\n",
       " ('bulimia', 0.6666666666666666),\n",
       " ('bronchitis', 0.6666666666666666),\n",
       " ('never - felt overwhelmed by all you had to do', 0.6666666666666666),\n",
       " ('anorexia', 0.6),\n",
       " ('3-4 times - felt exhausted (not from physical activity)', 0.6),\n",
       " ('1-2 times - felt overwhelmed by all you had to do', 0.6),\n",
       " ('1-2 times - felt exhausted (not from physical activity)', 0.6),\n",
       " ('7-8 times - felt so depressed that it was difficult to function', 0.6),\n",
       " ('high cholesterol', 0.6),\n",
       " ('35-44', 0.6),\n",
       " ('very good', 0.5714285714285714),\n",
       " ('never - felt things were hopeless', 0.5714285714285714),\n",
       " ('never - felt so depressed that it was difficult to function',\n",
       "  0.5714285714285714),\n",
       " ('substance abuse problem', 0.5714285714285714),\n",
       " ('7-8 times - felt exhausted (not from physical activity)',\n",
       "  0.5714285714285714),\n",
       " ('7-8 times - felt things were hopeless', 0.5714285714285714),\n",
       " ('9-10 times - felt very sad', 0.5714285714285714),\n",
       " ('9-10 times - felt things were hopeless', 0.5714285714285714),\n",
       " ('3-4 times - felt so depressed that it was difficult to function',\n",
       "  0.5714285714285714),\n",
       " ('3-4 times - felt overwhelmed by all you had to do', 0.5714285714285714),\n",
       " ('ear infection', 0.5714285714285714),\n",
       " ('5-6 times - felt very sad', 0.5714285714285714),\n",
       " ('excellent', 0.5714285714285714),\n",
       " ('5-6 times - felt so depressed that it was difficult to function',\n",
       "  0.5714285714285714),\n",
       " ('high blood pressure', 0.5714285714285714),\n",
       " ('chronic fatigue syndrome', 0.5714285714285714),\n",
       " ('strep throat', 0.5714285714285714),\n",
       " ('9-10 times - felt so depressed that it was difficult to function',\n",
       "  0.5714285714285714),\n",
       " ('asthma', 0.5714285714285714),\n",
       " ('5-6 times - felt things were hopeless', 0.5714285714285714),\n",
       " ('repetitive stress injury (e.g. carpal tunnel syndrome)',\n",
       "  0.5714285714285714),\n",
       " ('5-6 times - felt exhausted (not from physical activity)',\n",
       "  0.5357142857142857),\n",
       " ('3-4 times - felt very sad', 0.5357142857142857),\n",
       " ('1-2 times - felt things were hopeless', 0.5357142857142857),\n",
       " ('5-6 times - felt overwhelmed by all you had to do', 0.5357142857142857),\n",
       " ('1-2 times - felt so depressed that it was difficult to function',\n",
       "  0.5357142857142857),\n",
       " ('9-10 times - felt overwhelmed by all you had to do', 0.5357142857142857),\n",
       " ('7-8 times - felt overwhelmed by all you had to do', 0.5357142857142857),\n",
       " ('7-8 times - felt very sad', 0.5357142857142857),\n",
       " ('1-2 times - felt very sad', 0.5333333333333333),\n",
       " ('never - felt very sad', 0.5333333333333333),\n",
       " ('poor', 0.5333333333333333),\n",
       " ('18-24', 0.5277777777777778),\n",
       " ('11 or more times - felt overwhelmed by all you had to do',\n",
       "  0.5277777777777778),\n",
       " ('never - seriously considered attempting suicide', 0.5277777777777778),\n",
       " ('never - attempted suicide', 0.5277777777777778),\n",
       " ('back pain', 0.5277777777777778),\n",
       " ('good', 0.5277777777777778),\n",
       " ('1-2 times - seriously considered attempting suicide', 0.5277777777777778),\n",
       " ('11 or more times - felt exhausted (not from physical activity)',\n",
       "  0.5277777777777778),\n",
       " ('sinus infection', 0.5277777777777778),\n",
       " ('11 or more times - felt very sad', 0.5277777777777778),\n",
       " ('allergy problems', 0.5277777777777778),\n",
       " ('9-10 times - felt exhausted (not from physical activity)',\n",
       "  0.5277777777777778),\n",
       " ('anxiety disorder', 0.5277777777777778),\n",
       " ('depression', 0.5277777777777778),\n",
       " ('25-34', 0.5277777777777778),\n",
       " ('11 or more times - felt things were hopeless', 0.5277777777777778),\n",
       " ('11 or more times - felt so depressed that it was difficult to function',\n",
       "  0.5277777777777778),\n",
       " ('seasonal affect disorder', 0.5277777777777778),\n",
       " ('fair', 0.5277777777777778),\n",
       " ('3-4 times - felt things were hopeless', 0.5277777777777778),\n",
       " ('3-4 times - seriously considered attempting suicide', 0.5),\n",
       " ('never - felt exhausted (not from physical activity)', 0.5),\n",
       " ('minimal anxiety', 0.08713850837138508),\n",
       " ('severe anxiety', 0.07307692307692308),\n",
       " ('severe depression', 0.07020408163265306),\n",
       " ('moderate anxiety', 0.06498599439775911),\n",
       " ('mild anxiety', 0.06435137895812053),\n",
       " ('minimal depression', 0.06022282445046673),\n",
       " ('moderately severe depression', 0.05502392344497608),\n",
       " ('mild depression', 0.04712880347746511),\n",
       " ('moderate depression', 0.042828282828282827),\n",
       " ('several days - little interest or pleasure in doing things', 0),\n",
       " ('several days - feeling down, depressed, or hopeless', 0),\n",
       " ('not at all - trouble falling or staying asleep, or sleeping too much', 0)]"
      ]
     },
     "execution_count": 120,
     "metadata": {},
     "output_type": "execute_result"
    }
   ],
   "source": [
    "clustering_coefficient_sort = []\n",
    "\n",
    "for node in clustering_coefficient:\n",
    "    clustering_coefficient_sort.append((node,clustering_coefficient[node]))\n",
    "\n",
    "clustering_coefficient_sort.sort(reverse=True, key=sortTuple)\n",
    "clustering_coefficient_sort[:80]"
   ]
  },
  {
   "cell_type": "code",
   "execution_count": 108,
   "id": "bafaee66-a17f-48f1-baee-3a8e29695d43",
   "metadata": {},
   "outputs": [
    {
     "name": "stdout",
     "output_type": "stream",
     "text": [
      "../data/graph-mental-health.html\n"
     ]
    },
    {
     "data": {
      "text/html": [
       "\n",
       "        <iframe\n",
       "            width=\"1000\"\n",
       "            height=\"800\"\n",
       "            src=\"../data/graph-mental-health.html\"\n",
       "            frameborder=\"0\"\n",
       "            allowfullscreen\n",
       "            \n",
       "        ></iframe>\n",
       "        "
      ],
      "text/plain": [
       "<IPython.lib.display.IFrame at 0x79bf3e5e0d90>"
      ]
     },
     "execution_count": 108,
     "metadata": {},
     "output_type": "execute_result"
    }
   ],
   "source": [
    "from IPython.display import IFrame\n",
    "\n",
    "nt = Network(height=\"750px\", width=\"100%\")\n",
    "\n",
    "nt.from_nx(graph, \n",
    "           edge_scaling=True,\n",
    "          )\n",
    "nt.force_atlas_2based(central_gravity=0.015, gravity=-70)\n",
    "nt.show(\"../data/graph-mental-health.html\",notebook=False)\n",
    "\n",
    "IFrame(\"../data/graph-mental-health.html\", width=1000, height=800)"
   ]
  },
  {
   "cell_type": "code",
   "execution_count": 109,
   "id": "70a9e1ec-d5c2-4324-81f2-b19642778936",
   "metadata": {},
   "outputs": [
    {
     "name": "stdout",
     "output_type": "stream",
     "text": [
      "Opening in existing browser session.\n"
     ]
    }
   ],
   "source": [
    "graph_size_degree = nx.Graph()\n",
    "\n",
    "for triple in triples:\n",
    "    try:\n",
    "        if co_occurrences[\"/\".join(list(triple))] > q1_occurrence:\n",
    "            node_1 = triple[0]\n",
    "            node_2 = triple[2]\n",
    "    \n",
    "            graph_size_degree.add_node(node_1, title=node_1, color=get_color(node_1), size=degrees[node_1] * 100, label=node_1)\n",
    "            graph_size_degree.add_node(node_2, title=node_2, color=get_color(node_2), size=degrees[node_2] * 100, label=node_2)\n",
    "            graph_size_degree.add_edge(node_1, node_2, title=triple[1],\n",
    "                           weight=co_probabilities[\"/\".join(list(triple))] * 100,\n",
    "                           occur=co_occurrences[\"/\".join(list(triple))],\n",
    "                           prob=co_probabilities[\"/\".join(list(triple))],\n",
    "                           spec=specificities[\"/\".join(list(triple))],\n",
    "                           relia=reliabilities[\"/\".join(list(triple))]\n",
    "                          )\n",
    "    except Exception as e:\n",
    "        print(e)\n",
    "        print(f'Error in item: {item}')\n"
   ]
  },
  {
   "cell_type": "code",
   "execution_count": 110,
   "id": "d4675305-283a-40da-a8eb-a5810cec5042",
   "metadata": {},
   "outputs": [
    {
     "data": {
      "text/plain": [
       "True"
      ]
     },
     "execution_count": 110,
     "metadata": {},
     "output_type": "execute_result"
    }
   ],
   "source": [
    "nx.is_weighted(graph_size_degree)"
   ]
  },
  {
   "cell_type": "code",
   "execution_count": 111,
   "id": "1aec16e4-b42e-4774-8410-b285711c38d0",
   "metadata": {},
   "outputs": [],
   "source": [
    "# nt = Network(height=\"750px\", width=\"100%\")\n",
    "\n",
    "# nt.from_nx(graph_size_degree, \n",
    "#            edge_scaling=True,\n",
    "#           )\n",
    "\n",
    "# nt.force_atlas_2based(central_gravity=0.015, gravity=-70)\n",
    "# nt.show(\"../data/graph-mental-health-degree.html\",notebook=False)\n",
    "\n",
    "# IFrame(\"../data/graph-mental-health-degree.html\", width=1000, height=800)"
   ]
  }
 ],
 "metadata": {
  "kernelspec": {
   "display_name": "Python 3 (ipykernel)",
   "language": "python",
   "name": "python3"
  },
  "language_info": {
   "codemirror_mode": {
    "name": "ipython",
    "version": 3
   },
   "file_extension": ".py",
   "mimetype": "text/x-python",
   "name": "python",
   "nbconvert_exporter": "python",
   "pygments_lexer": "ipython3",
   "version": "3.10.12"
  }
 },
 "nbformat": 4,
 "nbformat_minor": 5
}
